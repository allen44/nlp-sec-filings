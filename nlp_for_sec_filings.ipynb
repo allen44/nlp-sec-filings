{
  "nbformat": 4,
  "nbformat_minor": 0,
  "metadata": {
    "colab": {
      "name": "nlp-for-sec-filings.ipynb",
      "provenance": [],
      "collapsed_sections": [],
      "toc_visible": true,
      "machine_shape": "hm",
      "include_colab_link": true
    },
    "kernelspec": {
      "display_name": "Python 3",
      "name": "python3"
    }
  },
  "cells": [
    {
      "cell_type": "markdown",
      "metadata": {
        "id": "view-in-github",
        "colab_type": "text"
      },
      "source": [
        "<a href=\"https://colab.research.google.com/github/allen44/nlp-sec-filings/blob/main/nlp_for_sec_filings.ipynb\" target=\"_parent\"><img src=\"https://colab.research.google.com/assets/colab-badge.svg\" alt=\"Open In Colab\"/></a>"
      ]
    },
    {
      "cell_type": "markdown",
      "metadata": {
        "id": "UuUOZFOW5_NP"
      },
      "source": [
        "# NLP on Financial Statements\n",
        "\n",
        "## Packages\n",
        "The `project_helper` module contains utility functions and graph functions. The `project_tests` contains the unit tests for all the problems.\n",
        "\n",
        "### Install Packages"
      ]
    },
    {
      "cell_type": "markdown",
      "metadata": {
        "id": "Fa4RgA0wx_mH"
      },
      "source": [
        ""
      ]
    },
    {
      "cell_type": "markdown",
      "metadata": {
        "id": "R_kploq_8bgn"
      },
      "source": [
        "### Mount gDrive"
      ]
    },
    {
      "cell_type": "code",
      "metadata": {
        "colab": {
          "base_uri": "https://localhost:8080/"
        },
        "id": "xSdi4Vh05_NV",
        "outputId": "14e5b250-6179-4580-c972-2ee8eb3c67e8"
      },
      "source": [
        "from google.colab import drive\n",
        "drive.mount('/content/drive')\n",
        "\n",
        "% cd '/content/drive/MyDrive/Colab Notebooks/nlp-for-sec-filings'\n",
        "% ls"
      ],
      "execution_count": 1,
      "outputs": [
        {
          "output_type": "stream",
          "text": [
            "Drive already mounted at /content/drive; to attempt to forcibly remount, call drive.mount(\"/content/drive\", force_remount=True).\n",
            "/content/drive/MyDrive/Colab Notebooks/nlp-for-sec-filings\n",
            " Bag_of_Word_Exercises.ipynb                  \u001b[0m\u001b[01;34m__pycache__\u001b[0m/\n",
            " config.py                                    Readability_Exercises.ipynb\n",
            " \u001b[01;34mData\u001b[0m/                                        README.md\n",
            " LoughranMcDonald_MasterDictionary_2018.csv  'request library.ipynb'\n",
            " nlp-for-sec-filings.ipynb                    requirements.txt\n",
            " project_5_starter-Copy1.ipynb                STNG.ipynb\n",
            " project_helper.py                            tests.py\n",
            " project_tests.py\n"
          ],
          "name": "stdout"
        }
      ]
    },
    {
      "cell_type": "code",
      "metadata": {
        "scrolled": true,
        "colab": {
          "base_uri": "https://localhost:8080/"
        },
        "id": "1hsGSTuh5_NY",
        "outputId": "227a6fd7-d735-424a-88b1-201ee1ecedf4"
      },
      "source": [
        "!pip install -U -r requirements.txt\n",
        "!pip install retrying"
      ],
      "execution_count": 2,
      "outputs": [
        {
          "output_type": "stream",
          "text": [
            "Requirement already up-to-date: alphalens>=0.3.2 in /usr/local/lib/python3.7/dist-packages (from -r requirements.txt (line 1)) (0.4.0)\n",
            "Requirement already up-to-date: nltk>=3.3.0 in /usr/local/lib/python3.7/dist-packages (from -r requirements.txt (line 2)) (3.6.2)\n",
            "Requirement already up-to-date: numpy>=1.15.4 in /usr/local/lib/python3.7/dist-packages (from -r requirements.txt (line 3)) (1.20.2)\n",
            "Requirement already up-to-date: ratelimit>=2.2.0 in /usr/local/lib/python3.7/dist-packages (from -r requirements.txt (line 4)) (2.2.1)\n",
            "Requirement already up-to-date: requests>=2.18.4 in /usr/local/lib/python3.7/dist-packages (from -r requirements.txt (line 5)) (2.25.1)\n",
            "Requirement already up-to-date: scikit-learn==0.24 in /usr/local/lib/python3.7/dist-packages (from -r requirements.txt (line 6)) (0.24.0)\n",
            "Requirement already up-to-date: six>=1.11.0 in /usr/local/lib/python3.7/dist-packages (from -r requirements.txt (line 7)) (1.15.0)\n",
            "Requirement already up-to-date: tqdm>=4.19.5 in /usr/local/lib/python3.7/dist-packages (from -r requirements.txt (line 8)) (4.60.0)\n",
            "Requirement already up-to-date: pandas-datareader>=0.1 in /usr/local/lib/python3.7/dist-packages (from -r requirements.txt (line 9)) (0.9.0)\n",
            "Requirement already up-to-date: yfinance>=0.1 in /usr/local/lib/python3.7/dist-packages (from -r requirements.txt (line 10)) (0.1.59)\n",
            "Requirement already satisfied, skipping upgrade: seaborn>=0.6.0 in /usr/local/lib/python3.7/dist-packages (from alphalens>=0.3.2->-r requirements.txt (line 1)) (0.11.1)\n",
            "Requirement already satisfied, skipping upgrade: pandas>=0.18.0 in /usr/local/lib/python3.7/dist-packages (from alphalens>=0.3.2->-r requirements.txt (line 1)) (1.2.4)\n",
            "Requirement already satisfied, skipping upgrade: empyrical>=0.5.0 in /usr/local/lib/python3.7/dist-packages (from alphalens>=0.3.2->-r requirements.txt (line 1)) (0.5.5)\n",
            "Requirement already satisfied, skipping upgrade: IPython>=3.2.3 in /usr/local/lib/python3.7/dist-packages (from alphalens>=0.3.2->-r requirements.txt (line 1)) (5.5.0)\n",
            "Requirement already satisfied, skipping upgrade: statsmodels>=0.6.1 in /usr/local/lib/python3.7/dist-packages (from alphalens>=0.3.2->-r requirements.txt (line 1)) (0.10.2)\n",
            "Requirement already satisfied, skipping upgrade: matplotlib>=1.4.0 in /usr/local/lib/python3.7/dist-packages (from alphalens>=0.3.2->-r requirements.txt (line 1)) (3.2.2)\n",
            "Requirement already satisfied, skipping upgrade: scipy>=0.14.0 in /usr/local/lib/python3.7/dist-packages (from alphalens>=0.3.2->-r requirements.txt (line 1)) (1.4.1)\n",
            "Requirement already satisfied, skipping upgrade: regex in /usr/local/lib/python3.7/dist-packages (from nltk>=3.3.0->-r requirements.txt (line 2)) (2019.12.20)\n",
            "Requirement already satisfied, skipping upgrade: click in /usr/local/lib/python3.7/dist-packages (from nltk>=3.3.0->-r requirements.txt (line 2)) (7.1.2)\n",
            "Requirement already satisfied, skipping upgrade: joblib in /usr/local/lib/python3.7/dist-packages (from nltk>=3.3.0->-r requirements.txt (line 2)) (1.0.1)\n",
            "Requirement already satisfied, skipping upgrade: idna<3,>=2.5 in /usr/local/lib/python3.7/dist-packages (from requests>=2.18.4->-r requirements.txt (line 5)) (2.10)\n",
            "Requirement already satisfied, skipping upgrade: certifi>=2017.4.17 in /usr/local/lib/python3.7/dist-packages (from requests>=2.18.4->-r requirements.txt (line 5)) (2020.12.5)\n",
            "Requirement already satisfied, skipping upgrade: chardet<5,>=3.0.2 in /usr/local/lib/python3.7/dist-packages (from requests>=2.18.4->-r requirements.txt (line 5)) (3.0.4)\n",
            "Requirement already satisfied, skipping upgrade: urllib3<1.27,>=1.21.1 in /usr/local/lib/python3.7/dist-packages (from requests>=2.18.4->-r requirements.txt (line 5)) (1.24.3)\n",
            "Requirement already satisfied, skipping upgrade: threadpoolctl>=2.0.0 in /usr/local/lib/python3.7/dist-packages (from scikit-learn==0.24->-r requirements.txt (line 6)) (2.1.0)\n",
            "Requirement already satisfied, skipping upgrade: lxml in /usr/local/lib/python3.7/dist-packages (from pandas-datareader>=0.1->-r requirements.txt (line 9)) (4.2.6)\n",
            "Requirement already satisfied, skipping upgrade: multitasking>=0.0.7 in /usr/local/lib/python3.7/dist-packages (from yfinance>=0.1->-r requirements.txt (line 10)) (0.0.9)\n",
            "Requirement already satisfied, skipping upgrade: pytz>=2017.3 in /usr/local/lib/python3.7/dist-packages (from pandas>=0.18.0->alphalens>=0.3.2->-r requirements.txt (line 1)) (2018.9)\n",
            "Requirement already satisfied, skipping upgrade: python-dateutil>=2.7.3 in /usr/local/lib/python3.7/dist-packages (from pandas>=0.18.0->alphalens>=0.3.2->-r requirements.txt (line 1)) (2.8.1)\n",
            "Requirement already satisfied, skipping upgrade: setuptools>=18.5 in /usr/local/lib/python3.7/dist-packages (from IPython>=3.2.3->alphalens>=0.3.2->-r requirements.txt (line 1)) (56.0.0)\n",
            "Requirement already satisfied, skipping upgrade: decorator in /usr/local/lib/python3.7/dist-packages (from IPython>=3.2.3->alphalens>=0.3.2->-r requirements.txt (line 1)) (4.4.2)\n",
            "Requirement already satisfied, skipping upgrade: prompt-toolkit<2.0.0,>=1.0.4 in /usr/local/lib/python3.7/dist-packages (from IPython>=3.2.3->alphalens>=0.3.2->-r requirements.txt (line 1)) (1.0.18)\n",
            "Requirement already satisfied, skipping upgrade: pickleshare in /usr/local/lib/python3.7/dist-packages (from IPython>=3.2.3->alphalens>=0.3.2->-r requirements.txt (line 1)) (0.7.5)\n",
            "Requirement already satisfied, skipping upgrade: traitlets>=4.2 in /usr/local/lib/python3.7/dist-packages (from IPython>=3.2.3->alphalens>=0.3.2->-r requirements.txt (line 1)) (5.0.5)\n",
            "Requirement already satisfied, skipping upgrade: simplegeneric>0.8 in /usr/local/lib/python3.7/dist-packages (from IPython>=3.2.3->alphalens>=0.3.2->-r requirements.txt (line 1)) (0.8.1)\n",
            "Requirement already satisfied, skipping upgrade: pygments in /usr/local/lib/python3.7/dist-packages (from IPython>=3.2.3->alphalens>=0.3.2->-r requirements.txt (line 1)) (2.6.1)\n",
            "Requirement already satisfied, skipping upgrade: pexpect; sys_platform != \"win32\" in /usr/local/lib/python3.7/dist-packages (from IPython>=3.2.3->alphalens>=0.3.2->-r requirements.txt (line 1)) (4.8.0)\n",
            "Requirement already satisfied, skipping upgrade: patsy>=0.4.0 in /usr/local/lib/python3.7/dist-packages (from statsmodels>=0.6.1->alphalens>=0.3.2->-r requirements.txt (line 1)) (0.5.1)\n",
            "Requirement already satisfied, skipping upgrade: pyparsing!=2.0.4,!=2.1.2,!=2.1.6,>=2.0.1 in /usr/local/lib/python3.7/dist-packages (from matplotlib>=1.4.0->alphalens>=0.3.2->-r requirements.txt (line 1)) (2.4.7)\n",
            "Requirement already satisfied, skipping upgrade: cycler>=0.10 in /usr/local/lib/python3.7/dist-packages (from matplotlib>=1.4.0->alphalens>=0.3.2->-r requirements.txt (line 1)) (0.10.0)\n",
            "Requirement already satisfied, skipping upgrade: kiwisolver>=1.0.1 in /usr/local/lib/python3.7/dist-packages (from matplotlib>=1.4.0->alphalens>=0.3.2->-r requirements.txt (line 1)) (1.3.1)\n",
            "Requirement already satisfied, skipping upgrade: wcwidth in /usr/local/lib/python3.7/dist-packages (from prompt-toolkit<2.0.0,>=1.0.4->IPython>=3.2.3->alphalens>=0.3.2->-r requirements.txt (line 1)) (0.2.5)\n",
            "Requirement already satisfied, skipping upgrade: ipython-genutils in /usr/local/lib/python3.7/dist-packages (from traitlets>=4.2->IPython>=3.2.3->alphalens>=0.3.2->-r requirements.txt (line 1)) (0.2.0)\n",
            "Requirement already satisfied, skipping upgrade: ptyprocess>=0.5 in /usr/local/lib/python3.7/dist-packages (from pexpect; sys_platform != \"win32\"->IPython>=3.2.3->alphalens>=0.3.2->-r requirements.txt (line 1)) (0.7.0)\n",
            "Requirement already satisfied: retrying in /usr/local/lib/python3.7/dist-packages (1.3.3)\n",
            "Requirement already satisfied: six>=1.7.0 in /usr/local/lib/python3.7/dist-packages (from retrying) (1.15.0)\n"
          ],
          "name": "stdout"
        }
      ]
    },
    {
      "cell_type": "code",
      "metadata": {
        "colab": {
          "base_uri": "https://localhost:8080/"
        },
        "id": "bJtyEx93vv63",
        "outputId": "e5faef32-150f-42ab-fb3a-f51223f5bd22"
      },
      "source": [
        "!pip install -U  pandas"
      ],
      "execution_count": 3,
      "outputs": [
        {
          "output_type": "stream",
          "text": [
            "Requirement already up-to-date: pandas in /usr/local/lib/python3.7/dist-packages (1.2.4)\n",
            "Requirement already satisfied, skipping upgrade: python-dateutil>=2.7.3 in /usr/local/lib/python3.7/dist-packages (from pandas) (2.8.1)\n",
            "Requirement already satisfied, skipping upgrade: pytz>=2017.3 in /usr/local/lib/python3.7/dist-packages (from pandas) (2018.9)\n",
            "Requirement already satisfied, skipping upgrade: numpy>=1.16.5 in /usr/local/lib/python3.7/dist-packages (from pandas) (1.20.2)\n",
            "Requirement already satisfied, skipping upgrade: six>=1.5 in /usr/local/lib/python3.7/dist-packages (from python-dateutil>=2.7.3->pandas) (1.15.0)\n"
          ],
          "name": "stdout"
        }
      ]
    },
    {
      "cell_type": "markdown",
      "metadata": {
        "id": "79wPiv445_NZ"
      },
      "source": [
        "### Load Packages"
      ]
    },
    {
      "cell_type": "code",
      "metadata": {
        "id": "Swz1Od-P5_Na"
      },
      "source": [
        "import nltk\n",
        "import numpy as np\n",
        "import pandas as pd\n",
        "import pickle\n",
        "#import pprintcvxpy \n",
        "import pprint\n",
        "import project_helper\n",
        "import project_tests\n",
        "import retrying\n",
        "\n",
        "from tqdm import tqdm"
      ],
      "execution_count": 4,
      "outputs": []
    },
    {
      "cell_type": "markdown",
      "metadata": {
        "id": "iabyxt5A5_Nb"
      },
      "source": [
        "### Download NLP Corpora\n",
        "You'll need two corpora to run this project: the stopwords corpus for removing stopwords and wordnet for lemmatizing."
      ]
    },
    {
      "cell_type": "code",
      "metadata": {
        "colab": {
          "base_uri": "https://localhost:8080/"
        },
        "id": "JekNHhch5_Nb",
        "outputId": "3b85fa6a-b83d-46f9-e168-3457ef77fb36"
      },
      "source": [
        "nltk.download('stopwords')\n",
        "nltk.download('wordnet')"
      ],
      "execution_count": 5,
      "outputs": [
        {
          "output_type": "stream",
          "text": [
            "[nltk_data] Downloading package stopwords to /root/nltk_data...\n",
            "[nltk_data]   Package stopwords is already up-to-date!\n",
            "[nltk_data] Downloading package wordnet to /root/nltk_data...\n",
            "[nltk_data]   Package wordnet is already up-to-date!\n"
          ],
          "name": "stderr"
        },
        {
          "output_type": "execute_result",
          "data": {
            "text/plain": [
              "True"
            ]
          },
          "metadata": {
            "tags": []
          },
          "execution_count": 5
        }
      ]
    },
    {
      "cell_type": "markdown",
      "metadata": {
        "id": "T0_rB2xU5_Nc"
      },
      "source": [
        "## Get 10ks\n",
        "We'll be running NLP analysis on 10-k documents. To do that, we first need to download the documents. For this project, we'll download 10-ks for a few companies. To lookup documents for these companies, we'll use their CIK. If you would like to run this against other stocks, we've provided the dict `additional_cik` for more stocks. However, the more stocks you try, the long it will take to run."
      ]
    },
    {
      "cell_type": "code",
      "metadata": {
        "id": "A7LBB-3d5_Nc"
      },
      "source": [
        "cik_lookup = { 'AMZN': '0001018724', 'STNG':'0001483934' }\n",
        "\n",
        "cik_lookup1 = {\n",
        "    'AMZN': '0001018724',\n",
        "    'BMY': '0000014272',   \n",
        "    'CNP': '0001130310',\n",
        "    'CVX': '0000093410',\n",
        "    'FL': '0000850209',\n",
        "    'STNG':'0001483934',\n",
        "    'HON': '0000773840'}\n",
        "\n",
        "additional_cik = {\n",
        "    'AEP': '0000004904',\n",
        "    'AXP': '0000004962',\n",
        "    'BA': '0000012927', \n",
        "    'BK': '0001390777',\n",
        "    'CAT': '0000018230',\n",
        "    'DE': '0000315189',\n",
        "    'DIS': '0001001039',\n",
        "    'DTE': '0000936340',\n",
        "    'ED': '0001047862',\n",
        "    'EMR': '0000032604',\n",
        "    'ETN': '0001551182',\n",
        "    'GE': '0000040545',\n",
        "    'IBM': '0000051143',\n",
        "    'IP': '0000051434',\n",
        "    'JNJ': '0000200406',\n",
        "    # 'KO': '0000021344',\n",
        "    # 'LLY': '0000059478',\n",
        "    # 'MCD': '0000063908',\n",
        "    # 'MO': '0000764180',\n",
        "    # 'MRK': '0000310158',\n",
        "    # 'MRO': '0000101778',\n",
        "    # 'PCG': '0001004980',\n",
        "    # 'PEP': '0000077476',\n",
        "    # 'PFE': '0000078003',\n",
        "    # 'PG': '0000080424',\n",
        "    # 'PNR': '0000077360',\n",
        "    # 'STNG':'0001483934',\n",
        "    # 'SYY': '0000096021',\n",
        "    # 'TXN': '0000097476',\n",
        "    # 'UTX': '0000101829',\n",
        "    # 'WFC': '0000072971',\n",
        "    # 'WMT': '0000104169',\n",
        "    # 'WY': '0000106535',\n",
        "    # 'XOM': '0000034088'\n",
        "    }"
      ],
      "execution_count": 6,
      "outputs": []
    },
    {
      "cell_type": "markdown",
      "metadata": {
        "id": "zR8DsScg5_Nc"
      },
      "source": [
        "### Get list of 10-ks\n",
        "The SEC has a limit on the number of calls you can make to the website per second. In order to avoid hiding that limit, we've created the `SecAPI` class. This will cache data from the SEC and prevent you from going over the limit."
      ]
    },
    {
      "cell_type": "code",
      "metadata": {
        "id": "euz-R-C35_Nd"
      },
      "source": [
        "sec_api = project_helper.SecAPI()"
      ],
      "execution_count": 7,
      "outputs": []
    },
    {
      "cell_type": "markdown",
      "metadata": {
        "id": "3280g5zU5_Nd"
      },
      "source": [
        "With the class constructed, let's pull a list of filled 10-ks from the SEC for each company."
      ]
    },
    {
      "cell_type": "code",
      "metadata": {
        "id": "ZSNp634q5_Nd",
        "colab": {
          "base_uri": "https://localhost:8080/"
        },
        "outputId": "08da06d1-96cd-4c1d-91eb-6230b9f000fd"
      },
      "source": [
        "from bs4 import BeautifulSoup\n",
        "\n",
        "@retrying.retry\n",
        "def get_sec_data(cik, doc_type, start=0, count=60, sec_api=sec_api):\n",
        "    newest_pricing_data = pd.to_datetime('2021-04-26')\n",
        "    \n",
        "    rss_url = 'https://www.sec.gov/cgi-bin/browse-edgar?action=getcompany' \\\n",
        "        f'&CIK={cik}&type={doc_type}&start={start}&count={count}' \\\n",
        "        '&owner=exclude&output=atom'\n",
        "     \n",
        "    print(rss_url)\n",
        "    sec_data = sec_api.get(rss_url)\n",
        "\n",
        "    # if request doesn't work, wait and try again shortly, \n",
        "    # via retyring.retry decorator\n",
        "    \n",
        "    try:\n",
        "      # print('using encoding with ascii')\n",
        "      feed = BeautifulSoup(sec_data.encode('utf-8'), 'xml').feed\n",
        "      if type(feed)!=None:\n",
        "        entries = [\n",
        "            (\n",
        "                entry.content.find('filing-href').getText(),\n",
        "                entry.content.find('filing-type').getText(),\n",
        "                entry.content.find('filing-date').getText())\n",
        "            for entry in feed.find_all('entry', recursive=False)\n",
        "            \n",
        "            if pd.to_datetime(entry.content.find('filing-date').getText()) <= newest_pricing_data]\n",
        "    except UnicodeError:\n",
        "      print('using encoding with utf-8')\n",
        "      feed = BeautifulSoup(sec_data.encode('utf-8'), 'xml').feed\n",
        "      if type(feed)!=None:\n",
        "        entries = [\n",
        "            (\n",
        "                entry.content.find('filing-href').getText(),\n",
        "                entry.content.find('filing-type').getText(),\n",
        "                entry.content.find('filing-date').getText())\n",
        "            for entry in feed.find_all('entry', recursive=False)\n",
        "            \n",
        "            if pd.to_datetime(entry.content.find('filing-date').getText()) <= newest_pricing_data]\n",
        "    return entries\n",
        "\n",
        "def test_get_sec_data(cik='0001483934', doc_type='10-k', start=0, count=60):\n",
        "  sec_api = project_helper.SecAPI()\n",
        "  get_sec_data(cik=list(additional_cik.keys())[0], doc_type='10-k')\n",
        "  get_sec_data(cik=list(additional_cik.keys())[0], doc_type='20-f')\n",
        "  get_sec_data(cik=list(additional_cik.keys())[1], doc_type='10-k')\n",
        "  get_sec_data(cik=list(additional_cik.keys())[1], doc_type='20-f')\n",
        "  return\n",
        "\n",
        "test_get_sec_data()\n",
        "\n"
      ],
      "execution_count": 8,
      "outputs": [
        {
          "output_type": "stream",
          "text": [
            "https://www.sec.gov/cgi-bin/browse-edgar?action=getcompany&CIK=AEP&type=10-k&start=0&count=60&owner=exclude&output=atom\n",
            "https://www.sec.gov/cgi-bin/browse-edgar?action=getcompany&CIK=AEP&type=10-k&start=0&count=60&owner=exclude&output=atom\n",
            "https://www.sec.gov/cgi-bin/browse-edgar?action=getcompany&CIK=AEP&type=20-f&start=0&count=60&owner=exclude&output=atom\n",
            "https://www.sec.gov/cgi-bin/browse-edgar?action=getcompany&CIK=AXP&type=10-k&start=0&count=60&owner=exclude&output=atom\n",
            "https://www.sec.gov/cgi-bin/browse-edgar?action=getcompany&CIK=AXP&type=10-k&start=0&count=60&owner=exclude&output=atom\n",
            "https://www.sec.gov/cgi-bin/browse-edgar?action=getcompany&CIK=AXP&type=20-f&start=0&count=60&owner=exclude&output=atom\n"
          ],
          "name": "stdout"
        }
      ]
    },
    {
      "cell_type": "markdown",
      "metadata": {
        "id": "OBFeAOot5_Nd"
      },
      "source": [
        "Let's pull the list using the `get_sec_data` function, then display some of the results. For displaying some of the data, we'll use Amazon as an example. "
      ]
    },
    {
      "cell_type": "code",
      "metadata": {
        "colab": {
          "base_uri": "https://localhost:8080/"
        },
        "id": "eSdWAP6Z5_Nd",
        "outputId": "435e74e8-f9d5-4dbe-fe66-b9a53392193b"
      },
      "source": [
        "example_ticker = list(additional_cik.keys())[0]\n",
        "sec_data = {}\n",
        "\n",
        "for ticker, cik in additional_cik.items():\n",
        "    if ticker != \"STNG\":\n",
        "        print(ticker)\n",
        "        sec_data[ticker] = get_sec_data(cik, '10-K')\n",
        "        \n",
        "    else :\n",
        "        print(ticker)\n",
        "        sec_data[ticker] = get_sec_data(cik, '20-F')\n",
        "    \n",
        "\n",
        "pprint.pprint(sec_data[example_ticker][:1])"
      ],
      "execution_count": 9,
      "outputs": [
        {
          "output_type": "stream",
          "text": [
            "AEP\n",
            "https://www.sec.gov/cgi-bin/browse-edgar?action=getcompany&CIK=0000004904&type=10-K&start=0&count=60&owner=exclude&output=atom\n",
            "https://www.sec.gov/cgi-bin/browse-edgar?action=getcompany&CIK=0000004904&type=10-K&start=0&count=60&owner=exclude&output=atom\n",
            "https://www.sec.gov/cgi-bin/browse-edgar?action=getcompany&CIK=0000004904&type=10-K&start=0&count=60&owner=exclude&output=atom\n",
            "AXP\n",
            "https://www.sec.gov/cgi-bin/browse-edgar?action=getcompany&CIK=0000004962&type=10-K&start=0&count=60&owner=exclude&output=atom\n",
            "BA\n",
            "https://www.sec.gov/cgi-bin/browse-edgar?action=getcompany&CIK=0000012927&type=10-K&start=0&count=60&owner=exclude&output=atom\n",
            "BK\n",
            "https://www.sec.gov/cgi-bin/browse-edgar?action=getcompany&CIK=0001390777&type=10-K&start=0&count=60&owner=exclude&output=atom\n",
            "CAT\n",
            "https://www.sec.gov/cgi-bin/browse-edgar?action=getcompany&CIK=0000018230&type=10-K&start=0&count=60&owner=exclude&output=atom\n",
            "DE\n",
            "https://www.sec.gov/cgi-bin/browse-edgar?action=getcompany&CIK=0000315189&type=10-K&start=0&count=60&owner=exclude&output=atom\n",
            "DIS\n",
            "https://www.sec.gov/cgi-bin/browse-edgar?action=getcompany&CIK=0001001039&type=10-K&start=0&count=60&owner=exclude&output=atom\n",
            "DTE\n",
            "https://www.sec.gov/cgi-bin/browse-edgar?action=getcompany&CIK=0000936340&type=10-K&start=0&count=60&owner=exclude&output=atom\n",
            "ED\n",
            "https://www.sec.gov/cgi-bin/browse-edgar?action=getcompany&CIK=0001047862&type=10-K&start=0&count=60&owner=exclude&output=atom\n",
            "EMR\n",
            "https://www.sec.gov/cgi-bin/browse-edgar?action=getcompany&CIK=0000032604&type=10-K&start=0&count=60&owner=exclude&output=atom\n",
            "ETN\n",
            "https://www.sec.gov/cgi-bin/browse-edgar?action=getcompany&CIK=0001551182&type=10-K&start=0&count=60&owner=exclude&output=atom\n",
            "GE\n",
            "https://www.sec.gov/cgi-bin/browse-edgar?action=getcompany&CIK=0000040545&type=10-K&start=0&count=60&owner=exclude&output=atom\n",
            "IBM\n",
            "https://www.sec.gov/cgi-bin/browse-edgar?action=getcompany&CIK=0000051143&type=10-K&start=0&count=60&owner=exclude&output=atom\n",
            "IP\n",
            "https://www.sec.gov/cgi-bin/browse-edgar?action=getcompany&CIK=0000051434&type=10-K&start=0&count=60&owner=exclude&output=atom\n",
            "JNJ\n",
            "https://www.sec.gov/cgi-bin/browse-edgar?action=getcompany&CIK=0000200406&type=10-K&start=0&count=60&owner=exclude&output=atom\n",
            "[('https://www.sec.gov/Archives/edgar/data/4904/000000490421000010/0000004904-21-000010-index.htm',\n",
            "  '10-K',\n",
            "  '2021-02-25')]\n"
          ],
          "name": "stdout"
        }
      ]
    },
    {
      "cell_type": "markdown",
      "metadata": {
        "id": "NLOXhHNS5_Ne"
      },
      "source": [
        "### Download 10-ks\n",
        "As you see, this is a list of urls. These urls point to a file that contains metadata related to each filling. Since we don't care about the metadata, we'll pull the filling by replacing the url with the filling url."
      ]
    },
    {
      "cell_type": "code",
      "metadata": {
        "id": "E_0mqfut5_Ne",
        "colab": {
          "base_uri": "https://localhost:8080/"
        },
        "outputId": "3369a0c2-af55-4083-e645-c9b0c78bdeaa"
      },
      "source": [
        "raw_fillings_by_ticker = {}\n",
        "\n",
        "for ticker, data in sec_data.items():\n",
        "    raw_fillings_by_ticker[ticker] = {}\n",
        "    for index_url, file_type, file_date in tqdm(data, desc='Downloading {} Fillings'.format(ticker), unit='filling'):\n",
        "\n",
        "            if ((file_type == '10-K') or (file_type == '20-F')):\n",
        "                file_url = index_url.replace('-index.htm', '.txt').replace('.txtl', '.txt')            \n",
        "            \n",
        "                raw_fillings_by_ticker[ticker][file_date] = sec_api.get(file_url)\n",
        "\n",
        "\n",
        "print('Example Document:\\n\\n{}...'.format(next(iter(raw_fillings_by_ticker[example_ticker].values()))[:1000]))"
      ],
      "execution_count": 10,
      "outputs": [
        {
          "output_type": "stream",
          "text": [
            "Downloading AEP Fillings: 100%|██████████| 30/30 [00:21<00:00,  1.39filling/s]\n",
            "Downloading AXP Fillings: 100%|██████████| 32/32 [00:02<00:00, 12.32filling/s]\n",
            "Downloading BA Fillings: 100%|██████████| 30/30 [00:02<00:00, 10.49filling/s]\n",
            "Downloading BK Fillings: 100%|██████████| 16/16 [00:04<00:00,  3.77filling/s]\n",
            "Downloading CAT Fillings: 100%|██████████| 40/40 [00:05<00:00,  6.90filling/s]\n",
            "Downloading DE Fillings: 100%|██████████| 33/33 [00:05<00:00,  5.88filling/s]\n",
            "Downloading DIS Fillings: 100%|██████████| 38/38 [00:02<00:00, 17.82filling/s]\n",
            "Downloading DTE Fillings: 100%|██████████| 28/28 [00:03<00:00,  8.43filling/s]\n",
            "Downloading ED Fillings: 100%|██████████| 24/24 [00:03<00:00,  6.98filling/s]\n",
            "Downloading EMR Fillings: 100%|██████████| 28/28 [00:02<00:00, 11.37filling/s]\n",
            "Downloading ETN Fillings: 100%|██████████| 9/9 [00:02<00:00,  3.31filling/s]\n",
            "Downloading GE Fillings: 100%|██████████| 30/30 [00:04<00:00,  6.89filling/s]\n",
            "Downloading IBM Fillings: 100%|██████████| 28/28 [00:02<00:00,  9.71filling/s]\n",
            "Downloading IP Fillings: 100%|██████████| 33/33 [00:03<00:00, 10.90filling/s]\n",
            "Downloading JNJ Fillings: 100%|██████████| 38/38 [00:02<00:00, 16.09filling/s]"
          ],
          "name": "stderr"
        },
        {
          "output_type": "stream",
          "text": [
            "Example Document:\n",
            "\n",
            "<SEC-DOCUMENT>0000004904-21-000010.txt : 20210225\n",
            "<SEC-HEADER>0000004904-21-000010.hdr.sgml : 20210225\n",
            "<ACCEPTANCE-DATETIME>20210225082736\n",
            "ACCESSION NUMBER:\t\t0000004904-21-000010\n",
            "CONFORMED SUBMISSION TYPE:\t10-K\n",
            "PUBLIC DOCUMENT COUNT:\t\t169\n",
            "CONFORMED PERIOD OF REPORT:\t20201231\n",
            "FILED AS OF DATE:\t\t20210225\n",
            "DATE AS OF CHANGE:\t\t20210225\n",
            "\n",
            "FILER:\n",
            "\n",
            "\tCOMPANY DATA:\t\n",
            "\t\tCOMPANY CONFORMED NAME:\t\t\tAMERICAN ELECTRIC POWER CO INC\n",
            "\t\tCENTRAL INDEX KEY:\t\t\t0000004904\n",
            "\t\tSTANDARD INDUSTRIAL CLASSIFICATION:\tELECTRIC SERVICES [4911]\n",
            "\t\tIRS NUMBER:\t\t\t\t134922640\n",
            "\t\tSTATE OF INCORPORATION:\t\t\tNY\n",
            "\t\tFISCAL YEAR END:\t\t\t1231\n",
            "\n",
            "\tFILING VALUES:\n",
            "\t\tFORM TYPE:\t\t10-K\n",
            "\t\tSEC ACT:\t\t1934 Act\n",
            "\t\tSEC FILE NUMBER:\t001-03525\n",
            "\t\tFILM NUMBER:\t\t21676556\n",
            "\n",
            "\tBUSINESS ADDRESS:\t\n",
            "\t\tSTREET 1:\t\t1 RIVERSIDE PLAZA\n",
            "\t\tCITY:\t\t\tCOLUMBUS\n",
            "\t\tSTATE:\t\t\tOH\n",
            "\t\tZIP:\t\t\t43215\n",
            "\t\tBUSINESS PHONE:\t\t614-716-1000\n",
            "\n",
            "\tMAIL ADDRESS:\t\n",
            "\t\tSTREET 1:\t\t1 RIVERSIDE PLAZA\n",
            "\t\tCITY:\t\t\tCOLUMBUS\n",
            "\t\tSTATE:\t\t\tOH\n",
            "\t\tZIP:\t\t\t43215\n",
            "\n",
            "\tFORMER COMPANY:\t\n",
            "\t\tFORMER CONFORMED NAME:\tKINGSPORT UTILITIES...\n"
          ],
          "name": "stdout"
        },
        {
          "output_type": "stream",
          "text": [
            "\n"
          ],
          "name": "stderr"
        }
      ]
    },
    {
      "cell_type": "markdown",
      "metadata": {
        "id": "6ynavVpL5_Ne"
      },
      "source": [
        "### Get Documents\n",
        "With theses fillings downloaded, we want to break them into their associated documents. These documents are sectioned off in the fillings with the tags `<DOCUMENT>` for the start of each document and `</DOCUMENT>` for the end of each document. There's no overlap with these documents, so each `</DOCUMENT>` tag should come after the `<DOCUMENT>` with no `<DOCUMENT>` tag in between.\n",
        "\n",
        "Implement `get_documents` to return a list of these documents from a filling. Make sure not to include the tag in the returned document text."
      ]
    },
    {
      "cell_type": "code",
      "metadata": {
        "id": "GEW2DQiA5_Ne",
        "colab": {
          "base_uri": "https://localhost:8080/"
        },
        "outputId": "78ae8394-3621-44fa-cfe0-20b67e842903"
      },
      "source": [
        "import re\n",
        "\n",
        "\n",
        "def get_documents(text):\n",
        "    \"\"\"\n",
        "    Extract the documents from the text\n",
        "\n",
        "    Parameters\n",
        "    ----------\n",
        "    text : str\n",
        "        The text with the document strings inside\n",
        "\n",
        "    Returns\n",
        "    -------\n",
        "    extracted_docs : list of str\n",
        "        The document strings found in `text`\n",
        "    \"\"\"\n",
        "    \n",
        "    # Write regexes\n",
        "    doc_start_pattern = re.compile(r'<DOCUMENT>')\n",
        "    doc_end_pattern = re.compile(r'</DOCUMENT>')\n",
        "    \n",
        "    # Create 3 lists with the span indices for each regex\n",
        "    doc_start_is = [ w.end() for w in doc_start_pattern.finditer(text) ]\n",
        "    doc_end_is = [ w.start() for w in doc_end_pattern.finditer(text) ]\n",
        "\n",
        "    # Create a loop to go through each section of the text section in the list\n",
        "    extracted_docs = []\n",
        "    \n",
        "    for ind, section in enumerate(doc_end_is):             \n",
        "        extracted_docs.append(text[doc_start_is[ind]:doc_end_is[ind]])\n",
        " \n",
        "    return extracted_docs\n",
        "\n",
        "\n",
        "project_tests.test_get_documents(get_documents)"
      ],
      "execution_count": 11,
      "outputs": [
        {
          "output_type": "stream",
          "text": [
            "Tests Passed\n"
          ],
          "name": "stdout"
        }
      ]
    },
    {
      "cell_type": "markdown",
      "metadata": {
        "id": "Pm66-9P95_Nf"
      },
      "source": [
        "With the `get_documents` function implemented, let's extract all the documents."
      ]
    },
    {
      "cell_type": "code",
      "metadata": {
        "scrolled": false,
        "id": "wUk85djG5_Nf",
        "colab": {
          "base_uri": "https://localhost:8080/"
        },
        "outputId": "eeb261db-a0f2-48d0-b68f-6bb4ec091be9"
      },
      "source": [
        "filling_documents_by_ticker = {}\n",
        "\n",
        "for ticker, raw_fillings in raw_fillings_by_ticker.items():\n",
        "    filling_documents_by_ticker[ticker] = {}\n",
        "    for file_date, filling in tqdm(raw_fillings.items(), desc='Getting Documents from {} Fillings'.format(ticker), unit='filling'):\n",
        "        filling_documents_by_ticker[ticker][file_date] = get_documents(filling)\n",
        "\n",
        "\n",
        "print('\\n\\n'.join([\n",
        "    f'Document {doc_i} Filed on {file_date}:\\n{doc[:200]}...'\n",
        "    for file_date, docs in filling_documents_by_ticker[example_ticker].items()\n",
        "    for doc_i, doc in enumerate(docs)][:3]))"
      ],
      "execution_count": 12,
      "outputs": [
        {
          "output_type": "stream",
          "text": [
            "Getting Documents from AEP Fillings: 100%|██████████| 24/24 [00:04<00:00,  5.73filling/s]\n",
            "Getting Documents from AXP Fillings: 100%|██████████| 25/25 [00:00<00:00, 41.69filling/s]\n",
            "Getting Documents from BA Fillings: 100%|██████████| 28/28 [00:00<00:00, 46.31filling/s]\n",
            "Getting Documents from BK Fillings: 100%|██████████| 14/14 [00:01<00:00, 12.36filling/s]\n",
            "Getting Documents from CAT Fillings: 100%|██████████| 20/20 [00:01<00:00, 10.96filling/s]\n",
            "Getting Documents from DE Fillings: 100%|██████████| 20/20 [00:01<00:00, 12.73filling/s]\n",
            "Getting Documents from DIS Fillings: 100%|██████████| 22/22 [00:00<00:00, 37.74filling/s]\n",
            "Getting Documents from DTE Fillings: 100%|██████████| 20/20 [00:01<00:00, 18.27filling/s]\n",
            "Getting Documents from ED Fillings: 100%|██████████| 22/22 [00:01<00:00, 17.77filling/s]\n",
            "Getting Documents from EMR Fillings: 100%|██████████| 27/27 [00:00<00:00, 37.48filling/s]\n",
            "Getting Documents from ETN Fillings: 100%|██████████| 9/9 [00:00<00:00,  9.36filling/s]\n",
            "Getting Documents from GE Fillings: 100%|██████████| 21/21 [00:02<00:00,  9.97filling/s]\n",
            "Getting Documents from IBM Fillings: 100%|██████████| 24/24 [00:01<00:00, 18.02filling/s]\n",
            "Getting Documents from IP Fillings: 100%|██████████| 24/24 [00:01<00:00, 18.65filling/s]\n",
            "Getting Documents from JNJ Fillings: 100%|██████████| 22/22 [00:00<00:00, 30.15filling/s]"
          ],
          "name": "stderr"
        },
        {
          "output_type": "stream",
          "text": [
            "Document 0 Filed on 2021-02-25:\n",
            "\n",
            "<TYPE>10-K\n",
            "<SEQUENCE>1\n",
            "<FILENAME>aep-20201231.htm\n",
            "<DESCRIPTION>10-K\n",
            "<TEXT>\n",
            "<XBRL>\n",
            "<?xml version=\"1.0\" ?><!--XBRL Document Created with Wdesk from Workiva--><!--Copyright 2021 Workiva--><!--r:df29644c...\n",
            "\n",
            "Document 1 Filed on 2021-02-25:\n",
            "\n",
            "<TYPE>EX-4.C\n",
            "<SEQUENCE>2\n",
            "<FILENAME>ex4c20204q.htm\n",
            "<DESCRIPTION>EX-4.C\n",
            "<TEXT>\n",
            "<!DOCTYPE html PUBLIC \"-//W3C//DTD HTML 4.01 Transitional//EN\" \"http://www.w3.org/TR/html4/loose.dtd\"><html><head>\n",
            "<!-- Do...\n",
            "\n",
            "Document 2 Filed on 2021-02-25:\n",
            "\n",
            "<TYPE>EX-4.D\n",
            "<SEQUENCE>3\n",
            "<FILENAME>ex4d20204q.htm\n",
            "<DESCRIPTION>EX-4.D\n",
            "<TEXT>\n",
            "<!DOCTYPE html PUBLIC \"-//W3C//DTD HTML 4.01 Transitional//EN\" \"http://www.w3.org/TR/html4/loose.dtd\"><html><head>\n",
            "<!-- Do...\n"
          ],
          "name": "stdout"
        },
        {
          "output_type": "stream",
          "text": [
            "\n"
          ],
          "name": "stderr"
        }
      ]
    },
    {
      "cell_type": "markdown",
      "metadata": {
        "id": "TMRi4FJx5_Nf"
      },
      "source": [
        "### Get Document Types\n",
        "Now that we have all the documents, we want to find the 10-k form in this 10-k filing. Implement the `get_document_type` function to return the type of document given. The document type is located on a line with the `<TYPE>` tag. For example, a form of type \"TEST\" would have the line `<TYPE>TEST`. Make sure to return the type as lowercase, so this example would be returned as \"test\"."
      ]
    },
    {
      "cell_type": "code",
      "metadata": {
        "id": "l_4XEWZ55_Nf",
        "colab": {
          "base_uri": "https://localhost:8080/"
        },
        "outputId": "6bd28aab-d23e-4563-eb9b-d00c1a475bb9"
      },
      "source": [
        "def get_document_type(doc):\n",
        "    \"\"\"\n",
        "    Return the document type lowercased\n",
        "\n",
        "    Parameters\n",
        "    ----------\n",
        "    doc : str\n",
        "        The document string\n",
        "\n",
        "    Returns\n",
        "    -------\n",
        "    doc_type : str\n",
        "        The document type lowercased\n",
        "    \"\"\"\n",
        "    # Write regexes\n",
        "    type_pattern = re.compile(r'<TYPE>[^\\n]+')\n",
        "    \n",
        "    # Create list with the span idices for each regex\n",
        "    doc_types = [ w for w in type_pattern.finditer(doc) ]  \n",
        "     \n",
        "    extracted_docs = doc[doc_types[0].start()+6:doc_types[0].end()].lower()\n",
        " \n",
        "    return extracted_docs \n",
        "\n",
        "\n",
        "project_tests.test_get_document_type(get_document_type)"
      ],
      "execution_count": 13,
      "outputs": [
        {
          "output_type": "stream",
          "text": [
            "Tests Passed\n"
          ],
          "name": "stdout"
        }
      ]
    },
    {
      "cell_type": "markdown",
      "metadata": {
        "id": "Sp_0b-2H5_Nf"
      },
      "source": [
        "With the `get_document_type` function, we'll filter out all non 10-k documents."
      ]
    },
    {
      "cell_type": "code",
      "metadata": {
        "id": "DT05yl1k5_Nf",
        "colab": {
          "base_uri": "https://localhost:8080/"
        },
        "outputId": "a60ffa92-fc1d-4e73-9d82-947beaa82f8d"
      },
      "source": [
        "ten_ks_by_ticker = {}\n",
        "\n",
        "for ticker, filling_documents in filling_documents_by_ticker.items():\n",
        "    ten_ks_by_ticker[ticker] = []\n",
        "    print(ticker, end='')\n",
        "    counter = 0\n",
        "    for file_date, documents in filling_documents.items():\n",
        "         \n",
        "        for document in documents:\n",
        "            # print(document[:200])\n",
        "            if ((get_document_type(document) == '10-k') or (get_document_type(document) == '20-f') ):\n",
        "                 \n",
        "                ten_ks_by_ticker[ticker].append({\n",
        "                    'cik': additional_cik[ticker],\n",
        "                    'file': document,\n",
        "                    'file_date': file_date})\n",
        "                counter += 1\n",
        "    print(f\":\\t{counter} 10-k's\")\n",
        "\n",
        "# project_helper.print_ten_k_data(ten_ks_by_ticker[example_ticker][:5], ['cik', 'file', 'file_date'])"
      ],
      "execution_count": 14,
      "outputs": [
        {
          "output_type": "stream",
          "text": [
            "AEP:\t27 10-k's\n",
            "AXP:\t18 10-k's\n",
            "BA:\t20 10-k's\n",
            "BK:\t9 10-k's\n",
            "CAT:\t31 10-k's\n",
            "DE:\t18 10-k's\n",
            "DIS:\t16 10-k's\n",
            "DTE:\t12 10-k's\n",
            "ED:\t18 10-k's\n",
            "EMR:\t21 10-k's\n",
            "ETN:\t7 10-k's\n",
            "GE:\t18 10-k's\n",
            "IBM:\t18 10-k's\n",
            "IP:\t18 10-k's\n",
            "JNJ:\t17 10-k's\n"
          ],
          "name": "stdout"
        }
      ]
    },
    {
      "cell_type": "markdown",
      "metadata": {
        "id": "XZIEZnAd5_Ng"
      },
      "source": [
        "## Preprocess the Data\n",
        "### Clean Up\n",
        "As you can see, the text for the documents are very messy. To clean this up, we'll remove the html and lowercase all the text."
      ]
    },
    {
      "cell_type": "code",
      "metadata": {
        "id": "i-3jhnVZ5_Ng"
      },
      "source": [
        "def remove_html_tags(text):\n",
        "    text = BeautifulSoup(text, 'html.parser').get_text()\n",
        "    \n",
        "    return text\n",
        "\n",
        "\n",
        "def clean_text(text):\n",
        "    text = text.lower()\n",
        "    text = remove_html_tags(text)\n",
        "    \n",
        "    return text"
      ],
      "execution_count": 15,
      "outputs": []
    },
    {
      "cell_type": "markdown",
      "metadata": {
        "id": "oUtTFTMQ5_Ng"
      },
      "source": [
        "Using the `clean_text` function, we'll clean up all the documents."
      ]
    },
    {
      "cell_type": "code",
      "metadata": {
        "id": "eUii9C9N5_Ng",
        "colab": {
          "base_uri": "https://localhost:8080/"
        },
        "outputId": "7f681b8a-ae81-4a33-d031-2ce0d778f535"
      },
      "source": [
        "for ticker, ten_ks in ten_ks_by_ticker.items():\n",
        "    for ten_k in tqdm(ten_ks, desc=f'Cleaning {ticker} 10-Ks', unit='10-K'):\n",
        "        ten_k['file_clean'] = clean_text(ten_k['file'])\n",
        "\n",
        "\n",
        "project_helper.print_ten_k_data(ten_ks_by_ticker[example_ticker][:5], ['file_clean'])"
      ],
      "execution_count": 16,
      "outputs": [
        {
          "output_type": "stream",
          "text": [
            "Cleaning AEP 10-Ks: 100%|██████████| 27/27 [00:39<00:00,  1.46s/10-K]\n",
            "Cleaning AXP 10-Ks: 100%|██████████| 18/18 [00:26<00:00,  1.45s/10-K]\n",
            "Cleaning BA 10-Ks: 100%|██████████| 20/20 [00:35<00:00,  1.77s/10-K]\n",
            "Cleaning BK 10-Ks: 100%|██████████| 9/9 [00:03<00:00,  2.5110-K/s]\n",
            "Cleaning CAT 10-Ks: 100%|██████████| 31/31 [00:55<00:00,  1.78s/10-K]\n",
            "Cleaning DE 10-Ks: 100%|██████████| 18/18 [01:01<00:00,  3.44s/10-K]\n",
            "Cleaning DIS 10-Ks: 100%|██████████| 16/16 [00:32<00:00,  2.01s/10-K]\n",
            "Cleaning DTE 10-Ks: 100%|██████████| 12/12 [01:00<00:00,  5.04s/10-K]\n",
            "Cleaning ED 10-Ks: 100%|██████████| 18/18 [01:19<00:00,  4.44s/10-K]\n",
            "Cleaning EMR 10-Ks: 100%|██████████| 21/21 [00:06<00:00,  3.0310-K/s]\n",
            "Cleaning ETN 10-Ks: 100%|██████████| 7/7 [00:27<00:00,  3.99s/10-K]\n",
            "Cleaning GE 10-Ks: 100%|██████████| 18/18 [01:15<00:00,  4.22s/10-K]\n",
            "Cleaning IBM 10-Ks: 100%|██████████| 18/18 [00:04<00:00,  4.1610-K/s]\n",
            "Cleaning IP 10-Ks: 100%|██████████| 18/18 [00:43<00:00,  2.42s/10-K]\n",
            "Cleaning JNJ 10-Ks: 100%|██████████| 17/17 [00:17<00:00,  1.01s/10-K]"
          ],
          "name": "stderr"
        },
        {
          "output_type": "stream",
          "text": [
            "[\n",
            "  {\n",
            "    file_clean: '\\n10-k\\n1\\naep-20201231.htm\\n10-k\\n\\n\\n\\naep-2020...},\n",
            "  {\n",
            "    file_clean: '\\n10-k\\n1\\naep10klegal20194q.htm\\namerican electr...},\n",
            "  {\n",
            "    file_clean: '\\n10-k\\n1\\naep10klegal20184q.htm\\namerican electr...},\n",
            "  {\n",
            "    file_clean: '\\n10-k\\n1\\naep10klegal20174q.htm\\namerican electr...},\n",
            "  {\n",
            "    file_clean: '\\n10-k\\n1\\naep10klegal20164q.htm\\namerican electr...},\n",
            "]\n"
          ],
          "name": "stdout"
        },
        {
          "output_type": "stream",
          "text": [
            "\n"
          ],
          "name": "stderr"
        }
      ]
    },
    {
      "cell_type": "markdown",
      "metadata": {
        "id": "9PcBZ8-p5_Ng"
      },
      "source": [
        "### Lemmatize\n",
        "With the text cleaned up, it's time to distill the verbs down. Implement the `lemmatize_words` function to lemmatize verbs in the list of words provided."
      ]
    },
    {
      "cell_type": "code",
      "metadata": {
        "id": "e9EzuFMJ5_Ng",
        "colab": {
          "base_uri": "https://localhost:8080/"
        },
        "outputId": "d3cf0f6a-9bca-4e8b-edcd-5669e1563350"
      },
      "source": [
        "from nltk.stem import WordNetLemmatizer\n",
        "from nltk.corpus import wordnet\n",
        "\n",
        "\n",
        "def lemmatize_words(words):\n",
        "    \"\"\"\n",
        "    Lemmatize words \n",
        "\n",
        "    Parameters\n",
        "    ----------\n",
        "    words : list of str\n",
        "        List of words\n",
        "\n",
        "    Returns\n",
        "    -------\n",
        "    lemmatized_words : list of str\n",
        "        List of lemmatized words\n",
        "    \"\"\"\n",
        "    wnl = WordNetLemmatizer()\n",
        "    lemmatized_word = []\n",
        "    for word in words:\n",
        "        lemmatized_word.append(wnl.lemmatize(word, pos='v'))\n",
        "     \n",
        "    return lemmatized_word\n",
        "\n",
        "\n",
        "project_tests.test_lemmatize_words(lemmatize_words)"
      ],
      "execution_count": 17,
      "outputs": [
        {
          "output_type": "stream",
          "text": [
            "Tests Passed\n"
          ],
          "name": "stdout"
        }
      ]
    },
    {
      "cell_type": "markdown",
      "metadata": {
        "id": "wbwLG2Fu5_Nh"
      },
      "source": [
        "With the `lemmatize_words` function implemented, let's lemmatize all the data."
      ]
    },
    {
      "cell_type": "code",
      "metadata": {
        "id": "Ph9lthL25_Nh",
        "colab": {
          "base_uri": "https://localhost:8080/"
        },
        "outputId": "113d61f4-4599-4961-8669-a853e8800699"
      },
      "source": [
        "word_pattern = re.compile('\\w+')\n",
        "\n",
        "for ticker, ten_ks in ten_ks_by_ticker.items():\n",
        "    for ten_k in tqdm(ten_ks, desc='Lemmatize {ticker} 10-Ks', unit='10-K'):\n",
        "        ten_k['file_lemma'] = lemmatize_words(word_pattern.findall(ten_k['file_clean']))\n",
        "\n",
        "\n",
        "project_helper.print_ten_k_data(ten_ks_by_ticker[example_ticker][:5], ['file_lemma'])"
      ],
      "execution_count": 18,
      "outputs": [
        {
          "output_type": "stream",
          "text": [
            "Lemmatize {ticker} 10-Ks: 100%|██████████| 27/27 [00:14<00:00,  1.8310-K/s]\n",
            "Lemmatize {ticker} 10-Ks: 100%|██████████| 18/18 [00:04<00:00,  3.6710-K/s]\n",
            "Lemmatize {ticker} 10-Ks: 100%|██████████| 20/20 [00:06<00:00,  3.3010-K/s]\n",
            "Lemmatize {ticker} 10-Ks: 100%|██████████| 9/9 [00:00<00:00, 10.4210-K/s]\n",
            "Lemmatize {ticker} 10-Ks: 100%|██████████| 31/31 [00:44<00:00,  1.44s/10-K]\n",
            "Lemmatize {ticker} 10-Ks: 100%|██████████| 18/18 [00:04<00:00,  4.1410-K/s]\n",
            "Lemmatize {ticker} 10-Ks: 100%|██████████| 16/16 [00:03<00:00,  4.3010-K/s]\n",
            "Lemmatize {ticker} 10-Ks: 100%|██████████| 12/12 [00:04<00:00,  2.9410-K/s]\n",
            "Lemmatize {ticker} 10-Ks: 100%|██████████| 18/18 [00:06<00:00,  2.6610-K/s]\n",
            "Lemmatize {ticker} 10-Ks: 100%|██████████| 21/21 [00:01<00:00, 16.2910-K/s]\n",
            "Lemmatize {ticker} 10-Ks: 100%|██████████| 7/7 [00:01<00:00,  5.0410-K/s]\n",
            "Lemmatize {ticker} 10-Ks: 100%|██████████| 18/18 [00:06<00:00,  2.9610-K/s]\n",
            "Lemmatize {ticker} 10-Ks: 100%|██████████| 18/18 [00:01<00:00, 16.4910-K/s]\n",
            "Lemmatize {ticker} 10-Ks: 100%|██████████| 18/18 [00:04<00:00,  3.9510-K/s]\n",
            "Lemmatize {ticker} 10-Ks: 100%|██████████| 17/17 [00:01<00:00,  8.6210-K/s]\n"
          ],
          "name": "stderr"
        },
        {
          "output_type": "stream",
          "text": [
            "[\n",
            "  {\n",
            "    file_lemma: '['10', 'k', '1', 'aep', '20201231', 'htm', '10', ...},\n",
            "  {\n",
            "    file_lemma: '['10', 'k', '1', 'aep10klegal20194q', 'htm', 'ame...},\n",
            "  {\n",
            "    file_lemma: '['10', 'k', '1', 'aep10klegal20184q', 'htm', 'ame...},\n",
            "  {\n",
            "    file_lemma: '['10', 'k', '1', 'aep10klegal20174q', 'htm', 'ame...},\n",
            "  {\n",
            "    file_lemma: '['10', 'k', '1', 'aep10klegal20164q', 'htm', 'ame...},\n",
            "]\n"
          ],
          "name": "stdout"
        }
      ]
    },
    {
      "cell_type": "markdown",
      "metadata": {
        "id": "l2pA6Pm75_Nh"
      },
      "source": [
        "### Remove Stopwords"
      ]
    },
    {
      "cell_type": "code",
      "metadata": {
        "id": "jDDjria35_Nh",
        "colab": {
          "base_uri": "https://localhost:8080/"
        },
        "outputId": "232fb68d-eadb-4612-eb77-4fc7da1ea96b"
      },
      "source": [
        "from nltk.corpus import stopwords\n",
        "\n",
        "\n",
        "lemma_english_stopwords = lemmatize_words(stopwords.words('english'))\n",
        "\n",
        "for ticker, ten_ks in ten_ks_by_ticker.items():\n",
        "    for ten_k in tqdm(ten_ks, desc='Remove Stop Words for {ticker} 10-Ks', unit='10-K'):\n",
        "        ten_k['file_lemma'] = [word for word in ten_k['file_lemma'] if word not in lemma_english_stopwords]\n",
        "\n",
        "\n",
        "print('\\nStop Words Removed')"
      ],
      "execution_count": 19,
      "outputs": [
        {
          "output_type": "stream",
          "text": [
            "Remove Stop Words for {ticker} 10-Ks: 100%|██████████| 27/27 [00:09<00:00,  2.7610-K/s]\n",
            "Remove Stop Words for {ticker} 10-Ks: 100%|██████████| 18/18 [00:02<00:00,  7.4610-K/s]\n",
            "Remove Stop Words for {ticker} 10-Ks: 100%|██████████| 20/20 [00:02<00:00,  6.7010-K/s]\n",
            "Remove Stop Words for {ticker} 10-Ks: 100%|██████████| 9/9 [00:00<00:00, 19.2410-K/s]\n",
            "Remove Stop Words for {ticker} 10-Ks: 100%|██████████| 31/31 [00:32<00:00,  1.05s/10-K]\n",
            "Remove Stop Words for {ticker} 10-Ks: 100%|██████████| 18/18 [00:02<00:00,  7.7310-K/s]\n",
            "Remove Stop Words for {ticker} 10-Ks: 100%|██████████| 16/16 [00:01<00:00,  8.2310-K/s]\n",
            "Remove Stop Words for {ticker} 10-Ks: 100%|██████████| 12/12 [00:02<00:00,  5.5610-K/s]\n",
            "Remove Stop Words for {ticker} 10-Ks: 100%|██████████| 18/18 [00:03<00:00,  4.9610-K/s]\n",
            "Remove Stop Words for {ticker} 10-Ks: 100%|██████████| 21/21 [00:00<00:00, 30.7810-K/s]\n",
            "Remove Stop Words for {ticker} 10-Ks: 100%|██████████| 7/7 [00:00<00:00,  9.6310-K/s]\n",
            "Remove Stop Words for {ticker} 10-Ks: 100%|██████████| 18/18 [00:03<00:00,  5.6910-K/s]\n",
            "Remove Stop Words for {ticker} 10-Ks: 100%|██████████| 18/18 [00:00<00:00, 31.5810-K/s]\n",
            "Remove Stop Words for {ticker} 10-Ks: 100%|██████████| 18/18 [00:02<00:00,  7.4710-K/s]\n",
            "Remove Stop Words for {ticker} 10-Ks: 100%|██████████| 17/17 [00:01<00:00, 16.0210-K/s]"
          ],
          "name": "stderr"
        },
        {
          "output_type": "stream",
          "text": [
            "\n",
            "Stop Words Removed\n"
          ],
          "name": "stdout"
        },
        {
          "output_type": "stream",
          "text": [
            "\n"
          ],
          "name": "stderr"
        }
      ]
    },
    {
      "cell_type": "markdown",
      "metadata": {
        "id": "WsamuaHX5_Ni"
      },
      "source": [
        "## Analysis on 10ks\n",
        "### Loughran McDonald Sentiment Word Lists\n",
        "We'll be using the Loughran and McDonald sentiment word lists. These word lists cover the following sentiment:\n",
        "- Negative \n",
        "- Positive\n",
        "- Uncertainty\n",
        "- Litigious\n",
        "- Constraining\n",
        "- Superfluous\n",
        "- Modal\n",
        "\n",
        "This will allow us to do the sentiment analysis on the 10-ks. Let's first load these word lists. We'll be looking into a few of these sentiments."
      ]
    },
    {
      "cell_type": "code",
      "metadata": {
        "id": "v3OFOKZf5_Ni",
        "colab": {
          "base_uri": "https://localhost:8080/",
          "height": 419
        },
        "outputId": "875fad7d-03b3-4014-9135-c376ce4c3bda"
      },
      "source": [
        "import os\n",
        "\n",
        "\n",
        "sentiments = ['negative', 'positive', 'uncertainty', 'litigious', 'constraining', 'interesting']\n",
        "\n",
        "sentiment_df = pd.read_csv(os.path.join( 'LoughranMcDonald_MasterDictionary_2018.csv'))\n",
        "sentiment_df.columns = [column.lower() for column in sentiment_df.columns] # Lowercase the columns for ease of use\n",
        "\n",
        "# Remove unused information\n",
        "sentiment_df = sentiment_df[sentiments + ['word']]\n",
        "sentiment_df[sentiments] = sentiment_df[sentiments].astype(bool)\n",
        "sentiment_df = sentiment_df[(sentiment_df[sentiments]).any(1)]\n",
        "\n",
        "# # Apply the same preprocessing to these words as the 10-k words\n",
        "sentiment_df['word'] = lemmatize_words(sentiment_df['word'].str.lower())\n",
        "sentiment_df = sentiment_df.drop_duplicates('word')\n",
        "\n",
        "sentiment_df"
      ],
      "execution_count": 20,
      "outputs": [
        {
          "output_type": "execute_result",
          "data": {
            "text/html": [
              "<div>\n",
              "<style scoped>\n",
              "    .dataframe tbody tr th:only-of-type {\n",
              "        vertical-align: middle;\n",
              "    }\n",
              "\n",
              "    .dataframe tbody tr th {\n",
              "        vertical-align: top;\n",
              "    }\n",
              "\n",
              "    .dataframe thead th {\n",
              "        text-align: right;\n",
              "    }\n",
              "</style>\n",
              "<table border=\"1\" class=\"dataframe\">\n",
              "  <thead>\n",
              "    <tr style=\"text-align: right;\">\n",
              "      <th></th>\n",
              "      <th>negative</th>\n",
              "      <th>positive</th>\n",
              "      <th>uncertainty</th>\n",
              "      <th>litigious</th>\n",
              "      <th>constraining</th>\n",
              "      <th>interesting</th>\n",
              "      <th>word</th>\n",
              "    </tr>\n",
              "  </thead>\n",
              "  <tbody>\n",
              "    <tr>\n",
              "      <th>9</th>\n",
              "      <td>True</td>\n",
              "      <td>False</td>\n",
              "      <td>False</td>\n",
              "      <td>False</td>\n",
              "      <td>False</td>\n",
              "      <td>False</td>\n",
              "      <td>abandon</td>\n",
              "    </tr>\n",
              "    <tr>\n",
              "      <th>12</th>\n",
              "      <td>True</td>\n",
              "      <td>False</td>\n",
              "      <td>False</td>\n",
              "      <td>False</td>\n",
              "      <td>False</td>\n",
              "      <td>False</td>\n",
              "      <td>abandonment</td>\n",
              "    </tr>\n",
              "    <tr>\n",
              "      <th>13</th>\n",
              "      <td>True</td>\n",
              "      <td>False</td>\n",
              "      <td>False</td>\n",
              "      <td>False</td>\n",
              "      <td>False</td>\n",
              "      <td>False</td>\n",
              "      <td>abandonments</td>\n",
              "    </tr>\n",
              "    <tr>\n",
              "      <th>51</th>\n",
              "      <td>True</td>\n",
              "      <td>False</td>\n",
              "      <td>False</td>\n",
              "      <td>False</td>\n",
              "      <td>False</td>\n",
              "      <td>False</td>\n",
              "      <td>abdicate</td>\n",
              "    </tr>\n",
              "    <tr>\n",
              "      <th>54</th>\n",
              "      <td>True</td>\n",
              "      <td>False</td>\n",
              "      <td>False</td>\n",
              "      <td>False</td>\n",
              "      <td>False</td>\n",
              "      <td>False</td>\n",
              "      <td>abdication</td>\n",
              "    </tr>\n",
              "    <tr>\n",
              "      <th>...</th>\n",
              "      <td>...</td>\n",
              "      <td>...</td>\n",
              "      <td>...</td>\n",
              "      <td>...</td>\n",
              "      <td>...</td>\n",
              "      <td>...</td>\n",
              "      <td>...</td>\n",
              "    </tr>\n",
              "    <tr>\n",
              "      <th>86035</th>\n",
              "      <td>True</td>\n",
              "      <td>False</td>\n",
              "      <td>False</td>\n",
              "      <td>False</td>\n",
              "      <td>False</td>\n",
              "      <td>False</td>\n",
              "      <td>wrongdoing</td>\n",
              "    </tr>\n",
              "    <tr>\n",
              "      <th>86036</th>\n",
              "      <td>True</td>\n",
              "      <td>False</td>\n",
              "      <td>False</td>\n",
              "      <td>False</td>\n",
              "      <td>False</td>\n",
              "      <td>False</td>\n",
              "      <td>wrongdoings</td>\n",
              "    </tr>\n",
              "    <tr>\n",
              "      <th>86040</th>\n",
              "      <td>True</td>\n",
              "      <td>False</td>\n",
              "      <td>False</td>\n",
              "      <td>False</td>\n",
              "      <td>False</td>\n",
              "      <td>False</td>\n",
              "      <td>wrongful</td>\n",
              "    </tr>\n",
              "    <tr>\n",
              "      <th>86041</th>\n",
              "      <td>True</td>\n",
              "      <td>False</td>\n",
              "      <td>False</td>\n",
              "      <td>False</td>\n",
              "      <td>False</td>\n",
              "      <td>False</td>\n",
              "      <td>wrongfully</td>\n",
              "    </tr>\n",
              "    <tr>\n",
              "      <th>86049</th>\n",
              "      <td>True</td>\n",
              "      <td>False</td>\n",
              "      <td>False</td>\n",
              "      <td>False</td>\n",
              "      <td>False</td>\n",
              "      <td>False</td>\n",
              "      <td>wrongly</td>\n",
              "    </tr>\n",
              "  </tbody>\n",
              "</table>\n",
              "<p>2720 rows × 7 columns</p>\n",
              "</div>"
            ],
            "text/plain": [
              "       negative  positive  uncertainty  ...  constraining  interesting          word\n",
              "9          True     False        False  ...         False        False       abandon\n",
              "12         True     False        False  ...         False        False   abandonment\n",
              "13         True     False        False  ...         False        False  abandonments\n",
              "51         True     False        False  ...         False        False      abdicate\n",
              "54         True     False        False  ...         False        False    abdication\n",
              "...         ...       ...          ...  ...           ...          ...           ...\n",
              "86035      True     False        False  ...         False        False    wrongdoing\n",
              "86036      True     False        False  ...         False        False   wrongdoings\n",
              "86040      True     False        False  ...         False        False      wrongful\n",
              "86041      True     False        False  ...         False        False    wrongfully\n",
              "86049      True     False        False  ...         False        False       wrongly\n",
              "\n",
              "[2720 rows x 7 columns]"
            ]
          },
          "metadata": {
            "tags": []
          },
          "execution_count": 20
        }
      ]
    },
    {
      "cell_type": "markdown",
      "metadata": {
        "id": "DLl7w9025_Ni"
      },
      "source": [
        "### Bag of Words\n",
        "using the sentiment word lists, let's generate sentiment bag of words from the 10-k documents. Implement `get_bag_of_words` to generate a bag of words that counts the number of sentiment words in each doc. You can ignore words that are not in `sentiment_words`."
      ]
    },
    {
      "cell_type": "code",
      "metadata": {
        "id": "M6y9W7j95_Ni"
      },
      "source": [
        "from collections import defaultdict, Counter\n",
        "from sklearn.feature_extraction.text import CountVectorizer\n",
        "\n",
        "\n",
        "def get_bag_of_words(sentiment_words, docs):\n",
        "    \"\"\"\n",
        "    Generate a bag of words from documents for a certain sentiment\n",
        "\n",
        "    Parameters\n",
        "    ----------\n",
        "    sentiment_words: Pandas Series\n",
        "        Words that signify a certain sentiment\n",
        "    docs : list of str\n",
        "        List of documents used to generate bag of words\n",
        "\n",
        "    Returns\n",
        "    -------\n",
        "    bag_of_words : 2-d Numpy Ndarray of int\n",
        "        Bag of words sentiment for each document\n",
        "        The first dimension is the document.\n",
        "        The second dimension is the word.\n",
        "    \"\"\"\n",
        "    \n",
        "    # TODO: Implement\n",
        "\n",
        "    bag_of_words = np.zeros((len(docs), len(sentiment_words)))\n",
        "    for ind, word  in enumerate(docs):\n",
        "        for sen_id, sent in enumerate(sentiment_words):\n",
        "             #bag_of_words[ind, sen_id] = word.count(sent) \n",
        "            if sent in word:\n",
        "                bag_of_words[ind, sen_id] = 1 \n",
        "    print(bag_of_words)         \n",
        "    return bag_of_words\n",
        "\n",
        "\n",
        "# project_tests.test_get_bag_of_words(get_bag_of_words)"
      ],
      "execution_count": 21,
      "outputs": []
    },
    {
      "cell_type": "markdown",
      "metadata": {
        "id": "iZfxwZnx5_Ni"
      },
      "source": [
        "Using the `get_bag_of_words` function, we'll generate a bag of words for all the documents."
      ]
    },
    {
      "cell_type": "code",
      "metadata": {
        "scrolled": true,
        "id": "ZqJoT6Sa5_Nj",
        "colab": {
          "base_uri": "https://localhost:8080/"
        },
        "outputId": "d0ab5061-3cd6-48a0-dc86-0d7b897c21c1"
      },
      "source": [
        "sentiment_bow_ten_ks = {}\n",
        "\n",
        "for ticker, ten_ks in ten_ks_by_ticker.items():\n",
        "    lemma_docs = [' '.join(ten_k['file_lemma']) for ten_k in ten_ks]\n",
        "    \n",
        "    sentiment_bow_ten_ks[ticker] = {\n",
        "        sentiment: get_bag_of_words(sentiment_df[sentiment_df[sentiment]]['word'], lemma_docs)\n",
        "        for sentiment in sentiments}\n",
        "\n",
        "\n",
        "# project_helper.print_ten_k_data([sentiment_bow_ten_ks[example_ticker]], sentiments)"
      ],
      "execution_count": 22,
      "outputs": [
        {
          "output_type": "stream",
          "text": [
            "[[1. 1. 1. ... 0. 0. 0.]\n",
            " [1. 1. 0. ... 0. 0. 0.]\n",
            " [0. 0. 0. ... 0. 0. 0.]\n",
            " ...\n",
            " [0. 0. 0. ... 0. 0. 0.]\n",
            " [0. 0. 0. ... 0. 0. 0.]\n",
            " [1. 0. 0. ... 0. 0. 0.]]\n",
            "[[1. 0. 1. ... 0. 0. 1.]\n",
            " [1. 0. 1. ... 0. 0. 1.]\n",
            " [1. 0. 1. ... 0. 0. 1.]\n",
            " ...\n",
            " [1. 0. 0. ... 0. 0. 0.]\n",
            " [1. 0. 0. ... 0. 0. 0.]\n",
            " [1. 0. 0. ... 0. 0. 0.]]\n",
            "[[0. 0. 1. ... 1. 1. 1.]\n",
            " [0. 0. 1. ... 1. 0. 1.]\n",
            " [0. 0. 0. ... 1. 0. 1.]\n",
            " ...\n",
            " [0. 0. 0. ... 0. 0. 0.]\n",
            " [0. 0. 0. ... 0. 0. 1.]\n",
            " [0. 0. 0. ... 1. 0. 0.]]\n",
            "[[0. 0. 0. ... 0. 1. 0.]\n",
            " [0. 0. 0. ... 0. 1. 0.]\n",
            " [0. 0. 0. ... 0. 1. 0.]\n",
            " ...\n",
            " [0. 0. 0. ... 0. 1. 0.]\n",
            " [0. 0. 0. ... 0. 1. 0.]\n",
            " [0. 0. 0. ... 0. 1. 0.]]\n",
            "[[1. 1. 1. ... 0. 1. 1.]\n",
            " [0. 0. 1. ... 0. 1. 1.]\n",
            " [0. 0. 1. ... 0. 1. 1.]\n",
            " ...\n",
            " [0. 1. 0. ... 0. 0. 0.]\n",
            " [0. 1. 0. ... 0. 0. 0.]\n",
            " [0. 0. 0. ... 0. 0. 0.]]\n",
            "[[0. 0. 0. ... 0. 0. 0.]\n",
            " [0. 0. 0. ... 0. 0. 0.]\n",
            " [0. 0. 0. ... 0. 0. 0.]\n",
            " ...\n",
            " [1. 0. 0. ... 0. 0. 0.]\n",
            " [0. 0. 0. ... 0. 0. 0.]\n",
            " [0. 0. 0. ... 0. 0. 0.]]\n",
            "[[1. 0. 0. ... 0. 0. 0.]\n",
            " [1. 0. 0. ... 0. 0. 0.]\n",
            " [1. 0. 0. ... 0. 0. 0.]\n",
            " ...\n",
            " [0. 0. 0. ... 0. 0. 0.]\n",
            " [0. 0. 0. ... 0. 0. 0.]\n",
            " [0. 0. 0. ... 0. 0. 0.]]\n",
            "[[1. 0. 0. ... 0. 0. 1.]\n",
            " [1. 0. 0. ... 0. 0. 1.]\n",
            " [1. 0. 0. ... 0. 0. 1.]\n",
            " ...\n",
            " [1. 0. 0. ... 0. 0. 0.]\n",
            " [1. 0. 0. ... 0. 0. 0.]\n",
            " [1. 0. 0. ... 0. 0. 0.]]\n",
            "[[0. 0. 0. ... 0. 1. 1.]\n",
            " [0. 0. 0. ... 1. 1. 1.]\n",
            " [0. 0. 0. ... 1. 1. 1.]\n",
            " ...\n",
            " [0. 0. 0. ... 0. 0. 0.]\n",
            " [0. 0. 0. ... 0. 0. 0.]\n",
            " [0. 0. 0. ... 0. 0. 0.]]\n",
            "[[0. 0. 0. ... 0. 1. 0.]\n",
            " [0. 0. 0. ... 0. 1. 0.]\n",
            " [0. 0. 0. ... 0. 1. 0.]\n",
            " ...\n",
            " [0. 0. 0. ... 0. 1. 0.]\n",
            " [0. 0. 0. ... 0. 1. 0.]\n",
            " [0. 0. 0. ... 0. 1. 0.]]\n",
            "[[0. 1. 1. ... 1. 0. 0.]\n",
            " [0. 1. 0. ... 1. 0. 0.]\n",
            " [0. 1. 0. ... 1. 0. 0.]\n",
            " ...\n",
            " [0. 0. 0. ... 0. 0. 0.]\n",
            " [0. 0. 0. ... 0. 0. 0.]\n",
            " [0. 0. 0. ... 0. 0. 0.]]\n",
            "[[0. 0. 0. ... 0. 0. 0.]\n",
            " [0. 0. 0. ... 0. 0. 0.]\n",
            " [0. 0. 0. ... 0. 0. 0.]\n",
            " ...\n",
            " [0. 0. 0. ... 0. 0. 0.]\n",
            " [0. 0. 0. ... 0. 0. 0.]\n",
            " [0. 0. 0. ... 0. 0. 0.]]\n",
            "[[0. 0. 0. ... 0. 0. 0.]\n",
            " [0. 0. 0. ... 0. 0. 0.]\n",
            " [0. 0. 0. ... 0. 0. 0.]\n",
            " ...\n",
            " [1. 1. 0. ... 0. 0. 0.]\n",
            " [0. 0. 0. ... 0. 0. 0.]\n",
            " [0. 0. 0. ... 0. 0. 0.]]\n",
            "[[1. 0. 0. ... 0. 0. 0.]\n",
            " [1. 0. 0. ... 0. 0. 0.]\n",
            " [1. 0. 0. ... 0. 0. 0.]\n",
            " ...\n",
            " [1. 0. 0. ... 0. 0. 0.]\n",
            " [1. 0. 0. ... 0. 0. 0.]\n",
            " [1. 0. 0. ... 0. 0. 0.]]\n",
            "[[0. 0. 0. ... 0. 0. 1.]\n",
            " [0. 0. 0. ... 0. 0. 1.]\n",
            " [0. 0. 0. ... 0. 0. 1.]\n",
            " ...\n",
            " [0. 0. 0. ... 0. 0. 1.]\n",
            " [0. 0. 0. ... 0. 0. 1.]\n",
            " [0. 0. 0. ... 0. 0. 0.]]\n",
            "[[0. 0. 0. ... 0. 1. 0.]\n",
            " [0. 0. 0. ... 0. 1. 0.]\n",
            " [0. 0. 0. ... 0. 1. 0.]\n",
            " ...\n",
            " [0. 0. 0. ... 1. 1. 0.]\n",
            " [0. 0. 0. ... 0. 1. 0.]\n",
            " [0. 0. 0. ... 1. 1. 0.]]\n",
            "[[0. 1. 0. ... 0. 0. 1.]\n",
            " [0. 1. 0. ... 0. 0. 1.]\n",
            " [0. 1. 0. ... 0. 0. 1.]\n",
            " ...\n",
            " [0. 1. 0. ... 0. 0. 0.]\n",
            " [0. 1. 0. ... 0. 0. 0.]\n",
            " [0. 1. 0. ... 0. 0. 0.]]\n",
            "[[1. 0. 0. ... 0. 0. 0.]\n",
            " [1. 0. 0. ... 0. 0. 0.]\n",
            " [1. 0. 0. ... 0. 0. 0.]\n",
            " ...\n",
            " [1. 1. 0. ... 0. 0. 0.]\n",
            " [1. 1. 0. ... 0. 0. 0.]\n",
            " [1. 1. 0. ... 0. 0. 1.]]\n",
            "[[0. 0. 0. ... 0. 0. 0.]\n",
            " [0. 0. 0. ... 0. 0. 0.]\n",
            " [0. 0. 0. ... 0. 0. 0.]\n",
            " ...\n",
            " [0. 0. 0. ... 0. 0. 0.]\n",
            " [1. 0. 0. ... 0. 0. 0.]\n",
            " [0. 0. 0. ... 0. 0. 0.]]\n",
            "[[1. 0. 0. ... 0. 0. 0.]\n",
            " [1. 0. 0. ... 0. 0. 0.]\n",
            " [1. 0. 0. ... 0. 0. 0.]\n",
            " ...\n",
            " [1. 0. 0. ... 0. 0. 0.]\n",
            " [1. 0. 0. ... 0. 0. 0.]\n",
            " [1. 0. 0. ... 0. 0. 0.]]\n",
            "[[0. 0. 0. ... 1. 0. 1.]\n",
            " [0. 0. 0. ... 1. 0. 1.]\n",
            " [0. 0. 0. ... 1. 0. 1.]\n",
            " ...\n",
            " [0. 0. 0. ... 1. 0. 1.]\n",
            " [0. 0. 0. ... 1. 0. 1.]\n",
            " [0. 0. 0. ... 1. 0. 1.]]\n",
            "[[0. 0. 0. ... 0. 0. 0.]\n",
            " [0. 0. 0. ... 0. 0. 0.]\n",
            " [0. 0. 0. ... 0. 1. 0.]\n",
            " ...\n",
            " [0. 0. 0. ... 0. 1. 0.]\n",
            " [0. 0. 0. ... 1. 1. 0.]\n",
            " [0. 0. 0. ... 1. 1. 0.]]\n",
            "[[0. 0. 0. 1. 1. 1. 1. 1. 0. 0. 0. 0. 0. 0. 0. 0. 1. 0. 0. 0. 0. 1. 0. 0.\n",
            "  0. 0. 0. 0. 0. 0. 0. 0. 0. 0. 0. 0. 0. 0. 0. 0. 0. 0. 0. 0. 0. 0. 0. 1.\n",
            "  0. 0. 0. 0. 0. 0. 0. 1. 1. 0. 0. 0. 0. 0. 0. 0. 0. 0. 0. 0. 0. 0. 0. 0.\n",
            "  0. 0. 0. 1. 1. 1. 0. 0. 0. 1. 0. 0. 0. 0. 0. 0. 0. 0. 1. 0. 0. 0. 0. 0.]\n",
            " [0. 0. 0. 1. 1. 1. 1. 1. 0. 0. 0. 0. 0. 0. 0. 0. 1. 0. 0. 0. 0. 1. 0. 0.\n",
            "  0. 0. 0. 0. 0. 0. 0. 0. 0. 0. 0. 0. 0. 0. 0. 0. 0. 0. 0. 0. 0. 0. 0. 1.\n",
            "  0. 0. 0. 0. 0. 0. 0. 1. 1. 0. 0. 0. 0. 0. 0. 0. 0. 0. 0. 0. 0. 0. 0. 0.\n",
            "  0. 0. 0. 1. 1. 1. 0. 0. 0. 1. 0. 0. 0. 0. 0. 0. 0. 0. 1. 0. 0. 0. 0. 0.]\n",
            " [0. 0. 0. 1. 1. 1. 1. 1. 0. 0. 0. 0. 0. 0. 0. 0. 1. 0. 0. 0. 0. 1. 0. 0.\n",
            "  0. 0. 0. 0. 0. 0. 0. 0. 0. 0. 0. 0. 0. 0. 0. 0. 0. 0. 0. 0. 0. 0. 0. 1.\n",
            "  0. 0. 0. 0. 0. 0. 0. 1. 1. 0. 0. 0. 0. 0. 0. 0. 0. 0. 0. 0. 0. 0. 0. 0.\n",
            "  0. 0. 0. 1. 1. 1. 0. 0. 0. 1. 0. 0. 0. 0. 0. 0. 0. 0. 1. 0. 0. 0. 0. 0.]\n",
            " [0. 0. 0. 1. 1. 1. 1. 1. 0. 0. 0. 0. 0. 0. 0. 0. 1. 0. 0. 0. 0. 1. 0. 0.\n",
            "  0. 0. 0. 0. 0. 0. 0. 0. 0. 0. 0. 0. 0. 0. 0. 0. 0. 0. 0. 0. 0. 0. 0. 1.\n",
            "  0. 0. 0. 0. 0. 0. 0. 1. 1. 0. 0. 0. 0. 0. 0. 0. 0. 0. 0. 0. 0. 0. 0. 0.\n",
            "  0. 0. 0. 1. 1. 1. 0. 0. 0. 1. 0. 0. 0. 0. 0. 0. 0. 0. 1. 0. 0. 0. 0. 0.]\n",
            " [0. 0. 0. 1. 1. 1. 1. 1. 0. 0. 0. 0. 0. 0. 0. 1. 1. 0. 0. 0. 0. 1. 0. 0.\n",
            "  0. 0. 0. 0. 0. 0. 0. 0. 0. 0. 0. 0. 0. 0. 0. 0. 0. 0. 0. 0. 0. 0. 0. 1.\n",
            "  0. 0. 0. 0. 0. 0. 0. 1. 1. 0. 0. 0. 0. 0. 0. 0. 0. 0. 0. 0. 0. 0. 0. 0.\n",
            "  0. 0. 0. 1. 1. 1. 0. 0. 0. 1. 0. 0. 0. 0. 0. 0. 0. 0. 1. 0. 0. 0. 0. 0.]\n",
            " [0. 0. 0. 1. 1. 1. 0. 1. 0. 0. 0. 0. 0. 0. 0. 1. 1. 0. 0. 0. 0. 1. 0. 0.\n",
            "  0. 0. 0. 0. 0. 0. 0. 0. 0. 0. 0. 0. 0. 0. 0. 0. 0. 0. 0. 0. 0. 0. 0. 1.\n",
            "  0. 0. 0. 0. 0. 0. 0. 1. 0. 0. 0. 0. 0. 0. 0. 0. 0. 0. 0. 0. 0. 0. 0. 0.\n",
            "  0. 0. 0. 1. 1. 1. 0. 0. 0. 1. 0. 0. 0. 0. 0. 0. 0. 0. 1. 0. 0. 0. 0. 0.]\n",
            " [0. 0. 0. 1. 1. 1. 0. 0. 0. 0. 0. 0. 0. 0. 0. 1. 1. 0. 0. 0. 0. 1. 0. 0.\n",
            "  0. 0. 0. 0. 0. 0. 0. 0. 0. 0. 0. 0. 0. 0. 0. 0. 0. 1. 0. 0. 0. 0. 0. 1.\n",
            "  0. 0. 0. 0. 0. 0. 1. 1. 1. 0. 0. 0. 0. 0. 1. 0. 0. 0. 0. 0. 0. 0. 0. 0.\n",
            "  0. 0. 0. 1. 1. 1. 0. 0. 0. 1. 0. 0. 0. 0. 0. 0. 1. 0. 1. 0. 0. 0. 0. 0.]\n",
            " [0. 0. 0. 1. 1. 1. 0. 1. 0. 0. 0. 0. 1. 1. 1. 1. 1. 0. 0. 0. 1. 1. 0. 1.\n",
            "  1. 0. 1. 0. 0. 0. 0. 0. 0. 0. 0. 1. 1. 0. 1. 0. 0. 1. 0. 0. 0. 0. 0. 1.\n",
            "  1. 1. 0. 1. 0. 0. 1. 1. 1. 0. 0. 1. 0. 0. 1. 0. 0. 0. 0. 1. 1. 0. 0. 0.\n",
            "  0. 0. 0. 1. 1. 1. 0. 0. 0. 1. 1. 1. 1. 0. 0. 0. 0. 0. 1. 0. 0. 0. 0. 0.]\n",
            " [0. 0. 0. 1. 1. 1. 0. 1. 0. 0. 1. 0. 1. 1. 1. 1. 1. 0. 0. 0. 0. 1. 0. 1.\n",
            "  0. 0. 1. 0. 0. 0. 0. 0. 0. 0. 0. 1. 1. 0. 1. 1. 0. 1. 0. 0. 0. 0. 0. 1.\n",
            "  1. 0. 0. 1. 0. 0. 0. 1. 1. 0. 0. 1. 0. 0. 1. 1. 0. 0. 0. 1. 1. 0. 0. 0.\n",
            "  0. 0. 0. 1. 1. 1. 0. 0. 0. 1. 1. 1. 1. 0. 0. 0. 0. 0. 1. 1. 0. 0. 0. 0.]]\n",
            "[[0. 0. 0. 0. 1. 1. 0. 1. 0. 1. 0. 0. 1. 0. 0. 0. 0. 0. 0. 0. 0. 0. 0. 0.\n",
            "  0. 0. 0. 0. 1. 0. 0. 0. 0. 0. 0. 0. 1. 0. 0. 0. 0. 0. 0. 0. 0. 0. 1. 0.\n",
            "  0. 0. 0. 0. 0. 0. 0. 0. 0. 0. 0. 0.]\n",
            " [0. 0. 0. 0. 0. 1. 0. 1. 0. 1. 0. 0. 1. 0. 0. 0. 0. 0. 0. 0. 0. 0. 0. 0.\n",
            "  0. 0. 0. 0. 1. 0. 0. 0. 0. 0. 0. 0. 1. 0. 0. 0. 0. 0. 0. 0. 0. 0. 1. 0.\n",
            "  0. 0. 0. 0. 0. 0. 0. 0. 0. 0. 0. 0.]\n",
            " [0. 0. 0. 0. 1. 1. 0. 1. 0. 0. 0. 0. 1. 0. 1. 0. 0. 0. 0. 0. 0. 0. 0. 0.\n",
            "  0. 0. 0. 0. 1. 0. 0. 0. 0. 0. 0. 0. 1. 0. 0. 0. 0. 0. 0. 0. 0. 0. 0. 0.\n",
            "  0. 0. 0. 0. 0. 0. 0. 0. 0. 0. 0. 0.]\n",
            " [0. 0. 0. 0. 1. 1. 0. 0. 0. 0. 0. 0. 1. 0. 1. 0. 0. 0. 0. 0. 0. 0. 0. 0.\n",
            "  0. 0. 0. 0. 1. 0. 0. 0. 0. 0. 0. 0. 1. 0. 0. 0. 0. 0. 0. 0. 0. 0. 0. 0.\n",
            "  0. 0. 0. 0. 0. 0. 0. 0. 0. 0. 0. 0.]\n",
            " [0. 0. 0. 0. 1. 1. 0. 0. 0. 0. 0. 0. 1. 0. 1. 0. 0. 0. 0. 0. 0. 0. 0. 0.\n",
            "  0. 0. 0. 0. 1. 0. 0. 0. 0. 0. 0. 0. 1. 0. 0. 0. 0. 0. 0. 0. 0. 0. 0. 0.\n",
            "  0. 0. 0. 0. 0. 0. 0. 0. 0. 0. 0. 0.]\n",
            " [0. 0. 0. 0. 1. 1. 0. 0. 0. 0. 0. 0. 1. 0. 1. 0. 0. 0. 0. 0. 0. 0. 0. 0.\n",
            "  0. 0. 0. 0. 1. 0. 0. 0. 0. 0. 0. 0. 1. 0. 0. 0. 0. 0. 0. 0. 0. 0. 0. 0.\n",
            "  0. 0. 0. 0. 0. 0. 0. 0. 0. 0. 0. 0.]\n",
            " [0. 0. 0. 0. 1. 1. 0. 0. 0. 1. 0. 0. 1. 0. 0. 0. 0. 0. 0. 0. 0. 0. 0. 0.\n",
            "  0. 0. 0. 0. 1. 0. 0. 0. 0. 0. 0. 0. 1. 0. 0. 0. 0. 0. 1. 0. 0. 0. 1. 0.\n",
            "  0. 0. 0. 0. 0. 0. 0. 0. 0. 0. 0. 0.]\n",
            " [0. 0. 0. 0. 1. 1. 0. 1. 0. 1. 0. 0. 0. 0. 1. 0. 0. 1. 0. 1. 0. 0. 0. 0.\n",
            "  0. 0. 0. 0. 1. 0. 0. 0. 0. 0. 0. 0. 1. 0. 0. 0. 0. 0. 1. 0. 1. 0. 1. 0.\n",
            "  0. 0. 0. 0. 0. 0. 0. 0. 0. 0. 0. 0.]\n",
            " [1. 1. 0. 0. 1. 1. 0. 0. 0. 1. 0. 0. 0. 0. 1. 0. 0. 1. 0. 1. 0. 0. 0. 0.\n",
            "  0. 0. 0. 0. 1. 0. 0. 0. 0. 0. 0. 0. 1. 0. 0. 0. 0. 0. 0. 0. 1. 0. 1. 0.\n",
            "  0. 0. 0. 0. 0. 0. 0. 0. 0. 0. 0. 0.]]\n",
            "[[0. 0. 0. ... 0. 0. 0.]\n",
            " [0. 0. 0. ... 0. 0. 0.]\n",
            " [0. 0. 0. ... 0. 0. 0.]\n",
            " ...\n",
            " [1. 0. 0. ... 0. 0. 0.]\n",
            " [0. 0. 0. ... 0. 0. 0.]\n",
            " [0. 0. 0. ... 0. 0. 0.]]\n",
            "[[1. 0. 0. ... 0. 0. 0.]\n",
            " [0. 0. 0. ... 0. 0. 0.]\n",
            " [1. 0. 0. ... 0. 0. 0.]\n",
            " ...\n",
            " [1. 0. 0. ... 0. 0. 0.]\n",
            " [0. 0. 0. ... 0. 0. 0.]\n",
            " [1. 0. 0. ... 0. 0. 0.]]\n",
            "[[0. 0. 1. ... 1. 1. 1.]\n",
            " [0. 0. 0. ... 0. 0. 0.]\n",
            " [0. 0. 0. ... 1. 1. 1.]\n",
            " ...\n",
            " [0. 0. 1. ... 0. 0. 1.]\n",
            " [0. 0. 0. ... 0. 0. 0.]\n",
            " [0. 0. 0. ... 0. 0. 1.]]\n",
            "[[0. 0. 0. ... 0. 1. 0.]\n",
            " [0. 0. 0. ... 0. 0. 0.]\n",
            " [0. 0. 0. ... 0. 1. 0.]\n",
            " ...\n",
            " [0. 0. 0. ... 0. 1. 0.]\n",
            " [0. 0. 0. ... 0. 0. 0.]\n",
            " [0. 0. 0. ... 0. 0. 0.]]\n",
            "[[0. 0. 1. ... 0. 0. 1.]\n",
            " [0. 0. 0. ... 0. 0. 0.]\n",
            " [0. 0. 1. ... 0. 0. 1.]\n",
            " ...\n",
            " [0. 1. 1. ... 0. 0. 0.]\n",
            " [0. 0. 0. ... 0. 0. 0.]\n",
            " [0. 0. 0. ... 0. 0. 0.]]\n",
            "[[1. 0. 0. ... 0. 0. 0.]\n",
            " [0. 0. 0. ... 0. 0. 0.]\n",
            " [1. 0. 0. ... 0. 0. 0.]\n",
            " ...\n",
            " [0. 0. 0. ... 0. 0. 0.]\n",
            " [0. 0. 0. ... 0. 0. 0.]\n",
            " [0. 0. 0. ... 0. 0. 0.]]\n",
            "[[0. 0. 0. ... 0. 0. 0.]\n",
            " [0. 0. 0. ... 0. 0. 0.]\n",
            " [0. 0. 0. ... 0. 0. 0.]\n",
            " ...\n",
            " [0. 0. 0. ... 0. 0. 0.]\n",
            " [0. 0. 0. ... 0. 0. 0.]\n",
            " [0. 0. 0. ... 0. 0. 0.]]\n",
            "[[1. 0. 0. ... 0. 0. 1.]\n",
            " [1. 0. 0. ... 0. 0. 0.]\n",
            " [1. 0. 0. ... 0. 0. 0.]\n",
            " ...\n",
            " [1. 0. 0. ... 0. 0. 0.]\n",
            " [1. 0. 0. ... 0. 0. 0.]\n",
            " [1. 0. 0. ... 0. 0. 0.]]\n",
            "[[0. 0. 1. ... 1. 1. 1.]\n",
            " [0. 0. 1. ... 1. 1. 1.]\n",
            " [0. 0. 1. ... 1. 1. 1.]\n",
            " ...\n",
            " [0. 0. 0. ... 0. 0. 1.]\n",
            " [0. 0. 0. ... 0. 0. 1.]\n",
            " [0. 0. 0. ... 0. 0. 1.]]\n",
            "[[0. 0. 0. ... 0. 1. 0.]\n",
            " [0. 0. 0. ... 0. 1. 0.]\n",
            " [0. 0. 0. ... 0. 1. 0.]\n",
            " ...\n",
            " [0. 0. 0. ... 0. 1. 0.]\n",
            " [0. 0. 0. ... 0. 1. 0.]\n",
            " [0. 0. 0. ... 0. 1. 0.]]\n",
            "[[0. 0. 0. ... 0. 0. 1.]\n",
            " [0. 0. 0. ... 0. 0. 1.]\n",
            " [0. 0. 0. ... 0. 0. 1.]\n",
            " ...\n",
            " [0. 0. 0. ... 0. 0. 0.]\n",
            " [0. 0. 0. ... 0. 0. 0.]\n",
            " [0. 0. 0. ... 0. 0. 0.]]\n",
            "[[1. 1. 0. ... 0. 0. 0.]\n",
            " [1. 0. 0. ... 0. 0. 0.]\n",
            " [1. 0. 0. ... 0. 0. 0.]\n",
            " ...\n",
            " [0. 0. 0. ... 0. 0. 0.]\n",
            " [0. 0. 0. ... 0. 0. 0.]\n",
            " [0. 0. 0. ... 0. 0. 0.]]\n",
            "[[1. 1. 0. ... 0. 0. 0.]\n",
            " [1. 0. 0. ... 0. 0. 0.]\n",
            " [1. 0. 0. ... 0. 0. 0.]\n",
            " ...\n",
            " [1. 0. 0. ... 0. 0. 0.]\n",
            " [1. 0. 0. ... 0. 0. 0.]\n",
            " [0. 0. 0. ... 0. 0. 0.]]\n",
            "[[1. 0. 0. ... 0. 0. 1.]\n",
            " [1. 0. 0. ... 0. 0. 1.]\n",
            " [1. 0. 0. ... 0. 0. 1.]\n",
            " ...\n",
            " [1. 0. 0. ... 0. 0. 0.]\n",
            " [1. 0. 0. ... 0. 0. 0.]\n",
            " [1. 0. 0. ... 0. 0. 0.]]\n",
            "[[0. 0. 1. ... 1. 0. 1.]\n",
            " [0. 0. 1. ... 1. 0. 1.]\n",
            " [0. 0. 1. ... 1. 0. 1.]\n",
            " ...\n",
            " [0. 0. 0. ... 0. 0. 1.]\n",
            " [0. 0. 0. ... 1. 0. 1.]\n",
            " [0. 0. 0. ... 0. 0. 1.]]\n",
            "[[0. 0. 0. ... 0. 1. 0.]\n",
            " [0. 0. 0. ... 0. 1. 0.]\n",
            " [0. 0. 0. ... 0. 1. 0.]\n",
            " ...\n",
            " [0. 0. 0. ... 0. 1. 0.]\n",
            " [0. 0. 0. ... 0. 1. 0.]\n",
            " [0. 0. 0. ... 0. 1. 0.]]\n",
            "[[0. 1. 0. ... 0. 0. 0.]\n",
            " [0. 1. 0. ... 0. 0. 0.]\n",
            " [0. 1. 0. ... 0. 0. 0.]\n",
            " ...\n",
            " [0. 0. 1. ... 0. 0. 0.]\n",
            " [0. 0. 0. ... 0. 0. 0.]\n",
            " [0. 0. 0. ... 0. 0. 0.]]\n",
            "[[0. 0. 0. 0. 1. 1. 0. 1. 0. 0. 0. 0. 1. 0. 1. 0. 0. 1. 0. 1. 0. 0. 0. 0.\n",
            "  0. 1. 0. 0. 1. 1. 0. 0. 0. 0. 0. 0. 1. 0. 0. 0. 0. 0. 1. 0. 0. 0. 1. 0.\n",
            "  0. 0. 0. 0. 0. 0. 0. 0. 0. 0. 0. 0.]\n",
            " [0. 0. 0. 0. 1. 1. 0. 0. 0. 0. 0. 0. 1. 0. 1. 0. 0. 1. 0. 1. 0. 0. 0. 0.\n",
            "  0. 1. 0. 0. 1. 1. 0. 0. 0. 0. 0. 0. 1. 0. 0. 0. 0. 0. 1. 0. 0. 0. 1. 0.\n",
            "  0. 0. 0. 0. 0. 0. 0. 0. 0. 0. 0. 0.]\n",
            " [0. 0. 0. 0. 1. 1. 0. 0. 0. 0. 0. 0. 1. 0. 1. 0. 0. 1. 0. 1. 0. 0. 0. 0.\n",
            "  0. 1. 0. 0. 1. 1. 0. 0. 0. 0. 0. 0. 1. 0. 0. 0. 0. 0. 1. 0. 0. 0. 1. 0.\n",
            "  0. 0. 0. 0. 0. 0. 0. 0. 0. 0. 0. 0.]\n",
            " [0. 0. 0. 0. 1. 1. 0. 0. 0. 0. 0. 0. 1. 0. 1. 0. 0. 1. 0. 1. 0. 0. 0. 0.\n",
            "  0. 1. 0. 0. 1. 1. 0. 0. 0. 0. 0. 0. 1. 1. 0. 0. 0. 0. 1. 0. 0. 0. 1. 0.\n",
            "  0. 0. 0. 0. 0. 0. 0. 0. 0. 0. 0. 0.]\n",
            " [0. 0. 0. 0. 1. 1. 0. 0. 0. 0. 0. 0. 1. 0. 1. 0. 0. 1. 0. 1. 0. 0. 0. 0.\n",
            "  0. 0. 0. 0. 1. 1. 0. 0. 0. 0. 0. 0. 1. 0. 0. 0. 0. 0. 1. 0. 0. 0. 1. 0.\n",
            "  0. 0. 0. 0. 0. 0. 0. 0. 0. 0. 0. 0.]\n",
            " [0. 0. 0. 0. 1. 1. 0. 0. 0. 0. 0. 0. 0. 0. 1. 0. 0. 1. 0. 1. 0. 0. 0. 0.\n",
            "  0. 0. 0. 0. 1. 1. 0. 0. 0. 0. 0. 0. 1. 0. 0. 0. 0. 0. 1. 0. 0. 0. 1. 0.\n",
            "  0. 0. 0. 0. 0. 0. 0. 0. 0. 0. 0. 0.]\n",
            " [0. 0. 0. 0. 1. 1. 0. 0. 0. 0. 0. 0. 0. 0. 1. 0. 0. 1. 0. 1. 0. 0. 0. 0.\n",
            "  0. 0. 0. 0. 1. 1. 0. 0. 0. 0. 0. 0. 1. 0. 0. 0. 0. 0. 1. 0. 0. 0. 1. 0.\n",
            "  0. 0. 0. 0. 0. 0. 0. 0. 0. 0. 0. 0.]\n",
            " [0. 0. 0. 0. 1. 1. 0. 0. 0. 0. 0. 0. 0. 0. 1. 0. 0. 1. 0. 1. 0. 0. 0. 0.\n",
            "  0. 0. 0. 0. 1. 1. 0. 0. 0. 0. 0. 0. 1. 1. 0. 0. 0. 0. 1. 0. 0. 0. 1. 0.\n",
            "  0. 0. 0. 0. 0. 0. 0. 0. 0. 0. 0. 0.]\n",
            " [0. 0. 0. 0. 1. 1. 0. 0. 0. 0. 0. 0. 0. 0. 1. 0. 0. 1. 0. 1. 0. 0. 0. 0.\n",
            "  0. 0. 0. 0. 1. 1. 0. 0. 0. 0. 0. 0. 1. 1. 0. 0. 0. 0. 1. 0. 0. 0. 1. 0.\n",
            "  0. 0. 0. 0. 0. 0. 0. 0. 0. 0. 0. 0.]\n",
            " [0. 0. 0. 0. 1. 1. 0. 0. 0. 1. 0. 0. 0. 0. 1. 0. 0. 1. 0. 1. 0. 0. 0. 0.\n",
            "  0. 0. 0. 0. 1. 1. 0. 0. 0. 0. 0. 0. 1. 1. 0. 0. 1. 0. 1. 0. 0. 0. 1. 0.\n",
            "  0. 0. 0. 0. 0. 0. 0. 0. 0. 0. 0. 0.]\n",
            " [0. 0. 0. 0. 1. 1. 0. 0. 0. 0. 0. 0. 0. 0. 1. 0. 0. 1. 0. 1. 0. 0. 0. 0.\n",
            "  0. 0. 0. 0. 1. 0. 0. 0. 0. 0. 0. 0. 1. 1. 0. 0. 1. 0. 1. 0. 0. 0. 1. 0.\n",
            "  0. 0. 0. 0. 0. 0. 0. 0. 0. 0. 0. 0.]\n",
            " [1. 0. 0. 0. 1. 1. 0. 0. 0. 0. 0. 0. 0. 0. 1. 0. 0. 1. 0. 1. 0. 0. 0. 1.\n",
            "  0. 1. 0. 0. 1. 0. 0. 0. 0. 0. 0. 0. 1. 1. 0. 0. 0. 0. 1. 0. 0. 0. 0. 0.\n",
            "  0. 0. 0. 0. 0. 0. 0. 0. 0. 0. 0. 0.]\n",
            " [0. 0. 0. 0. 1. 1. 0. 0. 0. 0. 0. 0. 0. 0. 1. 0. 0. 1. 0. 1. 0. 0. 0. 0.\n",
            "  0. 0. 0. 0. 1. 0. 0. 0. 0. 0. 0. 0. 1. 1. 0. 0. 0. 0. 1. 1. 0. 0. 0. 0.\n",
            "  0. 0. 0. 0. 0. 0. 0. 0. 0. 0. 0. 0.]\n",
            " [0. 0. 0. 0. 1. 1. 0. 0. 0. 0. 0. 0. 0. 0. 1. 0. 0. 1. 0. 1. 0. 0. 0. 0.\n",
            "  0. 0. 0. 0. 1. 0. 0. 0. 0. 0. 0. 0. 1. 1. 0. 0. 0. 0. 0. 1. 1. 0. 0. 0.\n",
            "  0. 0. 0. 0. 0. 0. 0. 0. 0. 0. 0. 0.]\n",
            " [0. 0. 0. 0. 1. 1. 0. 0. 0. 0. 0. 0. 0. 0. 1. 0. 0. 1. 0. 1. 0. 0. 0. 0.\n",
            "  0. 0. 0. 0. 1. 0. 0. 0. 0. 0. 0. 0. 1. 1. 0. 0. 0. 0. 1. 0. 1. 0. 0. 0.\n",
            "  0. 0. 0. 0. 0. 0. 0. 0. 0. 0. 0. 0.]\n",
            " [0. 0. 0. 0. 1. 1. 0. 0. 0. 0. 0. 0. 0. 0. 1. 0. 0. 1. 0. 1. 0. 0. 0. 0.\n",
            "  0. 0. 0. 0. 1. 0. 0. 0. 0. 0. 0. 0. 1. 1. 0. 0. 0. 0. 1. 0. 0. 0. 0. 0.\n",
            "  0. 0. 0. 0. 0. 0. 0. 0. 0. 0. 0. 0.]]\n",
            "[[0. 0. 0. ... 0. 0. 0.]\n",
            " [0. 0. 0. ... 0. 0. 0.]\n",
            " [0. 0. 0. ... 0. 0. 0.]\n",
            " ...\n",
            " [1. 0. 0. ... 1. 0. 0.]\n",
            " [1. 0. 0. ... 1. 0. 0.]\n",
            " [0. 0. 0. ... 1. 0. 0.]]\n",
            "[[1. 0. 0. ... 0. 0. 0.]\n",
            " [1. 0. 0. ... 0. 0. 0.]\n",
            " [1. 0. 0. ... 0. 0. 0.]\n",
            " ...\n",
            " [1. 0. 0. ... 0. 0. 0.]\n",
            " [1. 0. 0. ... 0. 0. 0.]\n",
            " [1. 0. 0. ... 0. 0. 0.]]\n",
            "[[0. 0. 1. ... 1. 0. 1.]\n",
            " [0. 0. 0. ... 1. 0. 1.]\n",
            " [1. 0. 0. ... 1. 0. 1.]\n",
            " ...\n",
            " [0. 0. 0. ... 1. 0. 1.]\n",
            " [1. 0. 0. ... 0. 0. 1.]\n",
            " [0. 0. 0. ... 0. 0. 1.]]\n",
            "[[0. 0. 0. ... 0. 1. 0.]\n",
            " [0. 0. 0. ... 0. 1. 0.]\n",
            " [0. 0. 0. ... 0. 1. 0.]\n",
            " ...\n",
            " [0. 0. 0. ... 0. 1. 0.]\n",
            " [0. 0. 0. ... 0. 1. 0.]\n",
            " [0. 0. 0. ... 0. 1. 0.]]\n",
            "[[0. 1. 0. ... 0. 1. 1.]\n",
            " [0. 1. 0. ... 0. 1. 1.]\n",
            " [0. 1. 0. ... 0. 1. 1.]\n",
            " ...\n",
            " [0. 1. 0. ... 0. 1. 0.]\n",
            " [0. 1. 0. ... 0. 1. 1.]\n",
            " [0. 1. 0. ... 0. 1. 0.]]\n",
            "[[1. 0. 0. 1. 1. 1. 0. 0. 0. 1. 1. 0. 1. 0. 1. 0. 0. 1. 0. 0. 0. 1. 0. 0.\n",
            "  0. 0. 0. 0. 1. 0. 0. 0. 0. 0. 0. 0. 1. 0. 0. 0. 0. 1. 1. 0. 1. 0. 0. 0.\n",
            "  0. 0. 0. 0. 0. 0. 1. 0. 0. 0. 0. 0.]\n",
            " [1. 0. 0. 1. 1. 1. 0. 0. 0. 1. 1. 0. 1. 0. 1. 0. 0. 1. 0. 0. 0. 0. 0. 0.\n",
            "  0. 0. 0. 0. 1. 0. 0. 0. 0. 0. 0. 0. 1. 0. 0. 0. 0. 1. 1. 0. 1. 0. 0. 0.\n",
            "  0. 0. 0. 0. 0. 0. 0. 0. 0. 0. 0. 0.]\n",
            " [1. 0. 0. 1. 1. 1. 0. 0. 0. 1. 1. 0. 1. 0. 1. 0. 0. 1. 0. 0. 0. 0. 0. 0.\n",
            "  0. 0. 0. 0. 1. 0. 0. 0. 0. 0. 0. 0. 1. 0. 0. 0. 0. 1. 1. 0. 1. 0. 0. 0.\n",
            "  0. 0. 0. 0. 0. 0. 0. 0. 0. 0. 0. 0.]\n",
            " [1. 0. 0. 1. 1. 1. 0. 0. 0. 0. 1. 0. 1. 0. 1. 0. 0. 1. 0. 0. 0. 0. 0. 0.\n",
            "  0. 0. 0. 0. 1. 0. 0. 0. 0. 0. 0. 0. 1. 0. 0. 0. 0. 1. 1. 0. 1. 0. 0. 0.\n",
            "  0. 0. 0. 0. 0. 0. 0. 0. 0. 0. 0. 0.]\n",
            " [1. 0. 0. 1. 1. 1. 0. 0. 0. 0. 1. 1. 1. 0. 1. 0. 0. 1. 0. 0. 0. 1. 0. 0.\n",
            "  0. 0. 0. 0. 1. 0. 0. 0. 0. 0. 0. 0. 1. 0. 0. 0. 0. 1. 1. 0. 1. 0. 0. 0.\n",
            "  0. 0. 0. 0. 0. 0. 0. 0. 1. 0. 0. 0.]\n",
            " [1. 0. 0. 1. 1. 1. 0. 0. 0. 1. 1. 0. 0. 0. 1. 0. 0. 0. 0. 0. 0. 0. 0. 0.\n",
            "  0. 0. 0. 0. 1. 0. 0. 0. 0. 0. 0. 0. 1. 0. 0. 0. 0. 0. 1. 0. 1. 0. 0. 0.\n",
            "  0. 0. 0. 0. 0. 0. 0. 0. 1. 0. 0. 0.]\n",
            " [1. 0. 0. 1. 1. 1. 0. 0. 0. 1. 1. 0. 0. 0. 1. 0. 0. 0. 0. 0. 0. 0. 0. 0.\n",
            "  0. 0. 0. 0. 1. 0. 0. 0. 0. 0. 0. 0. 1. 0. 0. 0. 0. 0. 1. 0. 1. 0. 0. 0.\n",
            "  0. 0. 0. 0. 0. 0. 0. 0. 1. 0. 0. 0.]\n",
            " [1. 0. 0. 1. 1. 1. 0. 0. 0. 1. 1. 0. 0. 0. 1. 0. 0. 1. 0. 0. 0. 0. 0. 0.\n",
            "  0. 0. 0. 0. 1. 0. 0. 0. 0. 0. 0. 0. 1. 0. 0. 0. 0. 0. 1. 0. 1. 0. 0. 0.\n",
            "  0. 0. 0. 0. 0. 0. 0. 0. 0. 0. 0. 0.]\n",
            " [1. 0. 0. 1. 1. 1. 0. 0. 0. 1. 1. 0. 0. 0. 1. 0. 0. 1. 0. 0. 0. 0. 0. 0.\n",
            "  0. 0. 0. 0. 1. 0. 0. 0. 0. 0. 0. 0. 1. 0. 0. 0. 0. 0. 1. 0. 1. 0. 0. 0.\n",
            "  0. 0. 0. 0. 0. 0. 0. 1. 0. 0. 0. 0.]\n",
            " [1. 0. 0. 1. 1. 1. 0. 0. 0. 1. 1. 0. 0. 0. 1. 0. 0. 1. 0. 0. 0. 0. 0. 0.\n",
            "  0. 1. 0. 0. 1. 0. 0. 0. 0. 0. 0. 0. 1. 0. 0. 0. 0. 0. 1. 0. 1. 0. 1. 0.\n",
            "  0. 0. 0. 0. 0. 0. 0. 1. 0. 0. 0. 0.]\n",
            " [1. 0. 0. 1. 1. 1. 0. 0. 0. 1. 1. 0. 0. 0. 1. 0. 0. 1. 0. 0. 0. 0. 0. 1.\n",
            "  0. 1. 0. 0. 1. 0. 0. 0. 0. 0. 0. 0. 1. 0. 0. 0. 0. 0. 1. 1. 1. 0. 1. 0.\n",
            "  0. 0. 0. 0. 0. 0. 0. 1. 0. 0. 0. 0.]\n",
            " [1. 1. 0. 0. 1. 1. 0. 0. 0. 1. 1. 0. 0. 0. 1. 0. 0. 0. 0. 1. 0. 0. 0. 1.\n",
            "  0. 1. 0. 0. 1. 0. 0. 0. 0. 0. 0. 0. 1. 0. 0. 0. 0. 0. 1. 0. 1. 0. 1. 0.\n",
            "  0. 0. 0. 0. 0. 0. 0. 1. 0. 0. 0. 0.]]\n",
            "[[1. 0. 0. ... 1. 0. 0.]\n",
            " [1. 0. 0. ... 1. 0. 0.]\n",
            " [1. 0. 0. ... 1. 0. 0.]\n",
            " ...\n",
            " [1. 0. 0. ... 0. 0. 0.]\n",
            " [1. 0. 0. ... 0. 0. 0.]\n",
            " [1. 0. 0. ... 0. 0. 0.]]\n",
            "[[1. 0. 0. ... 0. 0. 0.]\n",
            " [1. 0. 0. ... 0. 0. 0.]\n",
            " [1. 0. 0. ... 0. 0. 0.]\n",
            " ...\n",
            " [1. 0. 0. ... 0. 0. 0.]\n",
            " [1. 0. 0. ... 0. 0. 0.]\n",
            " [1. 0. 0. ... 0. 0. 0.]]\n",
            "[[0. 0. 1. ... 1. 0. 1.]\n",
            " [0. 0. 1. ... 1. 0. 1.]\n",
            " [0. 0. 1. ... 1. 0. 1.]\n",
            " ...\n",
            " [0. 0. 1. ... 0. 0. 1.]\n",
            " [0. 0. 1. ... 0. 0. 1.]\n",
            " [0. 0. 1. ... 0. 0. 1.]]\n",
            "[[0. 0. 0. ... 0. 1. 0.]\n",
            " [0. 0. 1. ... 0. 1. 0.]\n",
            " [0. 0. 0. ... 0. 1. 0.]\n",
            " ...\n",
            " [0. 0. 0. ... 0. 1. 0.]\n",
            " [0. 0. 0. ... 0. 1. 0.]\n",
            " [0. 0. 0. ... 0. 1. 0.]]\n",
            "[[0. 0. 0. ... 0. 1. 0.]\n",
            " [0. 0. 0. ... 0. 0. 0.]\n",
            " [0. 0. 0. ... 0. 1. 0.]\n",
            " ...\n",
            " [0. 0. 0. ... 0. 0. 0.]\n",
            " [0. 0. 0. ... 0. 1. 0.]\n",
            " [0. 0. 0. ... 0. 1. 0.]]\n",
            "[[0. 0. 0. ... 0. 0. 0.]\n",
            " [0. 0. 0. ... 0. 0. 0.]\n",
            " [0. 0. 0. ... 0. 0. 0.]\n",
            " ...\n",
            " [0. 0. 0. ... 0. 0. 1.]\n",
            " [0. 0. 0. ... 0. 0. 1.]\n",
            " [0. 0. 0. ... 0. 0. 1.]]\n",
            "[[0. 0. 0. ... 0. 0. 0.]\n",
            " [0. 0. 0. ... 0. 0. 0.]\n",
            " [0. 0. 0. ... 0. 0. 0.]\n",
            " ...\n",
            " [0. 0. 0. ... 0. 0. 0.]\n",
            " [0. 0. 0. ... 0. 0. 0.]\n",
            " [0. 0. 0. ... 0. 0. 0.]]\n",
            "[[1. 0. 0. ... 0. 0. 0.]\n",
            " [1. 0. 0. ... 0. 0. 0.]\n",
            " [1. 0. 0. ... 0. 0. 0.]\n",
            " ...\n",
            " [1. 0. 0. ... 0. 0. 0.]\n",
            " [1. 0. 0. ... 0. 0. 0.]\n",
            " [1. 0. 0. ... 0. 0. 0.]]\n",
            "[[0. 0. 1. ... 1. 1. 1.]\n",
            " [0. 0. 1. ... 1. 1. 1.]\n",
            " [0. 0. 1. ... 1. 1. 1.]\n",
            " ...\n",
            " [0. 0. 0. ... 0. 0. 0.]\n",
            " [0. 0. 0. ... 0. 0. 0.]\n",
            " [0. 0. 0. ... 0. 0. 0.]]\n",
            "[[0. 0. 0. ... 0. 1. 0.]\n",
            " [0. 0. 0. ... 0. 1. 0.]\n",
            " [0. 0. 0. ... 0. 1. 0.]\n",
            " ...\n",
            " [0. 0. 0. ... 0. 0. 0.]\n",
            " [0. 0. 0. ... 0. 0. 0.]\n",
            " [0. 0. 0. ... 0. 0. 0.]]\n",
            "[[0. 0. 0. ... 0. 0. 0.]\n",
            " [0. 0. 0. ... 0. 0. 0.]\n",
            " [0. 0. 0. ... 0. 0. 0.]\n",
            " ...\n",
            " [0. 0. 0. ... 0. 0. 0.]\n",
            " [0. 0. 0. ... 0. 0. 0.]\n",
            " [0. 0. 0. ... 0. 0. 0.]]\n",
            "[[0. 0. 0. ... 0. 0. 1.]\n",
            " [0. 0. 0. ... 0. 0. 1.]\n",
            " [0. 0. 0. ... 0. 0. 1.]\n",
            " ...\n",
            " [0. 0. 0. ... 0. 0. 0.]\n",
            " [0. 0. 0. ... 0. 0. 0.]\n",
            " [0. 0. 0. ... 0. 0. 0.]]\n",
            "[[0. 0. 0. ... 0. 0. 0.]\n",
            " [0. 0. 0. ... 0. 0. 0.]\n",
            " [0. 0. 0. ... 0. 0. 0.]\n",
            " ...\n",
            " [0. 0. 0. ... 0. 0. 0.]\n",
            " [0. 0. 0. ... 0. 0. 0.]\n",
            " [0. 0. 0. ... 0. 0. 0.]]\n",
            "[[1. 0. 0. ... 0. 0. 0.]\n",
            " [1. 0. 0. ... 0. 0. 0.]\n",
            " [1. 0. 0. ... 0. 0. 0.]\n",
            " ...\n",
            " [1. 0. 0. ... 0. 0. 0.]\n",
            " [1. 0. 0. ... 0. 0. 0.]\n",
            " [1. 0. 0. ... 0. 0. 0.]]\n",
            "[[0. 0. 1. ... 0. 0. 1.]\n",
            " [0. 0. 0. ... 0. 0. 1.]\n",
            " [0. 0. 0. ... 0. 0. 1.]\n",
            " ...\n",
            " [0. 0. 0. ... 0. 0. 1.]\n",
            " [0. 0. 0. ... 0. 0. 1.]\n",
            " [0. 0. 0. ... 0. 0. 1.]]\n",
            "[[0. 0. 0. ... 0. 1. 0.]\n",
            " [0. 0. 0. ... 0. 1. 0.]\n",
            " [0. 0. 0. ... 0. 1. 0.]\n",
            " ...\n",
            " [0. 0. 0. ... 0. 1. 0.]\n",
            " [0. 0. 0. ... 0. 1. 0.]\n",
            " [0. 0. 0. ... 0. 1. 0.]]\n",
            "[[1. 0. 1. 1. 1. 1. 0. 1. 0. 0. 0. 0. 0. 0. 0. 1. 1. 0. 0. 0. 0. 1. 0. 0.\n",
            "  0. 0. 0. 0. 0. 0. 0. 0. 0. 0. 0. 1. 1. 0. 0. 0. 0. 1. 0. 0. 0. 0. 0. 1.\n",
            "  0. 1. 0. 0. 0. 0. 1. 1. 1. 0. 0. 1. 0. 0. 1. 1. 1. 0. 0. 1. 1. 0. 0. 0.\n",
            "  0. 0. 0. 1. 1. 1. 0. 0. 0. 1. 1. 1. 1. 0. 0. 0. 0. 0. 1. 0. 0. 0. 0. 0.]\n",
            " [1. 0. 1. 1. 1. 1. 0. 1. 0. 0. 0. 0. 1. 1. 1. 1. 1. 0. 0. 0. 0. 1. 0. 0.\n",
            "  0. 0. 0. 0. 0. 0. 0. 0. 0. 0. 0. 1. 1. 0. 0. 0. 0. 0. 0. 0. 0. 0. 0. 1.\n",
            "  0. 1. 0. 0. 1. 0. 0. 1. 1. 0. 0. 0. 0. 0. 1. 0. 1. 0. 0. 1. 0. 0. 0. 0.\n",
            "  0. 0. 0. 1. 1. 1. 0. 0. 0. 1. 1. 1. 1. 0. 0. 0. 0. 0. 1. 0. 0. 0. 0. 0.]\n",
            " [1. 0. 1. 1. 1. 1. 0. 1. 0. 0. 0. 0. 1. 1. 1. 1. 1. 0. 0. 0. 0. 1. 0. 0.\n",
            "  0. 0. 0. 0. 0. 0. 0. 0. 0. 0. 0. 1. 1. 0. 0. 0. 0. 0. 0. 0. 0. 0. 0. 1.\n",
            "  0. 0. 0. 0. 1. 0. 0. 1. 1. 0. 0. 0. 0. 0. 1. 0. 1. 0. 0. 1. 0. 0. 0. 0.\n",
            "  0. 0. 0. 1. 1. 1. 0. 0. 0. 1. 1. 1. 1. 0. 0. 0. 0. 0. 1. 0. 0. 0. 0. 0.]\n",
            " [0. 0. 1. 1. 1. 1. 0. 1. 0. 0. 0. 0. 1. 1. 1. 1. 1. 0. 0. 0. 0. 1. 0. 0.\n",
            "  0. 0. 0. 0. 0. 0. 0. 0. 0. 0. 0. 1. 1. 0. 0. 0. 0. 0. 0. 0. 0. 0. 0. 1.\n",
            "  0. 0. 0. 0. 1. 0. 0. 1. 1. 0. 0. 0. 0. 0. 1. 0. 1. 0. 0. 1. 0. 0. 0. 0.\n",
            "  0. 0. 0. 1. 1. 1. 0. 0. 0. 1. 0. 0. 1. 0. 0. 0. 0. 0. 1. 0. 0. 0. 0. 0.]\n",
            " [0. 0. 1. 1. 1. 1. 0. 0. 0. 0. 0. 0. 1. 1. 1. 1. 1. 0. 0. 0. 0. 1. 0. 0.\n",
            "  0. 0. 0. 0. 0. 0. 0. 0. 0. 0. 0. 1. 1. 0. 0. 0. 0. 0. 0. 0. 0. 0. 0. 1.\n",
            "  0. 1. 0. 0. 1. 0. 0. 1. 1. 0. 0. 0. 0. 0. 1. 0. 1. 0. 0. 1. 0. 0. 0. 0.\n",
            "  0. 0. 0. 1. 1. 1. 0. 0. 0. 1. 0. 0. 1. 0. 0. 0. 0. 0. 1. 0. 0. 0. 0. 0.]\n",
            " [0. 1. 1. 1. 1. 1. 0. 0. 0. 0. 0. 0. 1. 1. 1. 1. 1. 0. 0. 0. 0. 1. 0. 0.\n",
            "  0. 0. 0. 0. 0. 0. 0. 0. 0. 0. 0. 1. 1. 0. 0. 0. 0. 0. 0. 0. 0. 0. 0. 1.\n",
            "  0. 1. 0. 0. 1. 0. 0. 1. 1. 0. 0. 0. 0. 0. 1. 0. 1. 0. 0. 1. 1. 0. 0. 0.\n",
            "  0. 0. 0. 1. 1. 1. 0. 0. 0. 1. 0. 0. 1. 0. 0. 0. 0. 0. 1. 0. 0. 0. 0. 0.]\n",
            " [0. 1. 1. 1. 1. 1. 0. 1. 0. 0. 0. 0. 1. 1. 1. 1. 1. 0. 0. 0. 0. 1. 0. 0.\n",
            "  0. 0. 0. 0. 0. 0. 0. 0. 0. 0. 0. 1. 1. 0. 1. 0. 0. 0. 0. 0. 0. 0. 0. 1.\n",
            "  1. 1. 0. 0. 1. 0. 0. 1. 1. 0. 0. 0. 0. 0. 1. 0. 1. 0. 0. 1. 1. 0. 0. 0.\n",
            "  0. 0. 0. 1. 1. 1. 0. 0. 0. 1. 1. 1. 1. 0. 0. 0. 0. 0. 1. 0. 0. 0. 0. 0.]]\n",
            "[[0. 0. 0. 1. 1. 1. 0. 0. 0. 1. 0. 0. 0. 0. 1. 0. 0. 1. 0. 0. 0. 1. 0. 0.\n",
            "  0. 1. 0. 0. 1. 0. 0. 0. 0. 0. 0. 0. 1. 0. 0. 0. 0. 0. 1. 0. 1. 0. 1. 0.\n",
            "  0. 0. 0. 0. 0. 0. 0. 0. 0. 0. 0. 0.]\n",
            " [0. 0. 0. 1. 1. 1. 0. 0. 0. 1. 0. 0. 0. 0. 1. 0. 0. 1. 0. 0. 0. 1. 0. 0.\n",
            "  0. 0. 0. 0. 1. 0. 0. 0. 0. 0. 0. 0. 1. 0. 0. 0. 0. 0. 1. 0. 1. 0. 1. 0.\n",
            "  0. 0. 0. 0. 0. 0. 0. 0. 0. 0. 0. 0.]\n",
            " [0. 0. 0. 1. 1. 1. 0. 0. 0. 1. 0. 0. 0. 0. 1. 0. 0. 1. 0. 0. 0. 1. 0. 0.\n",
            "  0. 0. 0. 0. 1. 0. 0. 0. 0. 0. 0. 0. 1. 0. 0. 0. 0. 0. 1. 0. 1. 0. 1. 0.\n",
            "  0. 0. 0. 0. 0. 0. 0. 0. 0. 0. 0. 0.]\n",
            " [0. 0. 0. 1. 1. 1. 0. 1. 0. 1. 0. 0. 0. 0. 1. 0. 0. 0. 0. 0. 0. 0. 0. 0.\n",
            "  0. 0. 0. 0. 1. 0. 0. 0. 0. 0. 0. 0. 1. 0. 0. 0. 0. 0. 1. 0. 1. 0. 1. 0.\n",
            "  0. 0. 0. 0. 0. 0. 0. 0. 0. 0. 0. 0.]\n",
            " [0. 0. 0. 1. 1. 1. 0. 1. 0. 1. 0. 0. 0. 0. 1. 0. 0. 0. 0. 0. 0. 0. 0. 0.\n",
            "  0. 0. 0. 0. 1. 0. 0. 0. 0. 0. 0. 0. 1. 0. 0. 0. 0. 0. 1. 0. 1. 0. 1. 0.\n",
            "  0. 0. 0. 0. 0. 0. 0. 0. 0. 0. 0. 0.]\n",
            " [0. 0. 0. 1. 1. 1. 0. 1. 0. 1. 0. 0. 0. 0. 1. 0. 0. 0. 0. 0. 0. 0. 0. 0.\n",
            "  0. 0. 0. 0. 1. 0. 0. 0. 0. 0. 0. 0. 1. 0. 0. 0. 0. 0. 1. 0. 1. 0. 1. 0.\n",
            "  0. 0. 0. 0. 0. 0. 0. 0. 0. 0. 0. 0.]\n",
            " [0. 0. 0. 1. 1. 1. 0. 1. 0. 1. 0. 0. 0. 0. 1. 0. 0. 0. 0. 0. 0. 0. 0. 0.\n",
            "  0. 0. 0. 0. 1. 0. 0. 0. 0. 0. 0. 0. 1. 0. 0. 0. 0. 0. 1. 0. 1. 0. 1. 0.\n",
            "  0. 0. 0. 0. 0. 0. 0. 0. 0. 0. 0. 0.]]\n",
            "[[0. 0. 0. ... 0. 0. 0.]\n",
            " [0. 0. 0. ... 0. 0. 0.]\n",
            " [0. 0. 0. ... 0. 0. 0.]\n",
            " ...\n",
            " [0. 0. 0. ... 0. 0. 0.]\n",
            " [0. 0. 0. ... 0. 0. 0.]\n",
            " [0. 0. 0. ... 0. 0. 0.]]\n",
            "[[1. 0. 0. ... 0. 0. 0.]\n",
            " [1. 0. 0. ... 0. 0. 0.]\n",
            " [1. 0. 0. ... 0. 0. 0.]\n",
            " ...\n",
            " [1. 0. 0. ... 0. 0. 0.]\n",
            " [1. 0. 0. ... 0. 0. 0.]\n",
            " [1. 0. 0. ... 0. 0. 0.]]\n",
            "[[0. 0. 1. ... 0. 0. 1.]\n",
            " [0. 0. 1. ... 0. 0. 1.]\n",
            " [0. 0. 0. ... 1. 0. 1.]\n",
            " ...\n",
            " [0. 0. 0. ... 0. 0. 0.]\n",
            " [0. 0. 0. ... 1. 0. 1.]\n",
            " [0. 0. 1. ... 0. 0. 1.]]\n",
            "[[0. 0. 0. ... 0. 1. 0.]\n",
            " [0. 0. 0. ... 0. 1. 0.]\n",
            " [0. 0. 0. ... 1. 1. 0.]\n",
            " ...\n",
            " [0. 0. 0. ... 0. 1. 0.]\n",
            " [0. 0. 0. ... 0. 1. 0.]\n",
            " [0. 0. 0. ... 0. 1. 0.]]\n",
            "[[0. 1. 0. ... 0. 1. 1.]\n",
            " [0. 1. 0. ... 0. 0. 1.]\n",
            " [0. 1. 1. ... 0. 0. 1.]\n",
            " ...\n",
            " [0. 0. 0. ... 0. 0. 0.]\n",
            " [0. 0. 0. ... 0. 0. 0.]\n",
            " [0. 0. 0. ... 0. 0. 0.]]\n",
            "[[1. 0. 0. ... 0. 0. 0.]\n",
            " [1. 0. 0. ... 0. 0. 0.]\n",
            " [1. 0. 0. ... 0. 0. 0.]\n",
            " ...\n",
            " [1. 0. 0. ... 0. 0. 0.]\n",
            " [1. 0. 0. ... 0. 0. 0.]\n",
            " [1. 0. 0. ... 0. 0. 0.]]\n",
            "[[0. 0. 0. ... 0. 0. 0.]\n",
            " [0. 0. 0. ... 0. 0. 0.]\n",
            " [0. 0. 0. ... 0. 0. 0.]\n",
            " ...\n",
            " [0. 0. 0. ... 0. 0. 0.]\n",
            " [0. 0. 0. ... 0. 0. 0.]\n",
            " [0. 0. 0. ... 0. 0. 0.]]\n",
            "[[1. 0. 0. ... 0. 0. 0.]\n",
            " [1. 0. 0. ... 0. 0. 0.]\n",
            " [1. 0. 0. ... 0. 0. 0.]\n",
            " ...\n",
            " [1. 0. 0. ... 0. 0. 0.]\n",
            " [1. 0. 0. ... 0. 0. 0.]\n",
            " [1. 0. 0. ... 0. 0. 0.]]\n",
            "[[0. 0. 0. ... 0. 0. 1.]\n",
            " [0. 0. 0. ... 0. 0. 1.]\n",
            " [0. 0. 1. ... 0. 0. 1.]\n",
            " ...\n",
            " [0. 0. 0. ... 0. 0. 1.]\n",
            " [0. 0. 0. ... 0. 0. 0.]\n",
            " [0. 0. 0. ... 0. 0. 0.]]\n",
            "[[0. 0. 0. ... 0. 1. 0.]\n",
            " [0. 0. 0. ... 0. 1. 0.]\n",
            " [0. 0. 0. ... 0. 1. 0.]\n",
            " ...\n",
            " [0. 0. 0. ... 0. 1. 0.]\n",
            " [0. 0. 0. ... 0. 1. 0.]\n",
            " [0. 0. 0. ... 0. 1. 0.]]\n",
            "[[0. 0. 0. ... 0. 0. 0.]\n",
            " [0. 0. 0. ... 0. 0. 0.]\n",
            " [0. 0. 1. ... 0. 0. 0.]\n",
            " ...\n",
            " [0. 0. 0. ... 0. 0. 0.]\n",
            " [0. 0. 0. ... 0. 0. 0.]\n",
            " [0. 0. 0. ... 0. 0. 0.]]\n",
            "[[1. 0. 0. ... 0. 0. 0.]\n",
            " [1. 0. 0. ... 0. 0. 0.]\n",
            " [1. 0. 0. ... 0. 0. 1.]\n",
            " ...\n",
            " [0. 0. 0. ... 0. 0. 1.]\n",
            " [0. 0. 0. ... 0. 0. 1.]\n",
            " [0. 0. 0. ... 0. 0. 1.]]\n",
            "[[1. 1. 0. ... 0. 0. 0.]\n",
            " [1. 0. 0. ... 0. 0. 0.]\n",
            " [0. 0. 0. ... 0. 0. 0.]\n",
            " ...\n",
            " [0. 0. 0. ... 0. 0. 0.]\n",
            " [0. 0. 0. ... 0. 0. 0.]\n",
            " [0. 0. 0. ... 1. 0. 0.]]\n",
            "[[1. 0. 0. ... 0. 0. 0.]\n",
            " [1. 0. 0. ... 0. 0. 0.]\n",
            " [1. 0. 0. ... 0. 0. 0.]\n",
            " ...\n",
            " [1. 0. 0. ... 0. 0. 0.]\n",
            " [1. 0. 0. ... 0. 0. 0.]\n",
            " [1. 0. 0. ... 0. 0. 0.]]\n",
            "[[0. 0. 1. ... 0. 0. 1.]\n",
            " [0. 0. 1. ... 0. 0. 1.]\n",
            " [0. 0. 1. ... 0. 0. 1.]\n",
            " ...\n",
            " [0. 0. 0. ... 0. 0. 0.]\n",
            " [0. 0. 0. ... 0. 0. 0.]\n",
            " [0. 0. 0. ... 0. 0. 0.]]\n",
            "[[0. 0. 0. ... 0. 1. 0.]\n",
            " [0. 0. 0. ... 0. 1. 0.]\n",
            " [0. 0. 0. ... 0. 1. 0.]\n",
            " ...\n",
            " [0. 0. 0. ... 0. 1. 0.]\n",
            " [0. 0. 0. ... 0. 1. 0.]\n",
            " [0. 0. 0. ... 0. 1. 0.]]\n",
            "[[0. 1. 0. ... 0. 0. 0.]\n",
            " [0. 1. 0. ... 0. 0. 0.]\n",
            " [0. 1. 0. ... 0. 0. 0.]\n",
            " ...\n",
            " [0. 0. 0. ... 0. 0. 0.]\n",
            " [0. 0. 0. ... 0. 0. 0.]\n",
            " [0. 0. 0. ... 0. 0. 0.]]\n",
            "[[0. 0. 0. ... 0. 0. 0.]\n",
            " [0. 0. 0. ... 0. 0. 0.]\n",
            " [0. 0. 0. ... 0. 0. 0.]\n",
            " ...\n",
            " [0. 0. 0. ... 0. 0. 0.]\n",
            " [0. 0. 0. ... 0. 0. 0.]\n",
            " [0. 0. 0. ... 0. 0. 0.]]\n",
            "[[1. 0. 0. ... 1. 0. 0.]\n",
            " [1. 0. 0. ... 0. 0. 0.]\n",
            " [1. 0. 0. ... 0. 0. 0.]\n",
            " ...\n",
            " [0. 0. 0. ... 0. 0. 0.]\n",
            " [0. 0. 0. ... 0. 0. 0.]\n",
            " [0. 0. 0. ... 0. 0. 0.]]\n",
            "[[1. 0. 0. ... 0. 0. 0.]\n",
            " [1. 0. 0. ... 0. 0. 0.]\n",
            " [1. 0. 0. ... 0. 0. 0.]\n",
            " ...\n",
            " [1. 0. 0. ... 0. 0. 0.]\n",
            " [1. 0. 0. ... 0. 0. 0.]\n",
            " [1. 0. 0. ... 0. 0. 0.]]\n",
            "[[0. 0. 1. ... 0. 1. 1.]\n",
            " [0. 0. 1. ... 0. 1. 1.]\n",
            " [0. 0. 1. ... 0. 1. 1.]\n",
            " ...\n",
            " [0. 0. 0. ... 0. 0. 0.]\n",
            " [0. 0. 0. ... 0. 0. 0.]\n",
            " [0. 0. 1. ... 0. 0. 0.]]\n",
            "[[0. 0. 0. ... 1. 1. 0.]\n",
            " [0. 0. 0. ... 0. 1. 0.]\n",
            " [0. 0. 0. ... 0. 1. 0.]\n",
            " ...\n",
            " [0. 0. 0. ... 0. 1. 0.]\n",
            " [0. 0. 0. ... 0. 1. 0.]\n",
            " [0. 0. 0. ... 0. 1. 0.]]\n",
            "[[0. 1. 0. ... 1. 1. 0.]\n",
            " [0. 1. 0. ... 1. 1. 0.]\n",
            " [0. 1. 0. ... 1. 1. 0.]\n",
            " ...\n",
            " [0. 0. 0. ... 0. 0. 0.]\n",
            " [0. 0. 0. ... 0. 0. 0.]\n",
            " [0. 0. 0. ... 0. 0. 0.]]\n",
            "[[1. 0. 0. ... 1. 0. 0.]\n",
            " [1. 0. 0. ... 1. 0. 0.]\n",
            " [1. 0. 0. ... 1. 0. 0.]\n",
            " ...\n",
            " [0. 0. 0. ... 0. 0. 0.]\n",
            " [0. 0. 0. ... 1. 0. 0.]\n",
            " [0. 0. 0. ... 0. 0. 0.]]\n"
          ],
          "name": "stdout"
        }
      ]
    },
    {
      "cell_type": "markdown",
      "metadata": {
        "id": "wrvzvsSd5_Nj"
      },
      "source": [
        "### Jaccard Similarity\n",
        "Using the bag of words, let's calculate the jaccard similarity on the bag of words and plot it over time. Implement `get_jaccard_similarity` to return the jaccard similarities between each tick in time. Since the input, `bag_of_words_matrix`, is a bag of words for each time period in order, you just need to compute the jaccard similarities for each neighboring bag of words. Make sure to turn the bag of words into a boolean array when calculating the jaccard similarity."
      ]
    },
    {
      "cell_type": "markdown",
      "metadata": {
        "id": "5i9bKjh25_Nj"
      },
      "source": [
        "\n",
        "\n",
        ">Jaccard Similarity\n",
        "\n",
        ">Now that we have the bag of words, we can convert it into a boolean array and calculate the jaccard similarity. The jaccard similarity is defined as the size of intersection divided by the size of union of two sets. For example, the jaccard similarity between two sentences is the number of common words between the two sentences divided by the total number of unique words in both sentences combined. The closer the jaccard similarity value is to 1, the more similar the sets are. To more easily understand our calculations, we plot the jaccard similarities.\n",
        "\n"
      ]
    },
    {
      "cell_type": "code",
      "metadata": {
        "id": "EJroyGZd5_Nj"
      },
      "source": [
        "from sklearn.metrics import jaccard_score\n",
        "\n",
        "\n",
        "def get_jaccard_similarity(bag_of_words_matrix):\n",
        "    \"\"\"\n",
        "    Get jaccard similarities for neighboring documents\n",
        "\n",
        "    Parameters\n",
        "    ----------\n",
        "    bag_of_words : 2-d Numpy Ndarray of int\n",
        "        Bag of words sentiment for each document\n",
        "        The first dimension is the document.\n",
        "        The second dimension is the word.\n",
        "\n",
        "    Returns\n",
        "    -------\n",
        "    jaccard_similarities : list of float\n",
        "        Jaccard similarities for neighboring documents\n",
        "    \"\"\"\n",
        "    \n",
        "    # TODO: Implement\n",
        "    bag_of_words = bag_of_words_matrix.astype(bool)\n",
        "    \n",
        "    jaccard_similarities = []\n",
        "    \n",
        "    len_ = len(bag_of_words)\n",
        "\n",
        "    for in_, v in enumerate(bag_of_words[0:len_-1]):\n",
        "    \n",
        "        u=bag_of_words[in_+1]\n",
        "  \n",
        "        jaccard_similarities.append(jaccard_score(v,u))\n",
        "\n",
        "    return jaccard_similarities\n",
        "\n",
        "   \n",
        "\n",
        "\n",
        "# project_tests.test_get_jaccard_similarity(get_jaccard_similarity)"
      ],
      "execution_count": 23,
      "outputs": []
    },
    {
      "cell_type": "markdown",
      "metadata": {
        "id": "bYFuzVvK5_Nj"
      },
      "source": [
        "Using the `get_jaccard_similarity` function, let's plot the similarities over time."
      ]
    },
    {
      "cell_type": "code",
      "metadata": {
        "id": "nOPJ4j8M5_Nj",
        "colab": {
          "base_uri": "https://localhost:8080/",
          "height": 492
        },
        "outputId": "425da263-4163-40ce-d1cb-25109dd6c2c8"
      },
      "source": [
        "# Get dates for the universe\n",
        "file_dates = {\n",
        "    ticker: [ten_k['file_date'] for ten_k in ten_ks]\n",
        "    for ticker, ten_ks in ten_ks_by_ticker.items()}  \n",
        "\n",
        "jaccard_similarities = {\n",
        "    ticker: {\n",
        "        sentiment_name: get_jaccard_similarity(sentiment_values)\n",
        "        for sentiment_name, sentiment_values in ten_k_sentiments.items()}\n",
        "    for ticker, ten_k_sentiments in sentiment_bow_ten_ks.items()}\n",
        "\n",
        "\n",
        "project_helper.plot_similarities(\n",
        "    [jaccard_similarities[example_ticker][sentiment] for sentiment in sentiments],\n",
        "    file_dates[example_ticker][1:],\n",
        "    'Jaccard Similarities for {} Sentiment'.format(example_ticker),\n",
        "    sentiments)"
      ],
      "execution_count": 24,
      "outputs": [
        {
          "output_type": "display_data",
          "data": {
            "image/png": "[encoded data removed]",
            "text/plain": [
              "<Figure size 720x504 with 1 Axes>"
            ]
          },
          "metadata": {
            "tags": [],
            "needs_background": "light"
          }
        }
      ]
    },
    {
      "cell_type": "markdown",
      "metadata": {
        "id": "HxpGawqW5_Nk"
      },
      "source": [
        "### TFIDF\n",
        "using the sentiment word lists, let's generate sentiment TFIDF from the 10-k documents. Implement `get_tfidf` to generate TFIDF from each document, using sentiment words as the terms. You can ignore words that are not in `sentiment_words`.\n",
        "\n",
        ">TFIDF\n",
        "\n",
        ">From the sentiment word lists, let’s generate sentiment term frequency–inverse document frequency (TFIDF) from the 10-k documents. TFIDF is an information retrieval technique used to reveal how often a word/term appears in the chosen collection of text. Each term is assigned a term frequency (TF) and inverse document frequency (IDF) score. The product of these scores is referred to as the TFIDF weight of the term. Higher TFIDF weights indicate rarer terms and lower TFIDF scores indicate more common terms."
      ]
    },
    {
      "cell_type": "code",
      "metadata": {
        "id": "VcnmBBM35_Nm",
        "colab": {
          "base_uri": "https://localhost:8080/"
        },
        "outputId": "984151d1-62e6-49b3-e204-3a4522992459"
      },
      "source": [
        "from sklearn.feature_extraction.text import TfidfVectorizer\n",
        "\n",
        "\n",
        "def get_tfidf(sentiment_words, docs):\n",
        "    \"\"\"\n",
        "    Generate TFIDF values from documents for a certain sentiment\n",
        "\n",
        "    Parameters\n",
        "    ----------\n",
        "    sentiment_words: Pandas Series\n",
        "        Words that signify a certain sentiment\n",
        "    docs : list of str\n",
        "        List of documents used to generate bag of words\n",
        "\n",
        "    Returns\n",
        "    -------\n",
        "    tfidf : 2-d Numpy Ndarray of float\n",
        "        TFIDF sentiment for each document\n",
        "        The first dimension is the document.\n",
        "        The second dimension is the word.\n",
        "    \"\"\"\n",
        "    \n",
        "    # TODO: Implement\n",
        " \n",
        "    vectorizer = TfidfVectorizer( vocabulary = sentiment_words)\n",
        " \n",
        "    tfidf  = vectorizer.fit_transform (docs).toarray()\n",
        " \n",
        "    return tfidf\n",
        "\n",
        "\n",
        "project_tests.test_get_tfidf(get_tfidf)"
      ],
      "execution_count": 25,
      "outputs": [
        {
          "output_type": "stream",
          "text": [
            "Tests Passed\n"
          ],
          "name": "stdout"
        }
      ]
    },
    {
      "cell_type": "markdown",
      "metadata": {
        "id": "JHNhYlWt5_Nm"
      },
      "source": [
        "Using the `get_tfidf` function, let's generate the TFIDF values for all the documents."
      ]
    },
    {
      "cell_type": "code",
      "metadata": {
        "id": "41-nPlGs5_Nm",
        "colab": {
          "base_uri": "https://localhost:8080/"
        },
        "outputId": "dca3f492-1167-4b3d-d97e-6d6021b9f53a"
      },
      "source": [
        "sentiment_tfidf_ten_ks = {}\n",
        "\n",
        "for ticker, ten_ks in ten_ks_by_ticker.items():\n",
        "    lemma_docs = [' '.join(ten_k['file_lemma']) for ten_k in ten_ks]\n",
        "    \n",
        "    sentiment_tfidf_ten_ks[ticker] = {\n",
        "        sentiment: get_tfidf(sentiment_df[sentiment_df[sentiment]]['word'], lemma_docs)\n",
        "        for sentiment in sentiments}\n",
        "\n",
        "    \n",
        "project_helper.print_ten_k_data([sentiment_tfidf_ten_ks[example_ticker]], sentiments)"
      ],
      "execution_count": 26,
      "outputs": [
        {
          "output_type": "stream",
          "text": [
            "[\n",
            "  {\n",
            "    negative: '[[0.01096464 0.01233952 0.00616976 ... 0.        ...\n",
            "    positive: '[[0.02451587 0.         0.00468565 ... 0.        ...\n",
            "    uncertainty: '[[0.         0.         0.00285177 ... 0.00445166...\n",
            "    litigious: '[[0.         0.         0.         ... 0.        ...\n",
            "    constraining: '[[0.0089781  0.         0.         ... 0.        ...\n",
            "    interesting: '[[0.         0.         0.         ... 0.        ...},\n",
            "]\n"
          ],
          "name": "stdout"
        }
      ]
    },
    {
      "cell_type": "markdown",
      "metadata": {
        "id": "I4Vlddmz5_Nn"
      },
      "source": [
        "### Cosine Similarity\n",
        "Using the TFIDF values, we'll calculate the cosine similarity and plot it over time. Implement `get_cosine_similarity` to return the cosine similarities between each tick in time. Since the input, `tfidf_matrix`, is a TFIDF vector for each time period in order, you just need to computer the cosine similarities for each neighboring vector."
      ]
    },
    {
      "cell_type": "code",
      "metadata": {
        "id": "Z-21LZ065_Nn",
        "colab": {
          "base_uri": "https://localhost:8080/"
        },
        "outputId": "0c8de7a8-c7ac-4fae-bfda-d5745a2c6b54"
      },
      "source": [
        "from sklearn.metrics.pairwise import cosine_similarity\n",
        "\n",
        "\n",
        "def get_cosine_similarity(tfidf_matrix):\n",
        "    \"\"\"\n",
        "    Get cosine similarities for each neighboring TFIDF vector/document\n",
        "\n",
        "    Parameters\n",
        "    ----------\n",
        "    tfidf : 2-d Numpy Ndarray of float\n",
        "        TFIDF sentiment for each document\n",
        "        The first dimension is the document.\n",
        "        The second dimension is the word.\n",
        "\n",
        "    Returns\n",
        "    -------\n",
        "    cosine_similarities : list of float\n",
        "        Cosine similarities for neighboring documents\n",
        "    \"\"\"\n",
        "\n",
        "    cosine_similarities= cosine_similarity(tfidf_matrix[0:],tfidf_matrix[1:])[0].tolist()\n",
        "       \n",
        "    return cosine_similarities \n",
        "    \n",
        "project_tests.test_get_cosine_similarity(get_cosine_similarity)"
      ],
      "execution_count": 27,
      "outputs": [
        {
          "output_type": "stream",
          "text": [
            "Tests Passed\n"
          ],
          "name": "stdout"
        }
      ]
    },
    {
      "cell_type": "code",
      "metadata": {
        "id": "DgoxY7z85_Nn"
      },
      "source": [
        "import matplotlib.pyplot as plt\n",
        "def plot_similarities1(similarities_list, dates, title, labels):\n",
        "    assert len(similarities_list) == len(labels)\n",
        "\n",
        "    plt.figure(1, figsize=(10, 7))\n",
        "    for similarities, label in zip(similarities_list, labels):\n",
        "        plt.title(title)\n",
        "        plt.plot(dates, similarities, label=label)\n",
        "        plt.legend()\n",
        "        plt.xticks(rotation=90)\n",
        "\n",
        "    plt.show()"
      ],
      "execution_count": 28,
      "outputs": []
    },
    {
      "cell_type": "markdown",
      "metadata": {
        "id": "QsUsjQkh5_Nn"
      },
      "source": [
        "Let's plot the cosine similarities over time."
      ]
    },
    {
      "cell_type": "code",
      "metadata": {
        "id": "FGzkgxI95_Nn",
        "colab": {
          "base_uri": "https://localhost:8080/",
          "height": 492
        },
        "outputId": "76ab32c7-08d5-4ce7-a01b-a47b0047d8d7"
      },
      "source": [
        "cosine_similarities = {\n",
        "    ticker: {\n",
        "        sentiment_name: get_cosine_similarity(sentiment_values)\n",
        "        for sentiment_name, sentiment_values in ten_k_sentiments.items()}\n",
        "    for ticker, ten_k_sentiments in sentiment_tfidf_ten_ks.items()}\n",
        "\n",
        "\n",
        "plot_similarities1(\n",
        "    [cosine_similarities[example_ticker][sentiment] for sentiment in sentiments],\n",
        "    file_dates[example_ticker][1:],\n",
        "    f'Cosine Similarities for {example_ticker} Sentiment',\n",
        "    sentiments)"
      ],
      "execution_count": 29,
      "outputs": [
        {
          "output_type": "display_data",
          "data": {
            "image/png": "[encoded data removed]",
            "text/plain": [
              "<Figure size 720x504 with 1 Axes>"
            ]
          },
          "metadata": {
            "tags": [],
            "needs_background": "light"
          }
        }
      ]
    },
    {
      "cell_type": "markdown",
      "metadata": {
        "id": "JToT2MoW5_Nn"
      },
      "source": [
        ""
      ]
    },
    {
      "cell_type": "markdown",
      "metadata": {
        "id": "qAvgaQFT5_Nn"
      },
      "source": [
        "## Evaluate Alpha Factors\n",
        "Just like we did in project 4, let's evaluate the alpha factors. For this section, we'll just be looking at the cosine similarities, but it can be applied to the jaccard similarities as well.\n"
      ]
    },
    {
      "cell_type": "markdown",
      "metadata": {
        "id": "6E_3Z7VehkXw"
      },
      "source": [
        "### Price Data\n",
        "Let's get yearly pricing to run the factor against, since 10-Ks are produced annually."
      ]
    },
    {
      "cell_type": "code",
      "metadata": {
        "id": "_v3pgJFv5_No",
        "colab": {
          "base_uri": "https://localhost:8080/",
          "height": 467
        },
        "outputId": "064c32e9-3ae8-4baa-f1d4-9bbe4f3e1c3b"
      },
      "source": [
        "from pandas_datareader import data as pdr\n",
        "import yfinance as yf\n",
        "\n",
        "# use yfinance while making sure the returned data is in the same format \n",
        "# as pandas_datareader's get_data_yahoo()\n",
        "yf.pdr_override()\n",
        "\n",
        "def download_daily_data(ticker):\n",
        "  # download dataframe\n",
        "  df = pdr.get_data_yahoo(ticker, \n",
        "                              start=file_dates[example_ticker][-1], \n",
        "                              end=file_dates[example_ticker][1])\n",
        "  df['ticker'] = ticker\n",
        "  return df\n",
        "\n",
        "test_daily_data = download_daily_data('AMZN')\n",
        "test_daily_data"
      ],
      "execution_count": 30,
      "outputs": [
        {
          "output_type": "stream",
          "text": [
            "\r[*********************100%***********************]  1 of 1 completed\n"
          ],
          "name": "stdout"
        },
        {
          "output_type": "execute_result",
          "data": {
            "text/html": [
              "<div>\n",
              "<style scoped>\n",
              "    .dataframe tbody tr th:only-of-type {\n",
              "        vertical-align: middle;\n",
              "    }\n",
              "\n",
              "    .dataframe tbody tr th {\n",
              "        vertical-align: top;\n",
              "    }\n",
              "\n",
              "    .dataframe thead th {\n",
              "        text-align: right;\n",
              "    }\n",
              "</style>\n",
              "<table border=\"1\" class=\"dataframe\">\n",
              "  <thead>\n",
              "    <tr style=\"text-align: right;\">\n",
              "      <th></th>\n",
              "      <th>Open</th>\n",
              "      <th>High</th>\n",
              "      <th>Low</th>\n",
              "      <th>Close</th>\n",
              "      <th>Adj Close</th>\n",
              "      <th>Volume</th>\n",
              "      <th>ticker</th>\n",
              "    </tr>\n",
              "    <tr>\n",
              "      <th>Date</th>\n",
              "      <th></th>\n",
              "      <th></th>\n",
              "      <th></th>\n",
              "      <th></th>\n",
              "      <th></th>\n",
              "      <th></th>\n",
              "      <th></th>\n",
              "    </tr>\n",
              "  </thead>\n",
              "  <tbody>\n",
              "    <tr>\n",
              "      <th>1997-05-15</th>\n",
              "      <td>2.43750000</td>\n",
              "      <td>2.50000000</td>\n",
              "      <td>1.92708302</td>\n",
              "      <td>1.95833302</td>\n",
              "      <td>1.95833302</td>\n",
              "      <td>72156000</td>\n",
              "      <td>AMZN</td>\n",
              "    </tr>\n",
              "    <tr>\n",
              "      <th>1997-05-16</th>\n",
              "      <td>1.96875000</td>\n",
              "      <td>1.97916698</td>\n",
              "      <td>1.70833302</td>\n",
              "      <td>1.72916698</td>\n",
              "      <td>1.72916698</td>\n",
              "      <td>14700000</td>\n",
              "      <td>AMZN</td>\n",
              "    </tr>\n",
              "    <tr>\n",
              "      <th>1997-05-19</th>\n",
              "      <td>1.76041698</td>\n",
              "      <td>1.77083302</td>\n",
              "      <td>1.62500000</td>\n",
              "      <td>1.70833302</td>\n",
              "      <td>1.70833302</td>\n",
              "      <td>6106800</td>\n",
              "      <td>AMZN</td>\n",
              "    </tr>\n",
              "    <tr>\n",
              "      <th>1997-05-20</th>\n",
              "      <td>1.72916698</td>\n",
              "      <td>1.75000000</td>\n",
              "      <td>1.63541698</td>\n",
              "      <td>1.63541698</td>\n",
              "      <td>1.63541698</td>\n",
              "      <td>5467200</td>\n",
              "      <td>AMZN</td>\n",
              "    </tr>\n",
              "    <tr>\n",
              "      <th>1997-05-21</th>\n",
              "      <td>1.63541698</td>\n",
              "      <td>1.64583302</td>\n",
              "      <td>1.37500000</td>\n",
              "      <td>1.42708302</td>\n",
              "      <td>1.42708302</td>\n",
              "      <td>18853200</td>\n",
              "      <td>AMZN</td>\n",
              "    </tr>\n",
              "    <tr>\n",
              "      <th>...</th>\n",
              "      <td>...</td>\n",
              "      <td>...</td>\n",
              "      <td>...</td>\n",
              "      <td>...</td>\n",
              "      <td>...</td>\n",
              "      <td>...</td>\n",
              "      <td>...</td>\n",
              "    </tr>\n",
              "    <tr>\n",
              "      <th>2020-02-12</th>\n",
              "      <td>2163.19995117</td>\n",
              "      <td>2180.25000000</td>\n",
              "      <td>2155.29003906</td>\n",
              "      <td>2160.00000000</td>\n",
              "      <td>2160.00000000</td>\n",
              "      <td>3334300</td>\n",
              "      <td>AMZN</td>\n",
              "    </tr>\n",
              "    <tr>\n",
              "      <th>2020-02-13</th>\n",
              "      <td>2144.98999023</td>\n",
              "      <td>2170.28002930</td>\n",
              "      <td>2142.00000000</td>\n",
              "      <td>2149.87011719</td>\n",
              "      <td>2149.87011719</td>\n",
              "      <td>3031800</td>\n",
              "      <td>AMZN</td>\n",
              "    </tr>\n",
              "    <tr>\n",
              "      <th>2020-02-14</th>\n",
              "      <td>2155.67993164</td>\n",
              "      <td>2159.04003906</td>\n",
              "      <td>2125.88989258</td>\n",
              "      <td>2134.87011719</td>\n",
              "      <td>2134.87011719</td>\n",
              "      <td>2606200</td>\n",
              "      <td>AMZN</td>\n",
              "    </tr>\n",
              "    <tr>\n",
              "      <th>2020-02-18</th>\n",
              "      <td>2125.02001953</td>\n",
              "      <td>2166.07006836</td>\n",
              "      <td>2124.11010742</td>\n",
              "      <td>2155.66992188</td>\n",
              "      <td>2155.66992188</td>\n",
              "      <td>2945600</td>\n",
              "      <td>AMZN</td>\n",
              "    </tr>\n",
              "    <tr>\n",
              "      <th>2020-02-19</th>\n",
              "      <td>2167.80004883</td>\n",
              "      <td>2185.10009766</td>\n",
              "      <td>2161.12011719</td>\n",
              "      <td>2170.21997070</td>\n",
              "      <td>2170.21997070</td>\n",
              "      <td>2561200</td>\n",
              "      <td>AMZN</td>\n",
              "    </tr>\n",
              "  </tbody>\n",
              "</table>\n",
              "<p>5728 rows × 7 columns</p>\n",
              "</div>"
            ],
            "text/plain": [
              "                    Open          High  ...    Volume  ticker\n",
              "Date                                    ...                  \n",
              "1997-05-15    2.43750000    2.50000000  ...  72156000    AMZN\n",
              "1997-05-16    1.96875000    1.97916698  ...  14700000    AMZN\n",
              "1997-05-19    1.76041698    1.77083302  ...   6106800    AMZN\n",
              "1997-05-20    1.72916698    1.75000000  ...   5467200    AMZN\n",
              "1997-05-21    1.63541698    1.64583302  ...  18853200    AMZN\n",
              "...                  ...           ...  ...       ...     ...\n",
              "2020-02-12 2163.19995117 2180.25000000  ...   3334300    AMZN\n",
              "2020-02-13 2144.98999023 2170.28002930  ...   3031800    AMZN\n",
              "2020-02-14 2155.67993164 2159.04003906  ...   2606200    AMZN\n",
              "2020-02-18 2125.02001953 2166.07006836  ...   2945600    AMZN\n",
              "2020-02-19 2167.80004883 2185.10009766  ...   2561200    AMZN\n",
              "\n",
              "[5728 rows x 7 columns]"
            ]
          },
          "metadata": {
            "tags": []
          },
          "execution_count": 30
        }
      ]
    },
    {
      "cell_type": "code",
      "metadata": {
        "id": "Hkm0QjdqkNO-"
      },
      "source": [
        "# def get_price_df():\n",
        "#   for ticker in list(file_dates.keys()):\n",
        "#     price_series = get_daily_price_series(ticker)\n",
        "#   return price_df"
      ],
      "execution_count": 31,
      "outputs": []
    },
    {
      "cell_type": "code",
      "metadata": {
        "id": "OzxinEbqhydG"
      },
      "source": [
        "# def pivot_to_date_index_ticker_columns_price_values(daily_data_df, ticker):\n",
        "#   daily_price = daily_data_df.copy()[['Adj Close']]\n",
        "#   daily_price['ticker'] = ticker\n",
        "#   daily_close_by_ticker = daily_price.pivot(\n",
        "#                           # index='date', \n",
        "#                           columns='ticker', \n",
        "#                           values='Adj Close')\n",
        "#   return daily_close_by_ticker\n",
        "\n",
        "# test_adj_close_by_date_and_ticker = pivot_to_date_index_ticker_columns_price_values(test_daily_data, 'AMZN')\n",
        "# test_adj_close_by_date_and_ticker"
      ],
      "execution_count": 32,
      "outputs": []
    },
    {
      "cell_type": "code",
      "metadata": {
        "colab": {
          "base_uri": "https://localhost:8080/",
          "height": 875
        },
        "id": "xAP1fkC8jCl5",
        "outputId": "9c8a09f5-34ca-4273-d8f8-ab9035779d9d"
      },
      "source": [
        "\n",
        "# Make dataframe with all tickers\n",
        "dates = None\n",
        "tickers = None\n",
        "\n",
        "def get_prices_for_all_tickers(ticker_list = list(additional_cik.keys()), start='2000-01-01', end='2021-04-01'):\n",
        "  index=pd.date_range(start, end)\n",
        "  prices = pd.DataFrame(index=index)\n",
        "  for ticker in ticker_list:\n",
        "    daily_price = download_daily_data(ticker).copy()[['Adj Close']]\n",
        "    daily_price[ticker] = daily_price\n",
        "    daily_price = daily_price.drop(columns='Adj Close')\n",
        "    prices=pd.merge(prices, daily_price, how='left', left_index=True, right_index=True)\n",
        "  prices.index.name = 'date'\n",
        "  prices.columns.name = 'ticker'\n",
        "  dates = prices.index\n",
        "  tickers = prices.columns.name\n",
        "  return prices\n",
        "\n",
        "prices = get_prices_for_all_tickers(list(additional_cik.keys()))\n",
        "prices"
      ],
      "execution_count": 33,
      "outputs": [
        {
          "output_type": "stream",
          "text": [
            "[*********************100%***********************]  1 of 1 completed\n",
            "[*********************100%***********************]  1 of 1 completed\n",
            "[*********************100%***********************]  1 of 1 completed\n",
            "[*********************100%***********************]  1 of 1 completed\n",
            "[*********************100%***********************]  1 of 1 completed\n",
            "[*********************100%***********************]  1 of 1 completed\n",
            "[*********************100%***********************]  1 of 1 completed\n",
            "[*********************100%***********************]  1 of 1 completed\n",
            "[*********************100%***********************]  1 of 1 completed\n",
            "[*********************100%***********************]  1 of 1 completed\n",
            "[*********************100%***********************]  1 of 1 completed\n",
            "[*********************100%***********************]  1 of 1 completed\n",
            "[*********************100%***********************]  1 of 1 completed\n",
            "[*********************100%***********************]  1 of 1 completed\n",
            "[*********************100%***********************]  1 of 1 completed\n"
          ],
          "name": "stdout"
        },
        {
          "output_type": "execute_result",
          "data": {
            "text/html": [
              "<div>\n",
              "<style scoped>\n",
              "    .dataframe tbody tr th:only-of-type {\n",
              "        vertical-align: middle;\n",
              "    }\n",
              "\n",
              "    .dataframe tbody tr th {\n",
              "        vertical-align: top;\n",
              "    }\n",
              "\n",
              "    .dataframe thead th {\n",
              "        text-align: right;\n",
              "    }\n",
              "</style>\n",
              "<table border=\"1\" class=\"dataframe\">\n",
              "  <thead>\n",
              "    <tr style=\"text-align: right;\">\n",
              "      <th>ticker</th>\n",
              "      <th>AEP</th>\n",
              "      <th>AXP</th>\n",
              "      <th>BA</th>\n",
              "      <th>BK</th>\n",
              "      <th>CAT</th>\n",
              "      <th>DE</th>\n",
              "      <th>DIS</th>\n",
              "      <th>DTE</th>\n",
              "      <th>ED</th>\n",
              "      <th>EMR</th>\n",
              "      <th>ETN</th>\n",
              "      <th>GE</th>\n",
              "      <th>IBM</th>\n",
              "      <th>IP</th>\n",
              "      <th>JNJ</th>\n",
              "    </tr>\n",
              "    <tr>\n",
              "      <th>date</th>\n",
              "      <th></th>\n",
              "      <th></th>\n",
              "      <th></th>\n",
              "      <th></th>\n",
              "      <th></th>\n",
              "      <th></th>\n",
              "      <th></th>\n",
              "      <th></th>\n",
              "      <th></th>\n",
              "      <th></th>\n",
              "      <th></th>\n",
              "      <th></th>\n",
              "      <th></th>\n",
              "      <th></th>\n",
              "      <th></th>\n",
              "    </tr>\n",
              "  </thead>\n",
              "  <tbody>\n",
              "    <tr>\n",
              "      <th>2000-01-01</th>\n",
              "      <td>NaN</td>\n",
              "      <td>NaN</td>\n",
              "      <td>NaN</td>\n",
              "      <td>NaN</td>\n",
              "      <td>NaN</td>\n",
              "      <td>NaN</td>\n",
              "      <td>NaN</td>\n",
              "      <td>NaN</td>\n",
              "      <td>NaN</td>\n",
              "      <td>NaN</td>\n",
              "      <td>NaN</td>\n",
              "      <td>NaN</td>\n",
              "      <td>NaN</td>\n",
              "      <td>NaN</td>\n",
              "      <td>NaN</td>\n",
              "    </tr>\n",
              "    <tr>\n",
              "      <th>2000-01-02</th>\n",
              "      <td>NaN</td>\n",
              "      <td>NaN</td>\n",
              "      <td>NaN</td>\n",
              "      <td>NaN</td>\n",
              "      <td>NaN</td>\n",
              "      <td>NaN</td>\n",
              "      <td>NaN</td>\n",
              "      <td>NaN</td>\n",
              "      <td>NaN</td>\n",
              "      <td>NaN</td>\n",
              "      <td>NaN</td>\n",
              "      <td>NaN</td>\n",
              "      <td>NaN</td>\n",
              "      <td>NaN</td>\n",
              "      <td>NaN</td>\n",
              "    </tr>\n",
              "    <tr>\n",
              "      <th>2000-01-03</th>\n",
              "      <td>12.15813446</td>\n",
              "      <td>34.16057587</td>\n",
              "      <td>25.94027710</td>\n",
              "      <td>24.55235100</td>\n",
              "      <td>13.69310665</td>\n",
              "      <td>13.79204750</td>\n",
              "      <td>23.11524773</td>\n",
              "      <td>11.81341267</td>\n",
              "      <td>12.38327026</td>\n",
              "      <td>15.65466309</td>\n",
              "      <td>7.35668182</td>\n",
              "      <td>26.58582878</td>\n",
              "      <td>72.89100647</td>\n",
              "      <td>27.12947083</td>\n",
              "      <td>26.81100273</td>\n",
              "    </tr>\n",
              "    <tr>\n",
              "      <th>2000-01-04</th>\n",
              "      <td>12.30316639</td>\n",
              "      <td>32.87073135</td>\n",
              "      <td>25.89993858</td>\n",
              "      <td>23.84729004</td>\n",
              "      <td>13.51711082</td>\n",
              "      <td>13.77194118</td>\n",
              "      <td>24.46928596</td>\n",
              "      <td>11.83797455</td>\n",
              "      <td>12.54379368</td>\n",
              "      <td>15.46770096</td>\n",
              "      <td>7.10544586</td>\n",
              "      <td>25.52239609</td>\n",
              "      <td>70.41678619</td>\n",
              "      <td>26.45734978</td>\n",
              "      <td>25.82945251</td>\n",
              "    </tr>\n",
              "    <tr>\n",
              "      <th>2000-01-05</th>\n",
              "      <td>12.76242256</td>\n",
              "      <td>32.03582382</td>\n",
              "      <td>27.51365089</td>\n",
              "      <td>23.30813980</td>\n",
              "      <td>13.83390903</td>\n",
              "      <td>14.09361553</td>\n",
              "      <td>25.48480606</td>\n",
              "      <td>12.20637131</td>\n",
              "      <td>13.11709404</td>\n",
              "      <td>15.75665855</td>\n",
              "      <td>7.16342115</td>\n",
              "      <td>25.47809601</td>\n",
              "      <td>72.89100647</td>\n",
              "      <td>27.37390327</td>\n",
              "      <td>26.10210609</td>\n",
              "    </tr>\n",
              "    <tr>\n",
              "      <th>...</th>\n",
              "      <td>...</td>\n",
              "      <td>...</td>\n",
              "      <td>...</td>\n",
              "      <td>...</td>\n",
              "      <td>...</td>\n",
              "      <td>...</td>\n",
              "      <td>...</td>\n",
              "      <td>...</td>\n",
              "      <td>...</td>\n",
              "      <td>...</td>\n",
              "      <td>...</td>\n",
              "      <td>...</td>\n",
              "      <td>...</td>\n",
              "      <td>...</td>\n",
              "      <td>...</td>\n",
              "    </tr>\n",
              "    <tr>\n",
              "      <th>2021-03-28</th>\n",
              "      <td>NaN</td>\n",
              "      <td>NaN</td>\n",
              "      <td>NaN</td>\n",
              "      <td>NaN</td>\n",
              "      <td>NaN</td>\n",
              "      <td>NaN</td>\n",
              "      <td>NaN</td>\n",
              "      <td>NaN</td>\n",
              "      <td>NaN</td>\n",
              "      <td>NaN</td>\n",
              "      <td>NaN</td>\n",
              "      <td>NaN</td>\n",
              "      <td>NaN</td>\n",
              "      <td>NaN</td>\n",
              "      <td>NaN</td>\n",
              "    </tr>\n",
              "    <tr>\n",
              "      <th>2021-03-29</th>\n",
              "      <td>NaN</td>\n",
              "      <td>NaN</td>\n",
              "      <td>NaN</td>\n",
              "      <td>NaN</td>\n",
              "      <td>NaN</td>\n",
              "      <td>NaN</td>\n",
              "      <td>NaN</td>\n",
              "      <td>NaN</td>\n",
              "      <td>NaN</td>\n",
              "      <td>NaN</td>\n",
              "      <td>NaN</td>\n",
              "      <td>NaN</td>\n",
              "      <td>NaN</td>\n",
              "      <td>NaN</td>\n",
              "      <td>NaN</td>\n",
              "    </tr>\n",
              "    <tr>\n",
              "      <th>2021-03-30</th>\n",
              "      <td>NaN</td>\n",
              "      <td>NaN</td>\n",
              "      <td>NaN</td>\n",
              "      <td>NaN</td>\n",
              "      <td>NaN</td>\n",
              "      <td>NaN</td>\n",
              "      <td>NaN</td>\n",
              "      <td>NaN</td>\n",
              "      <td>NaN</td>\n",
              "      <td>NaN</td>\n",
              "      <td>NaN</td>\n",
              "      <td>NaN</td>\n",
              "      <td>NaN</td>\n",
              "      <td>NaN</td>\n",
              "      <td>NaN</td>\n",
              "    </tr>\n",
              "    <tr>\n",
              "      <th>2021-03-31</th>\n",
              "      <td>NaN</td>\n",
              "      <td>NaN</td>\n",
              "      <td>NaN</td>\n",
              "      <td>NaN</td>\n",
              "      <td>NaN</td>\n",
              "      <td>NaN</td>\n",
              "      <td>NaN</td>\n",
              "      <td>NaN</td>\n",
              "      <td>NaN</td>\n",
              "      <td>NaN</td>\n",
              "      <td>NaN</td>\n",
              "      <td>NaN</td>\n",
              "      <td>NaN</td>\n",
              "      <td>NaN</td>\n",
              "      <td>NaN</td>\n",
              "    </tr>\n",
              "    <tr>\n",
              "      <th>2021-04-01</th>\n",
              "      <td>NaN</td>\n",
              "      <td>NaN</td>\n",
              "      <td>NaN</td>\n",
              "      <td>NaN</td>\n",
              "      <td>NaN</td>\n",
              "      <td>NaN</td>\n",
              "      <td>NaN</td>\n",
              "      <td>NaN</td>\n",
              "      <td>NaN</td>\n",
              "      <td>NaN</td>\n",
              "      <td>NaN</td>\n",
              "      <td>NaN</td>\n",
              "      <td>NaN</td>\n",
              "      <td>NaN</td>\n",
              "      <td>NaN</td>\n",
              "    </tr>\n",
              "  </tbody>\n",
              "</table>\n",
              "<p>7762 rows × 15 columns</p>\n",
              "</div>"
            ],
            "text/plain": [
              "ticker             AEP         AXP  ...          IP         JNJ\n",
              "date                                ...                        \n",
              "2000-01-01         NaN         NaN  ...         NaN         NaN\n",
              "2000-01-02         NaN         NaN  ...         NaN         NaN\n",
              "2000-01-03 12.15813446 34.16057587  ... 27.12947083 26.81100273\n",
              "2000-01-04 12.30316639 32.87073135  ... 26.45734978 25.82945251\n",
              "2000-01-05 12.76242256 32.03582382  ... 27.37390327 26.10210609\n",
              "...                ...         ...  ...         ...         ...\n",
              "2021-03-28         NaN         NaN  ...         NaN         NaN\n",
              "2021-03-29         NaN         NaN  ...         NaN         NaN\n",
              "2021-03-30         NaN         NaN  ...         NaN         NaN\n",
              "2021-03-31         NaN         NaN  ...         NaN         NaN\n",
              "2021-04-01         NaN         NaN  ...         NaN         NaN\n",
              "\n",
              "[7762 rows x 15 columns]"
            ]
          },
          "metadata": {
            "tags": []
          },
          "execution_count": 33
        }
      ]
    },
    {
      "cell_type": "code",
      "metadata": {
        "colab": {
          "base_uri": "https://localhost:8080/",
          "height": 705
        },
        "id": "WiMo6r6ySCir",
        "outputId": "5b1496fe-398b-4491-ca6f-29cf4d14ee17"
      },
      "source": [
        "def get_prices_multi_indexed_for_all_tickers(ticker_list = list(additional_cik.keys())):\n",
        "  _prices = get_prices_for_all_tickers(ticker_list = ticker_list)\n",
        "  _tuples =  zip(_prices.columns.values, \n",
        "                ('price' for i in range(len(_prices.columns))))\n",
        "  _prices.columns = pd.MultiIndex.from_tuples(_tuples)\n",
        "  # _prices.columns.name. = 'price'\n",
        "  _multi_indexed_prices = _prices.stack(level=0)\n",
        "  # .swaplevel(0, 1, axis=0)\n",
        "  _multi_indexed_prices.index = _multi_indexed_prices.index.set_names(['date', 'ticker'])\n",
        "  assert _multi_indexed_prices.index.levels[0].freq =='D'\n",
        "  return _multi_indexed_prices\n",
        "\n",
        "multi_indexed_prices = get_prices_multi_indexed_for_all_tickers()\n",
        "multi_indexed_prices"
      ],
      "execution_count": 34,
      "outputs": [
        {
          "output_type": "stream",
          "text": [
            "[*********************100%***********************]  1 of 1 completed\n",
            "[*********************100%***********************]  1 of 1 completed\n",
            "[*********************100%***********************]  1 of 1 completed\n",
            "[*********************100%***********************]  1 of 1 completed\n",
            "[*********************100%***********************]  1 of 1 completed\n",
            "[*********************100%***********************]  1 of 1 completed\n",
            "[*********************100%***********************]  1 of 1 completed\n",
            "[*********************100%***********************]  1 of 1 completed\n",
            "[*********************100%***********************]  1 of 1 completed\n",
            "[*********************100%***********************]  1 of 1 completed\n",
            "[*********************100%***********************]  1 of 1 completed\n",
            "[*********************100%***********************]  1 of 1 completed\n",
            "[*********************100%***********************]  1 of 1 completed\n",
            "[*********************100%***********************]  1 of 1 completed\n",
            "[*********************100%***********************]  1 of 1 completed\n"
          ],
          "name": "stdout"
        },
        {
          "output_type": "execute_result",
          "data": {
            "text/html": [
              "<div>\n",
              "<style scoped>\n",
              "    .dataframe tbody tr th:only-of-type {\n",
              "        vertical-align: middle;\n",
              "    }\n",
              "\n",
              "    .dataframe tbody tr th {\n",
              "        vertical-align: top;\n",
              "    }\n",
              "\n",
              "    .dataframe thead th {\n",
              "        text-align: right;\n",
              "    }\n",
              "</style>\n",
              "<table border=\"1\" class=\"dataframe\">\n",
              "  <thead>\n",
              "    <tr style=\"text-align: right;\">\n",
              "      <th></th>\n",
              "      <th></th>\n",
              "      <th>price</th>\n",
              "    </tr>\n",
              "    <tr>\n",
              "      <th>date</th>\n",
              "      <th>ticker</th>\n",
              "      <th></th>\n",
              "    </tr>\n",
              "  </thead>\n",
              "  <tbody>\n",
              "    <tr>\n",
              "      <th rowspan=\"5\" valign=\"top\">2000-01-03</th>\n",
              "      <th>AEP</th>\n",
              "      <td>12.15813446</td>\n",
              "    </tr>\n",
              "    <tr>\n",
              "      <th>AXP</th>\n",
              "      <td>34.16057587</td>\n",
              "    </tr>\n",
              "    <tr>\n",
              "      <th>BA</th>\n",
              "      <td>25.94027710</td>\n",
              "    </tr>\n",
              "    <tr>\n",
              "      <th>BK</th>\n",
              "      <td>24.55235100</td>\n",
              "    </tr>\n",
              "    <tr>\n",
              "      <th>CAT</th>\n",
              "      <td>13.69310665</td>\n",
              "    </tr>\n",
              "    <tr>\n",
              "      <th>...</th>\n",
              "      <th>...</th>\n",
              "      <td>...</td>\n",
              "    </tr>\n",
              "    <tr>\n",
              "      <th rowspan=\"5\" valign=\"top\">2020-02-19</th>\n",
              "      <th>ETN</th>\n",
              "      <td>101.41313934</td>\n",
              "    </tr>\n",
              "    <tr>\n",
              "      <th>GE</th>\n",
              "      <td>12.53708553</td>\n",
              "    </tr>\n",
              "    <tr>\n",
              "      <th>IBM</th>\n",
              "      <td>142.92942810</td>\n",
              "    </tr>\n",
              "    <tr>\n",
              "      <th>IP</th>\n",
              "      <td>40.07544327</td>\n",
              "    </tr>\n",
              "    <tr>\n",
              "      <th>JNJ</th>\n",
              "      <td>144.09953308</td>\n",
              "    </tr>\n",
              "  </tbody>\n",
              "</table>\n",
              "<p>75960 rows × 1 columns</p>\n",
              "</div>"
            ],
            "text/plain": [
              "                         price\n",
              "date       ticker             \n",
              "2000-01-03 AEP     12.15813446\n",
              "           AXP     34.16057587\n",
              "           BA      25.94027710\n",
              "           BK      24.55235100\n",
              "           CAT     13.69310665\n",
              "...                        ...\n",
              "2020-02-19 ETN    101.41313934\n",
              "           GE      12.53708553\n",
              "           IBM    142.92942810\n",
              "           IP      40.07544327\n",
              "           JNJ    144.09953308\n",
              "\n",
              "[75960 rows x 1 columns]"
            ]
          },
          "metadata": {
            "tags": []
          },
          "execution_count": 34
        }
      ]
    },
    {
      "cell_type": "markdown",
      "metadata": {
        "id": "DnuH8acV5_No"
      },
      "source": [
        "### Dict to DataFrame\n",
        "The alphalens library uses dataframes, so we we'll need to turn our dictionary into a dataframe. "
      ]
    },
    {
      "cell_type": "code",
      "metadata": {
        "id": "0rbw92e7_dIQ"
      },
      "source": [
        "# Resample workaround for upsampling a multiindexed df.\n",
        "# Adapted from\n",
        "#  https://github.com/pandas-dev/pandas/issues/28313#issuecomment-532231669\n",
        "\n",
        "\n",
        "def upsample(df, rule='D', method='ffill',\n",
        "             group_index: str='ticker', date_index: str='date', \n",
        "             upsampled_date_index_level: int=0):\n",
        "    \"\"\"\n",
        "    Upsample a Pandas DataFrame or Series with either a DatetimeIndex or\n",
        "    MultiIndex. This can be used to upsample financial data for a single\n",
        "    company, or upsample data for multiple companies in a single DataFrame.\n",
        "\n",
        "    :param df:\n",
        "        Pandas DataFrame or Series.\n",
        "\n",
        "    :param rule:\n",
        "        Upsampling frequency e.g. 'D' for daily.\n",
        "\n",
        "        This is passed directly to the Pandas resampler which has more options:\n",
        "        https://pandas.pydata.org/pandas-docs/stable/user_guide/timeseries.html#dateoffset-objects\n",
        "\n",
        "    :param method:\n",
        "        String for the method of filling in empty values. Valid options:\n",
        "        'ffill' is forward-fill with last known values.\n",
        "        'linear' is linear interpolation between known values.\n",
        "\n",
        "    :param group_index:\n",
        "        If `df` has a MultiIndex then group companies using this data-column.\n",
        "        By default this is TICKER but it could also be e.g. SIMFIN_ID if\n",
        "        you are using that as an index in your DataFrame.\n",
        "\n",
        "    :param date_index:\n",
        "        If `df` has a MultiIndex then use this data-column as the dates.\n",
        "        By default this is REPORT_DATE but it could also be e.g. PUBLISH_DATE\n",
        "        if you are using that as an index in your DataFrame.\n",
        "\n",
        "    :return:\n",
        "        Upsampled DataFrame or Series.\n",
        "    \"\"\"\n",
        "\n",
        "    assert isinstance(df, (pd.DataFrame, pd.Series))\n",
        "    assert isinstance(df.index, (pd.DatetimeIndex, pd.MultiIndex))\n",
        "    assert method == 'ffill' or method == 'linear' or method==None\n",
        "    assert upsampled_date_index_level in range(0, len(df.index.levels))\n",
        "\n",
        "    # Pandas 0.25.1 does not support upsampling a DataFrame with a MultiIndex\n",
        "    # using the normal resample() function, so we must handle the two cases\n",
        "    # differently.\n",
        "\n",
        "    # If the DataFrame has a DatetimeIndex.\n",
        "    if isinstance(df.index, pd.DatetimeIndex):\n",
        "        # Normal upsampling using Pandas.\n",
        "\n",
        "        if method == 'ffill':\n",
        "            # Fill with last-known value.\n",
        "            df_upsampled = df.resample(rule).ffill()\n",
        "        elif method == 'linear':\n",
        "            # Fill with linearly interpolated values.\n",
        "            df_upsampled = df.resample(rule).interpolate(method='linear')\n",
        "        elif method == None:\n",
        "            # Fill with NA.\n",
        "            df_upsampled = df.resample(rule).asfreq()\n",
        "\n",
        "    # If the DataFrame has a MultiIndex.\n",
        "    elif isinstance(df.index, pd.MultiIndex):\n",
        "        # Pandas has very complicated semantics for resampling a DataFrame\n",
        "        # with a MultiIndex. The best way is apparently to group the DataFrame\n",
        "        # by companies (e.g. using TICKER) which creates an individual\n",
        "        # DataFrame for each company, and then apply the resampling to each\n",
        "        # of those DataFrames. It is further complicated by the need to reset\n",
        "        # and set the index. Pandas is quite poorly designed in this regard\n",
        "        # and its resampling API has already been changed several times.\n",
        "\n",
        "        # Helper-function for resampling a DataFrame for a single company.\n",
        "        def _resample(df):\n",
        "            if method == 'ffill':\n",
        "                # Fill with last-known value.\n",
        "                return df.set_index(date_index).resample(rule).ffill()\n",
        "            elif method == 'linear':\n",
        "                # Fill with linearly interpolated values.\n",
        "                return df.set_index(date_index).resample(rule).interpolate(method='linear')\n",
        "            elif method == None:\n",
        "                # Fill with NA.\n",
        "                return df.set_index(date_index).resample(rule).asfreq()\n",
        "\n",
        "        # Group the original DataFrame by companies and apply the resampling to each.\n",
        "        df_upsampled = df.reset_index(level=date_index).groupby(level=group_index).apply(_resample)\n",
        "        if upsampled_date_index_level == 0:\n",
        "          df_upsampled.index = df_upsampled.index.swaplevel('date', 'ticker')\n",
        "\n",
        "    return df_upsampled\n"
      ],
      "execution_count": 35,
      "outputs": []
    },
    {
      "cell_type": "code",
      "metadata": {
        "id": "kT07r8Pb5_Np",
        "colab": {
          "base_uri": "https://localhost:8080/",
          "height": 450
        },
        "outputId": "51d1daad-2d24-4db5-a1ef-313156663a3f"
      },
      "source": [
        "cosine_similarities_df_dict = {'date': [], 'ticker': [], 'sentiment': [], 'value': []}\n",
        "\n",
        "\n",
        "for ticker, ten_k_sentiments in cosine_similarities.items():\n",
        "    for sentiment_name, sentiment_values in ten_k_sentiments.items():\n",
        "        for sentiment_values, sentiment_value in enumerate(sentiment_values):\n",
        "            cosine_similarities_df_dict['ticker'].append(ticker)\n",
        "            cosine_similarities_df_dict['sentiment'].append(sentiment_name)\n",
        "            cosine_similarities_df_dict['value'].append(sentiment_value)\n",
        "            cosine_similarities_df_dict['date'].append(file_dates[ticker][1:][sentiment_values])\n",
        "\n",
        "cosine_similarities_df = pd.DataFrame(cosine_similarities_df_dict)\n",
        "\n",
        "cosine_similarities_dfs = {}\n",
        "for sentiment in cosine_similarities_df['sentiment'].unique():\n",
        "  df = cosine_similarities_df\n",
        "  df = df[df['sentiment']==sentiment].loc[:, ['date', 'ticker', 'value']]\n",
        "  df['date'] = pd.to_datetime(df['date']).dt.date\n",
        "  df = df.set_index(['date', 'ticker']).sort_index()\n",
        "  # df = upsample(df, \n",
        "  #               rule='D', \n",
        "  #               method=None, \n",
        "  #               group_index='ticker', \n",
        "  #               date_index='date',\n",
        "  #               upsampled_date_index_level=0)\n",
        "  \n",
        "\n",
        "  cosine_similarities_dfs[sentiment] = df\n",
        "  \n",
        "\n",
        "cosine_similarities_dfs['negative']"
      ],
      "execution_count": 36,
      "outputs": [
        {
          "output_type": "execute_result",
          "data": {
            "text/html": [
              "<div>\n",
              "<style scoped>\n",
              "    .dataframe tbody tr th:only-of-type {\n",
              "        vertical-align: middle;\n",
              "    }\n",
              "\n",
              "    .dataframe tbody tr th {\n",
              "        vertical-align: top;\n",
              "    }\n",
              "\n",
              "    .dataframe thead th {\n",
              "        text-align: right;\n",
              "    }\n",
              "</style>\n",
              "<table border=\"1\" class=\"dataframe\">\n",
              "  <thead>\n",
              "    <tr style=\"text-align: right;\">\n",
              "      <th></th>\n",
              "      <th></th>\n",
              "      <th>value</th>\n",
              "    </tr>\n",
              "    <tr>\n",
              "      <th>date</th>\n",
              "      <th>ticker</th>\n",
              "      <th></th>\n",
              "    </tr>\n",
              "  </thead>\n",
              "  <tbody>\n",
              "    <tr>\n",
              "      <th>1994-03-17</th>\n",
              "      <th>BA</th>\n",
              "      <td>0.45996206</td>\n",
              "    </tr>\n",
              "    <tr>\n",
              "      <th rowspan=\"2\" valign=\"top\">1994-03-31</th>\n",
              "      <th>AXP</th>\n",
              "      <td>0.37257673</td>\n",
              "    </tr>\n",
              "    <tr>\n",
              "      <th>IP</th>\n",
              "      <td>0.10975695</td>\n",
              "    </tr>\n",
              "    <tr>\n",
              "      <th>1994-04-01</th>\n",
              "      <th>JNJ</th>\n",
              "      <td>0.11535805</td>\n",
              "    </tr>\n",
              "    <tr>\n",
              "      <th>1995-03-28</th>\n",
              "      <th>IBM</th>\n",
              "      <td>0.22303764</td>\n",
              "    </tr>\n",
              "    <tr>\n",
              "      <th>...</th>\n",
              "      <th>...</th>\n",
              "      <td>...</td>\n",
              "    </tr>\n",
              "    <tr>\n",
              "      <th rowspan=\"2\" valign=\"top\">2020-02-20</th>\n",
              "      <th>AEP</th>\n",
              "      <td>0.60875266</td>\n",
              "    </tr>\n",
              "    <tr>\n",
              "      <th>ED</th>\n",
              "      <td>0.92879746</td>\n",
              "    </tr>\n",
              "    <tr>\n",
              "      <th>2020-02-24</th>\n",
              "      <th>GE</th>\n",
              "      <td>0.97748160</td>\n",
              "    </tr>\n",
              "    <tr>\n",
              "      <th>2020-02-27</th>\n",
              "      <th>BK</th>\n",
              "      <td>0.98678383</td>\n",
              "    </tr>\n",
              "    <tr>\n",
              "      <th>2021-02-17</th>\n",
              "      <th>CAT</th>\n",
              "      <td>0.00196681</td>\n",
              "    </tr>\n",
              "  </tbody>\n",
              "</table>\n",
              "<p>253 rows × 1 columns</p>\n",
              "</div>"
            ],
            "text/plain": [
              "                       value\n",
              "date       ticker           \n",
              "1994-03-17 BA     0.45996206\n",
              "1994-03-31 AXP    0.37257673\n",
              "           IP     0.10975695\n",
              "1994-04-01 JNJ    0.11535805\n",
              "1995-03-28 IBM    0.22303764\n",
              "...                      ...\n",
              "2020-02-20 AEP    0.60875266\n",
              "           ED     0.92879746\n",
              "2020-02-24 GE     0.97748160\n",
              "2020-02-27 BK     0.98678383\n",
              "2021-02-17 CAT    0.00196681\n",
              "\n",
              "[253 rows x 1 columns]"
            ]
          },
          "metadata": {
            "tags": []
          },
          "execution_count": 36
        }
      ]
    },
    {
      "cell_type": "markdown",
      "metadata": {
        "id": "3Xgy4xQ05_Np"
      },
      "source": [
        "### Alphalens Format\n",
        "In order to use a lot of the alphalens functions, we need to aligned the indices and convert the time to unix timestamp. In this next cell, we'll do just that."
      ]
    },
    {
      "cell_type": "code",
      "metadata": {
        "id": "KFr3GrXCOXoB",
        "colab": {
          "base_uri": "https://localhost:8080/",
          "height": 450
        },
        "outputId": "adebe583-42a3-4e95-ad9d-4aca5b51d92c"
      },
      "source": [
        "joined = multi_indexed_prices.join(cosine_similarities_dfs[sentiment], how='outer')\n",
        "try:\n",
        "  joined = upsample(joined, rule='D', method=None)\n",
        "except: # If duplicate index\n",
        "  joined = upsample(joined[~joined.index.duplicated(keep='first')], \n",
        "                    rule='D', method=None)\n",
        "factor_df = joined['value']\n",
        "# prices_df = joined['price']\n",
        "joined"
      ],
      "execution_count": 37,
      "outputs": [
        {
          "output_type": "execute_result",
          "data": {
            "text/html": [
              "<div>\n",
              "<style scoped>\n",
              "    .dataframe tbody tr th:only-of-type {\n",
              "        vertical-align: middle;\n",
              "    }\n",
              "\n",
              "    .dataframe tbody tr th {\n",
              "        vertical-align: top;\n",
              "    }\n",
              "\n",
              "    .dataframe thead th {\n",
              "        text-align: right;\n",
              "    }\n",
              "</style>\n",
              "<table border=\"1\" class=\"dataframe\">\n",
              "  <thead>\n",
              "    <tr style=\"text-align: right;\">\n",
              "      <th></th>\n",
              "      <th></th>\n",
              "      <th>price</th>\n",
              "      <th>value</th>\n",
              "    </tr>\n",
              "    <tr>\n",
              "      <th>date</th>\n",
              "      <th>ticker</th>\n",
              "      <th></th>\n",
              "      <th></th>\n",
              "    </tr>\n",
              "  </thead>\n",
              "  <tbody>\n",
              "    <tr>\n",
              "      <th>1996-03-28</th>\n",
              "      <th>AEP</th>\n",
              "      <td>NaN</td>\n",
              "      <td>0.57735382</td>\n",
              "    </tr>\n",
              "    <tr>\n",
              "      <th>1996-03-29</th>\n",
              "      <th>AEP</th>\n",
              "      <td>NaN</td>\n",
              "      <td>NaN</td>\n",
              "    </tr>\n",
              "    <tr>\n",
              "      <th>1996-03-30</th>\n",
              "      <th>AEP</th>\n",
              "      <td>NaN</td>\n",
              "      <td>NaN</td>\n",
              "    </tr>\n",
              "    <tr>\n",
              "      <th>1996-03-31</th>\n",
              "      <th>AEP</th>\n",
              "      <td>NaN</td>\n",
              "      <td>NaN</td>\n",
              "    </tr>\n",
              "    <tr>\n",
              "      <th>1996-04-01</th>\n",
              "      <th>AEP</th>\n",
              "      <td>NaN</td>\n",
              "      <td>NaN</td>\n",
              "    </tr>\n",
              "    <tr>\n",
              "      <th>...</th>\n",
              "      <th>...</th>\n",
              "      <td>...</td>\n",
              "      <td>...</td>\n",
              "    </tr>\n",
              "    <tr>\n",
              "      <th>2020-02-15</th>\n",
              "      <th>JNJ</th>\n",
              "      <td>NaN</td>\n",
              "      <td>NaN</td>\n",
              "    </tr>\n",
              "    <tr>\n",
              "      <th>2020-02-16</th>\n",
              "      <th>JNJ</th>\n",
              "      <td>NaN</td>\n",
              "      <td>NaN</td>\n",
              "    </tr>\n",
              "    <tr>\n",
              "      <th>2020-02-17</th>\n",
              "      <th>JNJ</th>\n",
              "      <td>NaN</td>\n",
              "      <td>NaN</td>\n",
              "    </tr>\n",
              "    <tr>\n",
              "      <th>2020-02-18</th>\n",
              "      <th>JNJ</th>\n",
              "      <td>144.29301453</td>\n",
              "      <td>0.99263108</td>\n",
              "    </tr>\n",
              "    <tr>\n",
              "      <th>2020-02-19</th>\n",
              "      <th>JNJ</th>\n",
              "      <td>144.09953308</td>\n",
              "      <td>NaN</td>\n",
              "    </tr>\n",
              "  </tbody>\n",
              "</table>\n",
              "<p>125087 rows × 2 columns</p>\n",
              "</div>"
            ],
            "text/plain": [
              "                         price      value\n",
              "date       ticker                        \n",
              "1996-03-28 AEP             NaN 0.57735382\n",
              "1996-03-29 AEP             NaN        NaN\n",
              "1996-03-30 AEP             NaN        NaN\n",
              "1996-03-31 AEP             NaN        NaN\n",
              "1996-04-01 AEP             NaN        NaN\n",
              "...                        ...        ...\n",
              "2020-02-15 JNJ             NaN        NaN\n",
              "2020-02-16 JNJ             NaN        NaN\n",
              "2020-02-17 JNJ             NaN        NaN\n",
              "2020-02-18 JNJ    144.29301453 0.99263108\n",
              "2020-02-19 JNJ    144.09953308        NaN\n",
              "\n",
              "[125087 rows x 2 columns]"
            ]
          },
          "metadata": {
            "tags": []
          },
          "execution_count": 37
        }
      ]
    },
    {
      "cell_type": "code",
      "metadata": {
        "colab": {
          "base_uri": "https://localhost:8080/"
        },
        "id": "CAf2FnpPOzKc",
        "outputId": "80911000-c29e-48b4-f4a6-89ae1ce6c21f"
      },
      "source": [
        "factor_df"
      ],
      "execution_count": 38,
      "outputs": [
        {
          "output_type": "execute_result",
          "data": {
            "text/plain": [
              "date        ticker\n",
              "1996-03-28  AEP      0.57735382\n",
              "1996-03-29  AEP             NaN\n",
              "1996-03-30  AEP             NaN\n",
              "1996-03-31  AEP             NaN\n",
              "1996-04-01  AEP             NaN\n",
              "                        ...    \n",
              "2020-02-15  JNJ             NaN\n",
              "2020-02-16  JNJ             NaN\n",
              "2020-02-17  JNJ             NaN\n",
              "2020-02-18  JNJ      0.99263108\n",
              "2020-02-19  JNJ             NaN\n",
              "Name: value, Length: 125087, dtype: float64"
            ]
          },
          "metadata": {
            "tags": []
          },
          "execution_count": 38
        }
      ]
    },
    {
      "cell_type": "code",
      "metadata": {
        "id": "cmbm4eAk5_Np",
        "colab": {
          "base_uri": "https://localhost:8080/",
          "height": 688
        },
        "outputId": "6f8ba0e9-4382-48ed-9efd-2cbf4a7d094c"
      },
      "source": [
        "import alphalens as al\n",
        "\n",
        "# FIx bug workaround:\n",
        "# Just stumbled upon this issue.\n",
        "# @luca-s , you are right:\n",
        "# utils.get_clean_factor_and_forward_returns(factor, prices, max_loss=0.0) (factor and prices as shown by @niti's comment) function call reveals the source of trouble: ValueError: Bin edges must be unique raised by pd.qcut inside quantile_calc, line 132.\n",
        "\n",
        "# What it does is it groups factor by date and tries to cut every group into bins (line 165), and clearly fails, since there is no way to cut one sample (one per date) in more than one bin. But since max_loss is different from zero, no_raise is True (line 570), so exception is swallowed, quantiles for every group are set to NaN (line 158), and so the whole dataset is dropped (line 578).\n",
        "# Line numbering is given for commit 32bad52.\n",
        "\n",
        "# Therefore, in case of one asset only, one should use utils.get_clean_factor_and_forward_returns(factor, prices, quantiles=None, bins=1) or utils.get_clean_factor_and_forward_returns(factor, prices, quantiles=None, bins=[-np.inf, np.inf])\n",
        "\n",
        "# Hope that someone will find it useful.\n",
        "\n",
        "factor_data = {}\n",
        "skipped_sentiments = []\n",
        "\n",
        "for sentiment in sentiments:\n",
        "    try:\n",
        "        data = al.utils.get_clean_factor_and_forward_returns(factor_df, \n",
        "                                                             prices, \n",
        "                                                             quantiles=None, \n",
        "                                                             bins=5,\n",
        "                                                            #  bins=[0, 0.25, 0.5 , 0.75, 1], \n",
        "                                                             periods=[3, 7, 14, 21, 30, 60],\n",
        "                                                             max_loss=1)\n",
        "        factor_data[sentiment] = data\n",
        "    \n",
        "    except ValueError as e:\n",
        "\n",
        "      skipped_sentiments.append(sentiment)\n",
        "      print(e)\n",
        "\n",
        "if skipped_sentiments:\n",
        "    print('\\nSkipped the following sentiments:\\n{}'.format('\\n'.join(skipped_sentiments)))\n",
        "factor_data[sentiments[0]]"
      ],
      "execution_count": 39,
      "outputs": [
        {
          "output_type": "stream",
          "text": [
            "/usr/local/lib/python3.7/dist-packages/statsmodels/tools/_testing.py:19: FutureWarning: pandas.util.testing is deprecated. Use the functions in the public API at pandas.testing instead.\n",
            "  import pandas.util.testing as tm\n"
          ],
          "name": "stderr"
        },
        {
          "output_type": "stream",
          "text": [
            "Dropped 99.8% entries from factor data: 99.8% in forward returns computation and 0.0% in binning phase (set max_loss=0 to see potentially suppressed Exceptions).\n",
            "max_loss is 100.0%, not exceeded: OK!\n",
            "Dropped 99.8% entries from factor data: 99.8% in forward returns computation and 0.0% in binning phase (set max_loss=0 to see potentially suppressed Exceptions).\n",
            "max_loss is 100.0%, not exceeded: OK!\n",
            "Dropped 99.8% entries from factor data: 99.8% in forward returns computation and 0.0% in binning phase (set max_loss=0 to see potentially suppressed Exceptions).\n",
            "max_loss is 100.0%, not exceeded: OK!\n",
            "Dropped 99.8% entries from factor data: 99.8% in forward returns computation and 0.0% in binning phase (set max_loss=0 to see potentially suppressed Exceptions).\n",
            "max_loss is 100.0%, not exceeded: OK!\n",
            "Dropped 99.8% entries from factor data: 99.8% in forward returns computation and 0.0% in binning phase (set max_loss=0 to see potentially suppressed Exceptions).\n",
            "max_loss is 100.0%, not exceeded: OK!\n",
            "Dropped 99.8% entries from factor data: 99.8% in forward returns computation and 0.0% in binning phase (set max_loss=0 to see potentially suppressed Exceptions).\n",
            "max_loss is 100.0%, not exceeded: OK!\n"
          ],
          "name": "stdout"
        },
        {
          "output_type": "execute_result",
          "data": {
            "text/html": [
              "<div>\n",
              "<style scoped>\n",
              "    .dataframe tbody tr th:only-of-type {\n",
              "        vertical-align: middle;\n",
              "    }\n",
              "\n",
              "    .dataframe tbody tr th {\n",
              "        vertical-align: top;\n",
              "    }\n",
              "\n",
              "    .dataframe thead th {\n",
              "        text-align: right;\n",
              "    }\n",
              "</style>\n",
              "<table border=\"1\" class=\"dataframe\">\n",
              "  <thead>\n",
              "    <tr style=\"text-align: right;\">\n",
              "      <th></th>\n",
              "      <th></th>\n",
              "      <th>3D</th>\n",
              "      <th>7D</th>\n",
              "      <th>14D</th>\n",
              "      <th>21D</th>\n",
              "      <th>30D</th>\n",
              "      <th>60D</th>\n",
              "      <th>factor</th>\n",
              "      <th>factor_quantile</th>\n",
              "    </tr>\n",
              "    <tr>\n",
              "      <th>date</th>\n",
              "      <th>asset</th>\n",
              "      <th></th>\n",
              "      <th></th>\n",
              "      <th></th>\n",
              "      <th></th>\n",
              "      <th></th>\n",
              "      <th></th>\n",
              "      <th></th>\n",
              "      <th></th>\n",
              "    </tr>\n",
              "  </thead>\n",
              "  <tbody>\n",
              "    <tr>\n",
              "      <th>2002-03-29</th>\n",
              "      <th>AEP</th>\n",
              "      <td>-0.00911264</td>\n",
              "      <td>0.01583884</td>\n",
              "      <td>0.03905489</td>\n",
              "      <td>0.03862047</td>\n",
              "      <td>-0.00260313</td>\n",
              "      <td>-0.01084693</td>\n",
              "      <td>0.33885528</td>\n",
              "      <td>3</td>\n",
              "    </tr>\n",
              "    <tr>\n",
              "      <th>2003-03-20</th>\n",
              "      <th>AEP</th>\n",
              "      <td>0.00043820</td>\n",
              "      <td>0.00394247</td>\n",
              "      <td>0.00306608</td>\n",
              "      <td>0.05124845</td>\n",
              "      <td>0.10249620</td>\n",
              "      <td>0.14388747</td>\n",
              "      <td>0.24424699</td>\n",
              "      <td>3</td>\n",
              "    </tr>\n",
              "    <tr>\n",
              "      <th>2004-03-11</th>\n",
              "      <th>AEP</th>\n",
              "      <td>0.00298373</td>\n",
              "      <td>0.00954671</td>\n",
              "      <td>-0.01282786</td>\n",
              "      <td>-0.01014278</td>\n",
              "      <td>-0.04236293</td>\n",
              "      <td>-0.12464086</td>\n",
              "      <td>0.20137915</td>\n",
              "      <td>1</td>\n",
              "    </tr>\n",
              "    <tr>\n",
              "      <th>2005-03-01</th>\n",
              "      <th>AEP</th>\n",
              "      <td>0.01601905</td>\n",
              "      <td>0.02729199</td>\n",
              "      <td>0.00563636</td>\n",
              "      <td>-0.02313818</td>\n",
              "      <td>0.01038291</td>\n",
              "      <td>0.04479391</td>\n",
              "      <td>0.52455370</td>\n",
              "      <td>5</td>\n",
              "    </tr>\n",
              "    <tr>\n",
              "      <th>2006-03-01</th>\n",
              "      <th>AEP</th>\n",
              "      <td>-0.00218934</td>\n",
              "      <td>-0.01724132</td>\n",
              "      <td>-0.02162027</td>\n",
              "      <td>-0.04050390</td>\n",
              "      <td>-0.06896574</td>\n",
              "      <td>-0.08429156</td>\n",
              "      <td>0.62423398</td>\n",
              "      <td>3</td>\n",
              "    </tr>\n",
              "    <tr>\n",
              "      <th>...</th>\n",
              "      <th>...</th>\n",
              "      <td>...</td>\n",
              "      <td>...</td>\n",
              "      <td>...</td>\n",
              "      <td>...</td>\n",
              "      <td>...</td>\n",
              "      <td>...</td>\n",
              "      <td>...</td>\n",
              "      <td>...</td>\n",
              "    </tr>\n",
              "    <tr>\n",
              "      <th>2014-02-21</th>\n",
              "      <th>JNJ</th>\n",
              "      <td>-0.00447991</td>\n",
              "      <td>0.00655557</td>\n",
              "      <td>0.01966771</td>\n",
              "      <td>0.01409490</td>\n",
              "      <td>0.04818622</td>\n",
              "      <td>0.09462386</td>\n",
              "      <td>0.67321487</td>\n",
              "      <td>3</td>\n",
              "    </tr>\n",
              "    <tr>\n",
              "      <th>2016-02-24</th>\n",
              "      <th>JNJ</th>\n",
              "      <td>0.00781239</td>\n",
              "      <td>0.01981726</td>\n",
              "      <td>0.01791162</td>\n",
              "      <td>0.02334218</td>\n",
              "      <td>0.03191720</td>\n",
              "      <td>0.07964932</td>\n",
              "      <td>0.97402353</td>\n",
              "      <td>5</td>\n",
              "    </tr>\n",
              "    <tr>\n",
              "      <th>2017-02-27</th>\n",
              "      <th>JNJ</th>\n",
              "      <td>0.01004890</td>\n",
              "      <td>0.01070256</td>\n",
              "      <td>0.03496729</td>\n",
              "      <td>0.04632366</td>\n",
              "      <td>0.02058814</td>\n",
              "      <td>0.00874170</td>\n",
              "      <td>0.98509581</td>\n",
              "      <td>3</td>\n",
              "    </tr>\n",
              "    <tr>\n",
              "      <th>2018-02-21</th>\n",
              "      <th>JNJ</th>\n",
              "      <td>0.01624216</td>\n",
              "      <td>0.00617113</td>\n",
              "      <td>-0.00033636</td>\n",
              "      <td>0.02507359</td>\n",
              "      <td>-0.03085932</td>\n",
              "      <td>-0.01877412</td>\n",
              "      <td>0.97516889</td>\n",
              "      <td>3</td>\n",
              "    </tr>\n",
              "    <tr>\n",
              "      <th>2020-02-18</th>\n",
              "      <th>JNJ</th>\n",
              "      <td>-0.00134089</td>\n",
              "      <td>-0.00134089</td>\n",
              "      <td>-0.00134089</td>\n",
              "      <td>-0.00134089</td>\n",
              "      <td>-0.00134089</td>\n",
              "      <td>-0.00134089</td>\n",
              "      <td>0.99263108</td>\n",
              "      <td>3</td>\n",
              "    </tr>\n",
              "  </tbody>\n",
              "</table>\n",
              "<p>206 rows × 8 columns</p>\n",
              "</div>"
            ],
            "text/plain": [
              "                          3D          7D  ...     factor  factor_quantile\n",
              "date       asset                          ...                            \n",
              "2002-03-29 AEP   -0.00911264  0.01583884  ... 0.33885528                3\n",
              "2003-03-20 AEP    0.00043820  0.00394247  ... 0.24424699                3\n",
              "2004-03-11 AEP    0.00298373  0.00954671  ... 0.20137915                1\n",
              "2005-03-01 AEP    0.01601905  0.02729199  ... 0.52455370                5\n",
              "2006-03-01 AEP   -0.00218934 -0.01724132  ... 0.62423398                3\n",
              "...                      ...         ...  ...        ...              ...\n",
              "2014-02-21 JNJ   -0.00447991  0.00655557  ... 0.67321487                3\n",
              "2016-02-24 JNJ    0.00781239  0.01981726  ... 0.97402353                5\n",
              "2017-02-27 JNJ    0.01004890  0.01070256  ... 0.98509581                3\n",
              "2018-02-21 JNJ    0.01624216  0.00617113  ... 0.97516889                3\n",
              "2020-02-18 JNJ   -0.00134089 -0.00134089  ... 0.99263108                3\n",
              "\n",
              "[206 rows x 8 columns]"
            ]
          },
          "metadata": {
            "tags": []
          },
          "execution_count": 39
        }
      ]
    },
    {
      "cell_type": "markdown",
      "metadata": {
        "id": "GKcjTpFd5_Np"
      },
      "source": [
        "### Alphalens Format with Unix Time\n",
        "Alphalen's `factor_rank_autocorrelation` and `mean_return_by_quantile` functions require unix timestamps to work, so we'll also create factor dataframes with unix time."
      ]
    },
    {
      "cell_type": "code",
      "metadata": {
        "id": "vibRc0e1vHQL"
      },
      "source": [
        "def datetime_to_epoch(ser):\n",
        "    \"\"\"Don't convert NaT to large negative values.\"\"\"\n",
        "    if ser.hasnans:\n",
        "        res = ser.dropna().astype('int64').astype('Int64').reindex(index=ser.index)\n",
        "    else:\n",
        "        res = ser.astype('int64')\n",
        "\n",
        "    return res // 10**9"
      ],
      "execution_count": 40,
      "outputs": []
    },
    {
      "cell_type": "code",
      "metadata": {
        "id": "oo0Qj7ovvcIy"
      },
      "source": [
        "unixt_factor_data = {\n",
        "    factor: data.set_index(pd.MultiIndex.from_tuples(\n",
        "        [(x.timestamp(), y) for x, y in data.index.values],\n",
        "        names=['date', 'asset']))\n",
        "    for factor, data in factor_data.items()}"
      ],
      "execution_count": 41,
      "outputs": []
    },
    {
      "cell_type": "code",
      "metadata": {
        "id": "0LTB0IUvsnFk",
        "colab": {
          "base_uri": "https://localhost:8080/",
          "height": 450
        },
        "outputId": "74e99fca-b80e-4a10-8b21-2e0e3ae71ba5"
      },
      "source": [
        "unixt_factor_data['constraining']"
      ],
      "execution_count": 42,
      "outputs": [
        {
          "output_type": "execute_result",
          "data": {
            "text/html": [
              "<div>\n",
              "<style scoped>\n",
              "    .dataframe tbody tr th:only-of-type {\n",
              "        vertical-align: middle;\n",
              "    }\n",
              "\n",
              "    .dataframe tbody tr th {\n",
              "        vertical-align: top;\n",
              "    }\n",
              "\n",
              "    .dataframe thead th {\n",
              "        text-align: right;\n",
              "    }\n",
              "</style>\n",
              "<table border=\"1\" class=\"dataframe\">\n",
              "  <thead>\n",
              "    <tr style=\"text-align: right;\">\n",
              "      <th></th>\n",
              "      <th></th>\n",
              "      <th>3D</th>\n",
              "      <th>7D</th>\n",
              "      <th>14D</th>\n",
              "      <th>21D</th>\n",
              "      <th>30D</th>\n",
              "      <th>60D</th>\n",
              "      <th>factor</th>\n",
              "      <th>factor_quantile</th>\n",
              "    </tr>\n",
              "    <tr>\n",
              "      <th>date</th>\n",
              "      <th>asset</th>\n",
              "      <th></th>\n",
              "      <th></th>\n",
              "      <th></th>\n",
              "      <th></th>\n",
              "      <th></th>\n",
              "      <th></th>\n",
              "      <th></th>\n",
              "      <th></th>\n",
              "    </tr>\n",
              "  </thead>\n",
              "  <tbody>\n",
              "    <tr>\n",
              "      <th>1017360000.00000000</th>\n",
              "      <th>AEP</th>\n",
              "      <td>-0.00911264</td>\n",
              "      <td>0.01583884</td>\n",
              "      <td>0.03905489</td>\n",
              "      <td>0.03862047</td>\n",
              "      <td>-0.00260313</td>\n",
              "      <td>-0.01084693</td>\n",
              "      <td>0.33885528</td>\n",
              "      <td>3</td>\n",
              "    </tr>\n",
              "    <tr>\n",
              "      <th>1048118400.00000000</th>\n",
              "      <th>AEP</th>\n",
              "      <td>0.00043820</td>\n",
              "      <td>0.00394247</td>\n",
              "      <td>0.00306608</td>\n",
              "      <td>0.05124845</td>\n",
              "      <td>0.10249620</td>\n",
              "      <td>0.14388747</td>\n",
              "      <td>0.24424699</td>\n",
              "      <td>3</td>\n",
              "    </tr>\n",
              "    <tr>\n",
              "      <th>1078963200.00000000</th>\n",
              "      <th>AEP</th>\n",
              "      <td>0.00298373</td>\n",
              "      <td>0.00954671</td>\n",
              "      <td>-0.01282786</td>\n",
              "      <td>-0.01014278</td>\n",
              "      <td>-0.04236293</td>\n",
              "      <td>-0.12464086</td>\n",
              "      <td>0.20137915</td>\n",
              "      <td>1</td>\n",
              "    </tr>\n",
              "    <tr>\n",
              "      <th>1109635200.00000000</th>\n",
              "      <th>AEP</th>\n",
              "      <td>0.01601905</td>\n",
              "      <td>0.02729199</td>\n",
              "      <td>0.00563636</td>\n",
              "      <td>-0.02313818</td>\n",
              "      <td>0.01038291</td>\n",
              "      <td>0.04479391</td>\n",
              "      <td>0.52455370</td>\n",
              "      <td>5</td>\n",
              "    </tr>\n",
              "    <tr>\n",
              "      <th>1141171200.00000000</th>\n",
              "      <th>AEP</th>\n",
              "      <td>-0.00218934</td>\n",
              "      <td>-0.01724132</td>\n",
              "      <td>-0.02162027</td>\n",
              "      <td>-0.04050390</td>\n",
              "      <td>-0.06896574</td>\n",
              "      <td>-0.08429156</td>\n",
              "      <td>0.62423398</td>\n",
              "      <td>3</td>\n",
              "    </tr>\n",
              "    <tr>\n",
              "      <th>...</th>\n",
              "      <th>...</th>\n",
              "      <td>...</td>\n",
              "      <td>...</td>\n",
              "      <td>...</td>\n",
              "      <td>...</td>\n",
              "      <td>...</td>\n",
              "      <td>...</td>\n",
              "      <td>...</td>\n",
              "      <td>...</td>\n",
              "    </tr>\n",
              "    <tr>\n",
              "      <th>1392940800.00000000</th>\n",
              "      <th>JNJ</th>\n",
              "      <td>-0.00447991</td>\n",
              "      <td>0.00655557</td>\n",
              "      <td>0.01966771</td>\n",
              "      <td>0.01409490</td>\n",
              "      <td>0.04818622</td>\n",
              "      <td>0.09462386</td>\n",
              "      <td>0.67321487</td>\n",
              "      <td>3</td>\n",
              "    </tr>\n",
              "    <tr>\n",
              "      <th>1456272000.00000000</th>\n",
              "      <th>JNJ</th>\n",
              "      <td>0.00781239</td>\n",
              "      <td>0.01981726</td>\n",
              "      <td>0.01791162</td>\n",
              "      <td>0.02334218</td>\n",
              "      <td>0.03191720</td>\n",
              "      <td>0.07964932</td>\n",
              "      <td>0.97402353</td>\n",
              "      <td>5</td>\n",
              "    </tr>\n",
              "    <tr>\n",
              "      <th>1488153600.00000000</th>\n",
              "      <th>JNJ</th>\n",
              "      <td>0.01004890</td>\n",
              "      <td>0.01070256</td>\n",
              "      <td>0.03496729</td>\n",
              "      <td>0.04632366</td>\n",
              "      <td>0.02058814</td>\n",
              "      <td>0.00874170</td>\n",
              "      <td>0.98509581</td>\n",
              "      <td>3</td>\n",
              "    </tr>\n",
              "    <tr>\n",
              "      <th>1519171200.00000000</th>\n",
              "      <th>JNJ</th>\n",
              "      <td>0.01624216</td>\n",
              "      <td>0.00617113</td>\n",
              "      <td>-0.00033636</td>\n",
              "      <td>0.02507359</td>\n",
              "      <td>-0.03085932</td>\n",
              "      <td>-0.01877412</td>\n",
              "      <td>0.97516889</td>\n",
              "      <td>3</td>\n",
              "    </tr>\n",
              "    <tr>\n",
              "      <th>1581984000.00000000</th>\n",
              "      <th>JNJ</th>\n",
              "      <td>-0.00134089</td>\n",
              "      <td>-0.00134089</td>\n",
              "      <td>-0.00134089</td>\n",
              "      <td>-0.00134089</td>\n",
              "      <td>-0.00134089</td>\n",
              "      <td>-0.00134089</td>\n",
              "      <td>0.99263108</td>\n",
              "      <td>3</td>\n",
              "    </tr>\n",
              "  </tbody>\n",
              "</table>\n",
              "<p>206 rows × 8 columns</p>\n",
              "</div>"
            ],
            "text/plain": [
              "                                   3D          7D  ...     factor  factor_quantile\n",
              "date                asset                          ...                            \n",
              "1017360000.00000000 AEP   -0.00911264  0.01583884  ... 0.33885528                3\n",
              "1048118400.00000000 AEP    0.00043820  0.00394247  ... 0.24424699                3\n",
              "1078963200.00000000 AEP    0.00298373  0.00954671  ... 0.20137915                1\n",
              "1109635200.00000000 AEP    0.01601905  0.02729199  ... 0.52455370                5\n",
              "1141171200.00000000 AEP   -0.00218934 -0.01724132  ... 0.62423398                3\n",
              "...                               ...         ...  ...        ...              ...\n",
              "1392940800.00000000 JNJ   -0.00447991  0.00655557  ... 0.67321487                3\n",
              "1456272000.00000000 JNJ    0.00781239  0.01981726  ... 0.97402353                5\n",
              "1488153600.00000000 JNJ    0.01004890  0.01070256  ... 0.98509581                3\n",
              "1519171200.00000000 JNJ    0.01624216  0.00617113  ... 0.97516889                3\n",
              "1581984000.00000000 JNJ   -0.00134089 -0.00134089  ... 0.99263108                3\n",
              "\n",
              "[206 rows x 8 columns]"
            ]
          },
          "metadata": {
            "tags": []
          },
          "execution_count": 42
        }
      ]
    },
    {
      "cell_type": "markdown",
      "metadata": {
        "id": "PeRxC1K05_Np"
      },
      "source": [
        "### Factor Returns\n",
        "Let's view the factor returns over time. We should be seeing it generally move up and to the right."
      ]
    },
    {
      "cell_type": "markdown",
      "metadata": {
        "id": "cetSMjpoXBUP"
      },
      "source": [
        ""
      ]
    },
    {
      "cell_type": "code",
      "metadata": {
        "id": "_JkYgU9DjLU8",
        "colab": {
          "base_uri": "https://localhost:8080/",
          "height": 235
        },
        "outputId": "4764a730-0af2-4854-f245-18d1a0c5d893"
      },
      "source": [
        "ls_factor_returns = pd.DataFrame()\n",
        "for factor_name, data in factor_data.items():\n",
        "    ls_factor_returns[factor_name] = al.performance.factor_returns(data).iloc[:, 0]\n",
        "ls_factor_returns.index = pd.to_datetime(ls_factor_returns.index)\n",
        "\n",
        "ls_factor_returns.head()"
      ],
      "execution_count": 43,
      "outputs": [
        {
          "output_type": "execute_result",
          "data": {
            "text/html": [
              "<div>\n",
              "<style scoped>\n",
              "    .dataframe tbody tr th:only-of-type {\n",
              "        vertical-align: middle;\n",
              "    }\n",
              "\n",
              "    .dataframe tbody tr th {\n",
              "        vertical-align: top;\n",
              "    }\n",
              "\n",
              "    .dataframe thead th {\n",
              "        text-align: right;\n",
              "    }\n",
              "</style>\n",
              "<table border=\"1\" class=\"dataframe\">\n",
              "  <thead>\n",
              "    <tr style=\"text-align: right;\">\n",
              "      <th></th>\n",
              "      <th>negative</th>\n",
              "      <th>positive</th>\n",
              "      <th>uncertainty</th>\n",
              "      <th>litigious</th>\n",
              "      <th>constraining</th>\n",
              "      <th>interesting</th>\n",
              "    </tr>\n",
              "    <tr>\n",
              "      <th>date</th>\n",
              "      <th></th>\n",
              "      <th></th>\n",
              "      <th></th>\n",
              "      <th></th>\n",
              "      <th></th>\n",
              "      <th></th>\n",
              "    </tr>\n",
              "  </thead>\n",
              "  <tbody>\n",
              "    <tr>\n",
              "      <th>2000-03-29</th>\n",
              "      <td>0.00000000</td>\n",
              "      <td>0.00000000</td>\n",
              "      <td>0.00000000</td>\n",
              "      <td>0.00000000</td>\n",
              "      <td>0.00000000</td>\n",
              "      <td>0.00000000</td>\n",
              "    </tr>\n",
              "    <tr>\n",
              "      <th>2000-12-20</th>\n",
              "      <td>0.00000000</td>\n",
              "      <td>0.00000000</td>\n",
              "      <td>0.00000000</td>\n",
              "      <td>0.00000000</td>\n",
              "      <td>0.00000000</td>\n",
              "      <td>0.00000000</td>\n",
              "    </tr>\n",
              "    <tr>\n",
              "      <th>2000-12-22</th>\n",
              "      <td>0.00000000</td>\n",
              "      <td>0.00000000</td>\n",
              "      <td>0.00000000</td>\n",
              "      <td>0.00000000</td>\n",
              "      <td>0.00000000</td>\n",
              "      <td>0.00000000</td>\n",
              "    </tr>\n",
              "    <tr>\n",
              "      <th>2001-03-09</th>\n",
              "      <td>0.00000000</td>\n",
              "      <td>0.00000000</td>\n",
              "      <td>0.00000000</td>\n",
              "      <td>0.00000000</td>\n",
              "      <td>0.00000000</td>\n",
              "      <td>0.00000000</td>\n",
              "    </tr>\n",
              "    <tr>\n",
              "      <th>2001-03-13</th>\n",
              "      <td>0.00000000</td>\n",
              "      <td>0.00000000</td>\n",
              "      <td>0.00000000</td>\n",
              "      <td>0.00000000</td>\n",
              "      <td>0.00000000</td>\n",
              "      <td>0.00000000</td>\n",
              "    </tr>\n",
              "  </tbody>\n",
              "</table>\n",
              "</div>"
            ],
            "text/plain": [
              "             negative   positive  ...  constraining  interesting\n",
              "date                              ...                           \n",
              "2000-03-29 0.00000000 0.00000000  ...    0.00000000   0.00000000\n",
              "2000-12-20 0.00000000 0.00000000  ...    0.00000000   0.00000000\n",
              "2000-12-22 0.00000000 0.00000000  ...    0.00000000   0.00000000\n",
              "2001-03-09 0.00000000 0.00000000  ...    0.00000000   0.00000000\n",
              "2001-03-13 0.00000000 0.00000000  ...    0.00000000   0.00000000\n",
              "\n",
              "[5 rows x 6 columns]"
            ]
          },
          "metadata": {
            "tags": []
          },
          "execution_count": 43
        }
      ]
    },
    {
      "cell_type": "code",
      "metadata": {
        "id": "UWAUPGmBmV9a",
        "colab": {
          "base_uri": "https://localhost:8080/",
          "height": 286
        },
        "outputId": "b751c3de-c480-4b49-d063-3ccf10e8914f"
      },
      "source": [
        "(1 + ls_factor_returns).cumprod().plot()"
      ],
      "execution_count": 44,
      "outputs": [
        {
          "output_type": "execute_result",
          "data": {
            "text/plain": [
              "<matplotlib.axes._subplots.AxesSubplot at 0x7f95be516910>"
            ]
          },
          "metadata": {
            "tags": []
          },
          "execution_count": 44
        },
        {
          "output_type": "display_data",
          "data": {
            "image/png": "[encoded data removed]",
            "text/plain": [
              "<Figure size 432x288 with 1 Axes>"
            ]
          },
          "metadata": {
            "tags": [],
            "needs_background": "light"
          }
        }
      ]
    },
    {
      "cell_type": "markdown",
      "metadata": {
        "id": "AB6H8Sbf5_Ns"
      },
      "source": [
        "### Basis Points Per Day per Quantile\n",
        "It is not enough to look just at the factor weighted return. A good alpha is also monotonic in quantiles. Let's looks the basis points for the factor returns."
      ]
    },
    {
      "cell_type": "code",
      "metadata": {
        "id": "S4gTq26B5_Ns"
      },
      "source": [
        "qr_factor_returns = pd.DataFrame()\n",
        "\n",
        "for factor_name, data in unixt_factor_data.items():\n",
        "    qr_factor_returns[factor_name] = al.performance.mean_return_by_quantile(data)[0].iloc[:, 0]"
      ],
      "execution_count": 45,
      "outputs": []
    },
    {
      "cell_type": "code",
      "metadata": {
        "colab": {
          "base_uri": "https://localhost:8080/",
          "height": 235
        },
        "id": "jtYeprMGP8Cm",
        "outputId": "b1c762ad-48ef-4fab-e97f-245b229e4451"
      },
      "source": [
        "qr_factor_returns"
      ],
      "execution_count": 46,
      "outputs": [
        {
          "output_type": "execute_result",
          "data": {
            "text/html": [
              "<div>\n",
              "<style scoped>\n",
              "    .dataframe tbody tr th:only-of-type {\n",
              "        vertical-align: middle;\n",
              "    }\n",
              "\n",
              "    .dataframe tbody tr th {\n",
              "        vertical-align: top;\n",
              "    }\n",
              "\n",
              "    .dataframe thead th {\n",
              "        text-align: right;\n",
              "    }\n",
              "</style>\n",
              "<table border=\"1\" class=\"dataframe\">\n",
              "  <thead>\n",
              "    <tr style=\"text-align: right;\">\n",
              "      <th></th>\n",
              "      <th>negative</th>\n",
              "      <th>positive</th>\n",
              "      <th>uncertainty</th>\n",
              "      <th>litigious</th>\n",
              "      <th>constraining</th>\n",
              "      <th>interesting</th>\n",
              "    </tr>\n",
              "    <tr>\n",
              "      <th>factor_quantile</th>\n",
              "      <th></th>\n",
              "      <th></th>\n",
              "      <th></th>\n",
              "      <th></th>\n",
              "      <th></th>\n",
              "      <th></th>\n",
              "    </tr>\n",
              "  </thead>\n",
              "  <tbody>\n",
              "    <tr>\n",
              "      <th>1</th>\n",
              "      <td>0.00015190</td>\n",
              "      <td>0.00015190</td>\n",
              "      <td>0.00015190</td>\n",
              "      <td>0.00015190</td>\n",
              "      <td>0.00015190</td>\n",
              "      <td>0.00015190</td>\n",
              "    </tr>\n",
              "    <tr>\n",
              "      <th>2</th>\n",
              "      <td>0.00168218</td>\n",
              "      <td>0.00168218</td>\n",
              "      <td>0.00168218</td>\n",
              "      <td>0.00168218</td>\n",
              "      <td>0.00168218</td>\n",
              "      <td>0.00168218</td>\n",
              "    </tr>\n",
              "    <tr>\n",
              "      <th>3</th>\n",
              "      <td>0.00005741</td>\n",
              "      <td>0.00005741</td>\n",
              "      <td>0.00005741</td>\n",
              "      <td>0.00005741</td>\n",
              "      <td>0.00005741</td>\n",
              "      <td>0.00005741</td>\n",
              "    </tr>\n",
              "    <tr>\n",
              "      <th>4</th>\n",
              "      <td>-0.01344760</td>\n",
              "      <td>-0.01344760</td>\n",
              "      <td>-0.01344760</td>\n",
              "      <td>-0.01344760</td>\n",
              "      <td>-0.01344760</td>\n",
              "      <td>-0.01344760</td>\n",
              "    </tr>\n",
              "    <tr>\n",
              "      <th>5</th>\n",
              "      <td>-0.00049972</td>\n",
              "      <td>-0.00049972</td>\n",
              "      <td>-0.00049972</td>\n",
              "      <td>-0.00049972</td>\n",
              "      <td>-0.00049972</td>\n",
              "      <td>-0.00049972</td>\n",
              "    </tr>\n",
              "  </tbody>\n",
              "</table>\n",
              "</div>"
            ],
            "text/plain": [
              "                   negative    positive  ...  constraining  interesting\n",
              "factor_quantile                          ...                           \n",
              "1                0.00015190  0.00015190  ...    0.00015190   0.00015190\n",
              "2                0.00168218  0.00168218  ...    0.00168218   0.00168218\n",
              "3                0.00005741  0.00005741  ...    0.00005741   0.00005741\n",
              "4               -0.01344760 -0.01344760  ...   -0.01344760  -0.01344760\n",
              "5               -0.00049972 -0.00049972  ...   -0.00049972  -0.00049972\n",
              "\n",
              "[5 rows x 6 columns]"
            ]
          },
          "metadata": {
            "tags": []
          },
          "execution_count": 46
        }
      ]
    },
    {
      "cell_type": "code",
      "metadata": {
        "id": "aOS3h4C1jUpn",
        "colab": {
          "base_uri": "https://localhost:8080/",
          "height": 364
        },
        "outputId": "3ea91f37-451f-4fa2-8e7c-96537e00e391"
      },
      "source": [
        "(10000*qr_factor_returns).plot.bar(\n",
        "    subplots=True,\n",
        "    sharey=True,\n",
        "    layout=(5,3),\n",
        "    figsize=(14, 14),\n",
        "    legend=False,\n",
        "    ylabel='Mean Daily Returns (bps)');"
      ],
      "execution_count": 47,
      "outputs": [
        {
          "output_type": "display_data",
          "data": {
            "image/png": "[encoded data removed]",
            "text/plain": [
              "<Figure size 1008x1008 with 15 Axes>"
            ]
          },
          "metadata": {
            "tags": [],
            "needs_background": "light"
          }
        }
      ]
    },
    {
      "cell_type": "markdown",
      "metadata": {
        "id": "9o5a-c2F5_Nt"
      },
      "source": [
        "### Turnover Analysis\n",
        "Without doing a full and formal backtest, we can analyze how stable the alphas are over time. Stability in this sense means that from period to period, the alpha ranks do not change much. Since trading is costly, we always prefer, all other things being equal, that the ranks do not change significantly per period. We can measure this with the **Factor Rank Autocorrelation (FRA)**."
      ]
    },
    {
      "cell_type": "code",
      "metadata": {
        "id": "7x2pjJnB5_Nt"
      },
      "source": [
        "ls_FRA = pd.DataFrame()\n",
        "\n",
        "for factor, data in unixt_factor_data.items():\n",
        "    ls_FRA[factor] = al.performance.factor_rank_autocorrelation(data)\n",
        "ls_FRA.index = pd.to_datetime((ls_FRA.index*1e9).astype('int64'))\n"
      ],
      "execution_count": 48,
      "outputs": []
    },
    {
      "cell_type": "code",
      "metadata": {
        "id": "C56X0wNkjtRJ",
        "colab": {
          "base_uri": "https://localhost:8080/",
          "height": 285
        },
        "outputId": "7cae5645-a10b-4e2f-e1d7-a962c0b774dc"
      },
      "source": [
        "ls_FRA.plot(title=\"Factor Rank Autocorrelation\");"
      ],
      "execution_count": 49,
      "outputs": [
        {
          "output_type": "display_data",
          "data": {
            "image/png": "[encoded data removed]",
            "text/plain": [
              "<Figure size 432x288 with 1 Axes>"
            ]
          },
          "metadata": {
            "tags": [],
            "needs_background": "light"
          }
        }
      ]
    },
    {
      "cell_type": "code",
      "metadata": {
        "id": "QVCm4v4BkwWg",
        "colab": {
          "base_uri": "https://localhost:8080/",
          "height": 271
        },
        "outputId": "063b7a1f-7b32-424a-93d6-e4978c608ad7"
      },
      "source": [
        "ls_FRA.loc['2020':,:].resample('Q').plot(title=\"Factor Rank Autocorrelation\");"
      ],
      "execution_count": 50,
      "outputs": [
        {
          "output_type": "display_data",
          "data": {
            "image/png": "[encoded data removed]",
            "text/plain": [
              "<Figure size 432x288 with 1 Axes>"
            ]
          },
          "metadata": {
            "tags": [],
            "needs_background": "light"
          }
        }
      ]
    },
    {
      "cell_type": "code",
      "metadata": {
        "id": "ZX0XzB6D8jgC"
      },
      "source": [
        ""
      ],
      "execution_count": 50,
      "outputs": []
    },
    {
      "cell_type": "markdown",
      "metadata": {
        "id": "i51q_WuIplV4"
      },
      "source": [
        "# Write-up\n"
      ]
    },
    {
      "cell_type": "markdown",
      "metadata": {
        "id": "ccurzzdMpsVt"
      },
      "source": [
        "The notebook didn't run all the way through out-of-the-box. I made some changes to make it work. Unfortunately, I spent too much time debugging a library (alphalens) that isn't updated anymore and was lacking core functionality to do the analysis without making the bias that the notebook author made.\n",
        "\n",
        "The alphalens documentation seems to show that all data points must have the same frequency ex pd.datetime frequency ='D', or 'M', or Y. However, we know the SEC filings are nearly never filed on a constant cadence, and filings across companies do not happen on the same day.. The original author of the notebook compromises, introducing bias, by: \n",
        "setting all companies SEC filing date to the same date\n",
        "setting all SEC filings to the first date of the year.\n",
        "\n",
        "There may be a better-equipped library that already does what I'm looking for.\n",
        "\n",
        "## Changes\n",
        "\n",
        "The changes I made include:\n",
        "\n",
        "* Update requirements.txt to use newest versions, when compatible\n",
        "\n",
        "* Install retrying module, and add @retry decorators to get_sec() so that the function retries checking the SEC RSS feed a few times until it gets all the required data, instead of gathering NoneType data, then continuing to throw an exception later.\n",
        "\n",
        "* Import jaccard_score from sklearn.metrics, instead of jaccard_similarity. The function name as changed in sklearn 0.24, and the old function name was removed. \n",
        "\n",
        "* Add working data source (yfinance, via Yahoo Finance) for price data. The author had left the notebook user to get their own data, possibly due to licensing issues.\n",
        "\n",
        "* Make cosine_similarities_dfs variable fit the alphalens documentation's expected parameters (Multi-index series).\n",
        "\n",
        "* Change min period for alpha calulations to 3, instead of 1, to avoid unpredictable look-back bias due to ambiguity on if sec filings were made before market hours, or after market hours, on any given trading day.\n",
        "\n",
        "* Delete the section titled, \"Sharpe Ratio of the Alphas\". The math makes no sense, as-implemented, and neither does the title.\n",
        "\n",
        "\n",
        "\n"
      ]
    },
    {
      "cell_type": "markdown",
      "metadata": {
        "id": "CndlrvlorIxo"
      },
      "source": [
        "## Future work:\n",
        "\n",
        "* Find a better price data source for EOD data. Yahoo Finance doesn't go back vary far. QuantConnect  is where I'll look next as they have a python library target algo-traders who are migrating from Quantopian. Also, maybe SimFin, or a python bridge to TWS client or TOS client via DDE on Windows.\n",
        "\n",
        "* Try alternative data sources. I'm interested in NLP on the textual data in the monthly PMI releases (full name: ISM Report on Business, Purchasing Manager's Index).\n",
        "\n",
        "* Using 'ffill' on the non-filing days introduces major bias, by treating each forward-filled day as if it were a fresh SEC filing with identical text to the most recent filing. A proper approach could consider a factors such as 'factor[0], factor[1], ... interesting[80]' which could be interpretted as \"factor-on-day-of-sec-filing, factor-1-day-after-sec-filing, ... factor-n-days-after-sec-filing.\n"
      ]
    },
    {
      "cell_type": "code",
      "metadata": {
        "id": "YynNlIk4pnmJ"
      },
      "source": [
        ""
      ],
      "execution_count": 50,
      "outputs": []
    }
  ]
}
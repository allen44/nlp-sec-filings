{
  "nbformat": 4,
  "nbformat_minor": 0,
  "metadata": {
    "colab": {
      "name": "nlp-for-sec-filings.ipynb",
      "provenance": [],
      "collapsed_sections": [],
      "toc_visible": true,
      "include_colab_link": true
    },
    "kernelspec": {
      "display_name": "Python 3",
      "name": "python3"
    }
  },
  "cells": [
    {
      "cell_type": "markdown",
      "metadata": {
        "id": "view-in-github",
        "colab_type": "text"
      },
      "source": [
        "<a href=\"https://colab.research.google.com/github/allen44/nlp-sec-filings/blob/main/nlp_for_sec_filings.ipynb\" target=\"_parent\"><img src=\"https://colab.research.google.com/assets/colab-badge.svg\" alt=\"Open In Colab\"/></a>"
      ]
    },
    {
      "cell_type": "markdown",
      "metadata": {
        "id": "UuUOZFOW5_NP"
      },
      "source": [
        "# NLP on Financial Statements\n",
        "\n",
        "## Packages\n",
        "The `project_helper` module contains utility functions and graph functions. The `project_tests` contains the unit tests for all the problems.\n",
        "\n",
        "### Install Packages"
      ]
    },
    {
      "cell_type": "markdown",
      "metadata": {
        "id": "R_kploq_8bgn"
      },
      "source": [
        "### Mount gDrive"
      ]
    },
    {
      "cell_type": "code",
      "metadata": {
        "colab": {
          "base_uri": "https://localhost:8080/"
        },
        "id": "xSdi4Vh05_NV",
        "outputId": "103d66a8-e04b-4927-b9f2-35aaf495dbc9"
      },
      "source": [
        "from google.colab import drive\n",
        "drive.mount('/content/drive')\n",
        "\n",
        "% cd '/content/drive/MyDrive/Colab Notebooks/nlp-for-sec-filings'\n",
        "% ls"
      ],
      "execution_count": 21,
      "outputs": [
        {
          "output_type": "stream",
          "text": [
            "Drive already mounted at /content/drive; to attempt to forcibly remount, call drive.mount(\"/content/drive\", force_remount=True).\n",
            "/content/drive/MyDrive/Colab Notebooks/nlp-for-sec-filings\n",
            " Bag_of_Word_Exercises.ipynb                  \u001b[0m\u001b[01;34m__pycache__\u001b[0m/\n",
            " config.py                                    Readability_Exercises.ipynb\n",
            " \u001b[01;34mData\u001b[0m/                                        README.md\n",
            " LoughranMcDonald_MasterDictionary_2018.csv  'request library.ipynb'\n",
            " nlp-for-sec-filings.ipynb                    requirements.txt\n",
            " project_5_starter-Copy1.ipynb                STNG.ipynb\n",
            " project_helper.py                            tests.py\n",
            " project_tests.py\n"
          ],
          "name": "stdout"
        }
      ]
    },
    {
      "cell_type": "code",
      "metadata": {
        "scrolled": true,
        "colab": {
          "base_uri": "https://localhost:8080/"
        },
        "id": "1hsGSTuh5_NY",
        "outputId": "501ac937-eaa7-46e9-e636-c5412fdeacf7"
      },
      "source": [
        "!pip install -U -r requirements.txt\n",
        "!pip install retrying"
      ],
      "execution_count": 22,
      "outputs": [
        {
          "output_type": "stream",
          "text": [
            "Requirement already up-to-date: alphalens>=0.3.2 in /usr/local/lib/python3.7/dist-packages (from -r requirements.txt (line 1)) (0.4.0)\n",
            "Requirement already up-to-date: nltk>=3.3.0 in /usr/local/lib/python3.7/dist-packages (from -r requirements.txt (line 2)) (3.6.2)\n",
            "Requirement already up-to-date: numpy>=1.15.4 in /usr/local/lib/python3.7/dist-packages (from -r requirements.txt (line 3)) (1.20.2)\n",
            "Requirement already up-to-date: ratelimit>=2.2.0 in /usr/local/lib/python3.7/dist-packages (from -r requirements.txt (line 4)) (2.2.1)\n",
            "Requirement already up-to-date: requests>=2.18.4 in /usr/local/lib/python3.7/dist-packages (from -r requirements.txt (line 5)) (2.25.1)\n",
            "Requirement already up-to-date: scikit-learn==0.24 in /usr/local/lib/python3.7/dist-packages (from -r requirements.txt (line 6)) (0.24.0)\n",
            "Requirement already up-to-date: six>=1.11.0 in /usr/local/lib/python3.7/dist-packages (from -r requirements.txt (line 7)) (1.15.0)\n",
            "Requirement already up-to-date: tqdm>=4.19.5 in /usr/local/lib/python3.7/dist-packages (from -r requirements.txt (line 8)) (4.60.0)\n",
            "Requirement already up-to-date: pandas-datareader>=0.1 in /usr/local/lib/python3.7/dist-packages (from -r requirements.txt (line 9)) (0.9.0)\n",
            "Requirement already up-to-date: yfinance>=0.1 in /usr/local/lib/python3.7/dist-packages (from -r requirements.txt (line 10)) (0.1.59)\n",
            "Requirement already satisfied, skipping upgrade: statsmodels>=0.6.1 in /usr/local/lib/python3.7/dist-packages (from alphalens>=0.3.2->-r requirements.txt (line 1)) (0.10.2)\n",
            "Requirement already satisfied, skipping upgrade: scipy>=0.14.0 in /usr/local/lib/python3.7/dist-packages (from alphalens>=0.3.2->-r requirements.txt (line 1)) (1.4.1)\n",
            "Requirement already satisfied, skipping upgrade: matplotlib>=1.4.0 in /usr/local/lib/python3.7/dist-packages (from alphalens>=0.3.2->-r requirements.txt (line 1)) (3.2.2)\n",
            "Requirement already satisfied, skipping upgrade: empyrical>=0.5.0 in /usr/local/lib/python3.7/dist-packages (from alphalens>=0.3.2->-r requirements.txt (line 1)) (0.5.5)\n",
            "Requirement already satisfied, skipping upgrade: pandas>=0.18.0 in /usr/local/lib/python3.7/dist-packages (from alphalens>=0.3.2->-r requirements.txt (line 1)) (1.1.5)\n",
            "Requirement already satisfied, skipping upgrade: IPython>=3.2.3 in /usr/local/lib/python3.7/dist-packages (from alphalens>=0.3.2->-r requirements.txt (line 1)) (5.5.0)\n",
            "Requirement already satisfied, skipping upgrade: seaborn>=0.6.0 in /usr/local/lib/python3.7/dist-packages (from alphalens>=0.3.2->-r requirements.txt (line 1)) (0.11.1)\n",
            "Requirement already satisfied, skipping upgrade: joblib in /usr/local/lib/python3.7/dist-packages (from nltk>=3.3.0->-r requirements.txt (line 2)) (1.0.1)\n",
            "Requirement already satisfied, skipping upgrade: regex in /usr/local/lib/python3.7/dist-packages (from nltk>=3.3.0->-r requirements.txt (line 2)) (2019.12.20)\n",
            "Requirement already satisfied, skipping upgrade: click in /usr/local/lib/python3.7/dist-packages (from nltk>=3.3.0->-r requirements.txt (line 2)) (7.1.2)\n",
            "Requirement already satisfied, skipping upgrade: urllib3<1.27,>=1.21.1 in /usr/local/lib/python3.7/dist-packages (from requests>=2.18.4->-r requirements.txt (line 5)) (1.24.3)\n",
            "Requirement already satisfied, skipping upgrade: certifi>=2017.4.17 in /usr/local/lib/python3.7/dist-packages (from requests>=2.18.4->-r requirements.txt (line 5)) (2020.12.5)\n",
            "Requirement already satisfied, skipping upgrade: idna<3,>=2.5 in /usr/local/lib/python3.7/dist-packages (from requests>=2.18.4->-r requirements.txt (line 5)) (2.10)\n",
            "Requirement already satisfied, skipping upgrade: chardet<5,>=3.0.2 in /usr/local/lib/python3.7/dist-packages (from requests>=2.18.4->-r requirements.txt (line 5)) (3.0.4)\n",
            "Requirement already satisfied, skipping upgrade: threadpoolctl>=2.0.0 in /usr/local/lib/python3.7/dist-packages (from scikit-learn==0.24->-r requirements.txt (line 6)) (2.1.0)\n",
            "Requirement already satisfied, skipping upgrade: lxml in /usr/local/lib/python3.7/dist-packages (from pandas-datareader>=0.1->-r requirements.txt (line 9)) (4.2.6)\n",
            "Requirement already satisfied, skipping upgrade: multitasking>=0.0.7 in /usr/local/lib/python3.7/dist-packages (from yfinance>=0.1->-r requirements.txt (line 10)) (0.0.9)\n",
            "Requirement already satisfied, skipping upgrade: patsy>=0.4.0 in /usr/local/lib/python3.7/dist-packages (from statsmodels>=0.6.1->alphalens>=0.3.2->-r requirements.txt (line 1)) (0.5.1)\n",
            "Requirement already satisfied, skipping upgrade: python-dateutil>=2.1 in /usr/local/lib/python3.7/dist-packages (from matplotlib>=1.4.0->alphalens>=0.3.2->-r requirements.txt (line 1)) (2.8.1)\n",
            "Requirement already satisfied, skipping upgrade: pyparsing!=2.0.4,!=2.1.2,!=2.1.6,>=2.0.1 in /usr/local/lib/python3.7/dist-packages (from matplotlib>=1.4.0->alphalens>=0.3.2->-r requirements.txt (line 1)) (2.4.7)\n",
            "Requirement already satisfied, skipping upgrade: kiwisolver>=1.0.1 in /usr/local/lib/python3.7/dist-packages (from matplotlib>=1.4.0->alphalens>=0.3.2->-r requirements.txt (line 1)) (1.3.1)\n",
            "Requirement already satisfied, skipping upgrade: cycler>=0.10 in /usr/local/lib/python3.7/dist-packages (from matplotlib>=1.4.0->alphalens>=0.3.2->-r requirements.txt (line 1)) (0.10.0)\n",
            "Requirement already satisfied, skipping upgrade: pytz>=2017.2 in /usr/local/lib/python3.7/dist-packages (from pandas>=0.18.0->alphalens>=0.3.2->-r requirements.txt (line 1)) (2018.9)\n",
            "Requirement already satisfied, skipping upgrade: decorator in /usr/local/lib/python3.7/dist-packages (from IPython>=3.2.3->alphalens>=0.3.2->-r requirements.txt (line 1)) (4.4.2)\n",
            "Requirement already satisfied, skipping upgrade: setuptools>=18.5 in /usr/local/lib/python3.7/dist-packages (from IPython>=3.2.3->alphalens>=0.3.2->-r requirements.txt (line 1)) (56.0.0)\n",
            "Requirement already satisfied, skipping upgrade: simplegeneric>0.8 in /usr/local/lib/python3.7/dist-packages (from IPython>=3.2.3->alphalens>=0.3.2->-r requirements.txt (line 1)) (0.8.1)\n",
            "Requirement already satisfied, skipping upgrade: traitlets>=4.2 in /usr/local/lib/python3.7/dist-packages (from IPython>=3.2.3->alphalens>=0.3.2->-r requirements.txt (line 1)) (5.0.5)\n",
            "Requirement already satisfied, skipping upgrade: pygments in /usr/local/lib/python3.7/dist-packages (from IPython>=3.2.3->alphalens>=0.3.2->-r requirements.txt (line 1)) (2.6.1)\n",
            "Requirement already satisfied, skipping upgrade: pickleshare in /usr/local/lib/python3.7/dist-packages (from IPython>=3.2.3->alphalens>=0.3.2->-r requirements.txt (line 1)) (0.7.5)\n",
            "Requirement already satisfied, skipping upgrade: prompt-toolkit<2.0.0,>=1.0.4 in /usr/local/lib/python3.7/dist-packages (from IPython>=3.2.3->alphalens>=0.3.2->-r requirements.txt (line 1)) (1.0.18)\n",
            "Requirement already satisfied, skipping upgrade: pexpect; sys_platform != \"win32\" in /usr/local/lib/python3.7/dist-packages (from IPython>=3.2.3->alphalens>=0.3.2->-r requirements.txt (line 1)) (4.8.0)\n",
            "Requirement already satisfied, skipping upgrade: ipython-genutils in /usr/local/lib/python3.7/dist-packages (from traitlets>=4.2->IPython>=3.2.3->alphalens>=0.3.2->-r requirements.txt (line 1)) (0.2.0)\n",
            "Requirement already satisfied, skipping upgrade: wcwidth in /usr/local/lib/python3.7/dist-packages (from prompt-toolkit<2.0.0,>=1.0.4->IPython>=3.2.3->alphalens>=0.3.2->-r requirements.txt (line 1)) (0.2.5)\n",
            "Requirement already satisfied, skipping upgrade: ptyprocess>=0.5 in /usr/local/lib/python3.7/dist-packages (from pexpect; sys_platform != \"win32\"->IPython>=3.2.3->alphalens>=0.3.2->-r requirements.txt (line 1)) (0.7.0)\n",
            "Requirement already satisfied: retrying in /usr/local/lib/python3.7/dist-packages (1.3.3)\n",
            "Requirement already satisfied: six>=1.7.0 in /usr/local/lib/python3.7/dist-packages (from retrying) (1.15.0)\n"
          ],
          "name": "stdout"
        }
      ]
    },
    {
      "cell_type": "markdown",
      "metadata": {
        "id": "79wPiv445_NZ"
      },
      "source": [
        "### Load Packages"
      ]
    },
    {
      "cell_type": "code",
      "metadata": {
        "id": "Swz1Od-P5_Na"
      },
      "source": [
        "import nltk\n",
        "import numpy as np\n",
        "import pandas as pd\n",
        "import pickle\n",
        "#import pprintcvxpy \n",
        "import pprint\n",
        "import project_helper\n",
        "import project_tests\n",
        "import retrying\n",
        "\n",
        "from tqdm import tqdm"
      ],
      "execution_count": 23,
      "outputs": []
    },
    {
      "cell_type": "markdown",
      "metadata": {
        "id": "iabyxt5A5_Nb"
      },
      "source": [
        "### Download NLP Corpora\n",
        "You'll need two corpora to run this project: the stopwords corpus for removing stopwords and wordnet for lemmatizing."
      ]
    },
    {
      "cell_type": "code",
      "metadata": {
        "colab": {
          "base_uri": "https://localhost:8080/"
        },
        "id": "JekNHhch5_Nb",
        "outputId": "a6d89209-3b57-435c-b2b4-cc06cbb96b92"
      },
      "source": [
        "nltk.download('stopwords')\n",
        "nltk.download('wordnet')"
      ],
      "execution_count": 24,
      "outputs": [
        {
          "output_type": "stream",
          "text": [
            "[nltk_data] Downloading package stopwords to /root/nltk_data...\n",
            "[nltk_data]   Package stopwords is already up-to-date!\n",
            "[nltk_data] Downloading package wordnet to /root/nltk_data...\n",
            "[nltk_data]   Package wordnet is already up-to-date!\n"
          ],
          "name": "stderr"
        },
        {
          "output_type": "execute_result",
          "data": {
            "text/plain": [
              "True"
            ]
          },
          "metadata": {
            "tags": []
          },
          "execution_count": 24
        }
      ]
    },
    {
      "cell_type": "markdown",
      "metadata": {
        "id": "T0_rB2xU5_Nc"
      },
      "source": [
        "## Get 10ks\n",
        "We'll be running NLP analysis on 10-k documents. To do that, we first need to download the documents. For this project, we'll download 10-ks for a few companies. To lookup documents for these companies, we'll use their CIK. If you would like to run this against other stocks, we've provided the dict `additional_cik` for more stocks. However, the more stocks you try, the long it will take to run."
      ]
    },
    {
      "cell_type": "code",
      "metadata": {
        "id": "A7LBB-3d5_Nc"
      },
      "source": [
        "cik_lookup = { 'AMZN': '0001018724', 'STNG':'0001483934' }\n",
        "\n",
        "cik_lookup1 = {\n",
        "    'AMZN': '0001018724',\n",
        "    'BMY': '0000014272',   \n",
        "    'CNP': '0001130310',\n",
        "    'CVX': '0000093410',\n",
        "    'FL': '0000850209',\n",
        "    'STNG':'0001483934',\n",
        "    'HON': '0000773840'}\n",
        "\n",
        "additional_cik = {\n",
        "    'AEP': '0000004904',\n",
        "    'AXP': '0000004962',\n",
        "    'BA': '0000012927', \n",
        "    'BK': '0001390777',\n",
        "    'CAT': '0000018230',\n",
        "    'DE': '0000315189',\n",
        "    'DIS': '0001001039',\n",
        "    'DTE': '0000936340',\n",
        "    'ED': '0001047862',\n",
        "    'EMR': '0000032604',\n",
        "    'ETN': '0001551182',\n",
        "    'GE': '0000040545',\n",
        "    'IBM': '0000051143',\n",
        "    'IP': '0000051434',\n",
        "    'JNJ': '0000200406',\n",
        "    'KO': '0000021344',\n",
        "    'LLY': '0000059478',\n",
        "    'MCD': '0000063908',\n",
        "    'MO': '0000764180',\n",
        "    'MRK': '0000310158',\n",
        "    'MRO': '0000101778',\n",
        "    'PCG': '0001004980',\n",
        "    'PEP': '0000077476',\n",
        "    'PFE': '0000078003',\n",
        "    'PG': '0000080424',\n",
        "    'PNR': '0000077360',\n",
        "    'SYY': '0000096021',\n",
        "    'TXN': '0000097476',\n",
        "    'UTX': '0000101829',\n",
        "    'WFC': '0000072971',\n",
        "    'WMT': '0000104169',\n",
        "    'WY': '0000106535',\n",
        "    'XOM': '0000034088'}"
      ],
      "execution_count": 25,
      "outputs": []
    },
    {
      "cell_type": "markdown",
      "metadata": {
        "id": "zR8DsScg5_Nc"
      },
      "source": [
        "### Get list of 10-ks\n",
        "The SEC has a limit on the number of calls you can make to the website per second. In order to avoid hiding that limit, we've created the `SecAPI` class. This will cache data from the SEC and prevent you from going over the limit."
      ]
    },
    {
      "cell_type": "code",
      "metadata": {
        "id": "euz-R-C35_Nd"
      },
      "source": [
        "sec_api = project_helper.SecAPI()"
      ],
      "execution_count": 26,
      "outputs": []
    },
    {
      "cell_type": "markdown",
      "metadata": {
        "id": "3280g5zU5_Nd"
      },
      "source": [
        "With the class constructed, let's pull a list of filled 10-ks from the SEC for each company."
      ]
    },
    {
      "cell_type": "code",
      "metadata": {
        "id": "ZSNp634q5_Nd",
        "colab": {
          "base_uri": "https://localhost:8080/"
        },
        "outputId": "05cf3153-2e58-478a-846e-2a738eaa3e84"
      },
      "source": [
        "from bs4 import BeautifulSoup\n",
        "\n",
        "@retrying.retry\n",
        "def get_sec_data(cik, doc_type, start=0, count=60, sec_api=sec_api):\n",
        "    newest_pricing_data = pd.to_datetime('2021-04-26')\n",
        "    \n",
        "    rss_url = 'https://www.sec.gov/cgi-bin/browse-edgar?action=getcompany' \\\n",
        "        f'&CIK={cik}&type={doc_type}&start={start}&count={count}' \\\n",
        "        '&owner=exclude&output=atom'\n",
        "     \n",
        "    print(rss_url)\n",
        "    sec_data = sec_api.get(rss_url)\n",
        "\n",
        "    # if request doesn't work, wait and try again shortly, \n",
        "    # via retyring.retry decorator\n",
        "    \n",
        "    try:\n",
        "      # print('using encoding with ascii')\n",
        "      feed = BeautifulSoup(sec_data.encode('utf-8'), 'xml').feed\n",
        "      if type(feed)!=None:\n",
        "        entries = [\n",
        "            (\n",
        "                entry.content.find('filing-href').getText(),\n",
        "                entry.content.find('filing-type').getText(),\n",
        "                entry.content.find('filing-date').getText())\n",
        "            for entry in feed.find_all('entry', recursive=False)\n",
        "            \n",
        "            if pd.to_datetime(entry.content.find('filing-date').getText()) <= newest_pricing_data]\n",
        "    except UnicodeError:\n",
        "      print('using encoding with utf-8')\n",
        "      feed = BeautifulSoup(sec_data.encode('utf-8'), 'xml').feed\n",
        "      if type(feed)!=None:\n",
        "        entries = [\n",
        "            (\n",
        "                entry.content.find('filing-href').getText(),\n",
        "                entry.content.find('filing-type').getText(),\n",
        "                entry.content.find('filing-date').getText())\n",
        "            for entry in feed.find_all('entry', recursive=False)\n",
        "            \n",
        "            if pd.to_datetime(entry.content.find('filing-date').getText()) <= newest_pricing_data]\n",
        "    return entries\n",
        "\n",
        "def test_get_sec_data(cik='0001483934', doc_type='10-k', start=0, count=60):\n",
        "  sec_api = project_helper.SecAPI()\n",
        "  get_sec_data(cik=list(cik_lookup1.keys())[0], doc_type='10-k')\n",
        "  get_sec_data(cik=list(cik_lookup1.keys())[0], doc_type='20-f')\n",
        "  get_sec_data(cik=list(cik_lookup1.keys())[1], doc_type='10-k')\n",
        "  get_sec_data(cik=list(cik_lookup1.keys())[1], doc_type='20-f')\n",
        "  return\n",
        "\n",
        "test_get_sec_data()\n",
        "\n"
      ],
      "execution_count": 27,
      "outputs": [
        {
          "output_type": "stream",
          "text": [
            "https://www.sec.gov/cgi-bin/browse-edgar?action=getcompany&CIK=AMZN&type=10-k&start=0&count=60&owner=exclude&output=atom\n",
            "https://www.sec.gov/cgi-bin/browse-edgar?action=getcompany&CIK=AMZN&type=20-f&start=0&count=60&owner=exclude&output=atom\n",
            "https://www.sec.gov/cgi-bin/browse-edgar?action=getcompany&CIK=BMY&type=10-k&start=0&count=60&owner=exclude&output=atom\n",
            "https://www.sec.gov/cgi-bin/browse-edgar?action=getcompany&CIK=BMY&type=20-f&start=0&count=60&owner=exclude&output=atom\n"
          ],
          "name": "stdout"
        }
      ]
    },
    {
      "cell_type": "markdown",
      "metadata": {
        "id": "OBFeAOot5_Nd"
      },
      "source": [
        "Let's pull the list using the `get_sec_data` function, then display some of the results. For displaying some of the data, we'll use Amazon as an example. "
      ]
    },
    {
      "cell_type": "code",
      "metadata": {
        "colab": {
          "base_uri": "https://localhost:8080/"
        },
        "id": "eSdWAP6Z5_Nd",
        "outputId": "17c8dfd1-9b83-4197-b6ec-c551b8f2f93f"
      },
      "source": [
        "example_ticker = 'STNG'\n",
        "sec_data = {}\n",
        "\n",
        "for ticker, cik in cik_lookup1.items():\n",
        "    if ticker != \"STNG\":\n",
        "        print(ticker)\n",
        "        sec_data[ticker] = get_sec_data(cik, '10-K')\n",
        "        \n",
        "    else :\n",
        "        print(ticker)\n",
        "        sec_data[ticker] = get_sec_data(cik, '20-F')\n",
        "    \n",
        "\n",
        "pprint.pprint(sec_data[example_ticker][:1])"
      ],
      "execution_count": 28,
      "outputs": [
        {
          "output_type": "stream",
          "text": [
            "AMZN\n",
            "https://www.sec.gov/cgi-bin/browse-edgar?action=getcompany&CIK=0001018724&type=10-K&start=0&count=60&owner=exclude&output=atom\n",
            "https://www.sec.gov/cgi-bin/browse-edgar?action=getcompany&CIK=0001018724&type=10-K&start=0&count=60&owner=exclude&output=atom\n",
            "BMY\n",
            "https://www.sec.gov/cgi-bin/browse-edgar?action=getcompany&CIK=0000014272&type=10-K&start=0&count=60&owner=exclude&output=atom\n",
            "CNP\n",
            "https://www.sec.gov/cgi-bin/browse-edgar?action=getcompany&CIK=0001130310&type=10-K&start=0&count=60&owner=exclude&output=atom\n",
            "CVX\n",
            "https://www.sec.gov/cgi-bin/browse-edgar?action=getcompany&CIK=0000093410&type=10-K&start=0&count=60&owner=exclude&output=atom\n",
            "FL\n",
            "https://www.sec.gov/cgi-bin/browse-edgar?action=getcompany&CIK=0000850209&type=10-K&start=0&count=60&owner=exclude&output=atom\n",
            "STNG\n",
            "https://www.sec.gov/cgi-bin/browse-edgar?action=getcompany&CIK=0001483934&type=20-F&start=0&count=60&owner=exclude&output=atom\n",
            "HON\n",
            "https://www.sec.gov/cgi-bin/browse-edgar?action=getcompany&CIK=0000773840&type=10-K&start=0&count=60&owner=exclude&output=atom\n",
            "[('https://www.sec.gov/Archives/edgar/data/1483934/000148393421000023/0001483934-21-000023-index.htm',\n",
            "  '20-F',\n",
            "  '2021-03-31')]\n"
          ],
          "name": "stdout"
        }
      ]
    },
    {
      "cell_type": "markdown",
      "metadata": {
        "id": "NLOXhHNS5_Ne"
      },
      "source": [
        "### Download 10-ks\n",
        "As you see, this is a list of urls. These urls point to a file that contains metadata related to each filling. Since we don't care about the metadata, we'll pull the filling by replacing the url with the filling url."
      ]
    },
    {
      "cell_type": "code",
      "metadata": {
        "id": "E_0mqfut5_Ne",
        "colab": {
          "base_uri": "https://localhost:8080/"
        },
        "outputId": "b2ae1332-8da5-4199-da5f-73867c0d9e32"
      },
      "source": [
        "raw_fillings_by_ticker = {}\n",
        "\n",
        "for ticker, data in sec_data.items():\n",
        "    raw_fillings_by_ticker[ticker] = {}\n",
        "    for index_url, file_type, file_date in tqdm(data, desc='Downloading {} Fillings'.format(ticker), unit='filling'):\n",
        "\n",
        "            if ((file_type == '10-K') or (file_type == '20-F')):\n",
        "                file_url = index_url.replace('-index.htm', '.txt').replace('.txtl', '.txt')            \n",
        "            \n",
        "                raw_fillings_by_ticker[ticker][file_date] = sec_api.get(file_url)\n",
        "\n",
        "\n",
        "print('Example Document:\\n\\n{}...'.format(next(iter(raw_fillings_by_ticker[example_ticker].values()))[:1000]))"
      ],
      "execution_count": 29,
      "outputs": [
        {
          "output_type": "stream",
          "text": [
            "Downloading AMZN Fillings: 100%|██████████| 26/26 [00:03<00:00,  7.36filling/s]\n",
            "Downloading BMY Fillings: 100%|██████████| 31/31 [00:06<00:00,  4.88filling/s]\n",
            "Downloading CNP Fillings: 100%|██████████| 23/23 [00:05<00:00,  4.13filling/s]\n",
            "Downloading CVX Fillings: 100%|██████████| 29/29 [00:17<00:00,  1.65filling/s]\n",
            "Downloading FL Fillings: 100%|██████████| 26/26 [00:04<00:00,  6.31filling/s]\n",
            "Downloading STNG Fillings: 100%|██████████| 13/13 [00:02<00:00,  4.89filling/s]\n",
            "Downloading HON Fillings: 100%|██████████| 29/29 [00:05<00:00,  5.35filling/s]"
          ],
          "name": "stderr"
        },
        {
          "output_type": "stream",
          "text": [
            "Example Document:\n",
            "\n",
            "<SEC-DOCUMENT>0001483934-21-000023.txt : 20210331\n",
            "<SEC-HEADER>0001483934-21-000023.hdr.sgml : 20210331\n",
            "<ACCEPTANCE-DATETIME>20210331172447\n",
            "ACCESSION NUMBER:\t\t0001483934-21-000023\n",
            "CONFORMED SUBMISSION TYPE:\t20-F\n",
            "PUBLIC DOCUMENT COUNT:\t\t167\n",
            "CONFORMED PERIOD OF REPORT:\t20201231\n",
            "FILED AS OF DATE:\t\t20210331\n",
            "DATE AS OF CHANGE:\t\t20210331\n",
            "\n",
            "FILER:\n",
            "\n",
            "\tCOMPANY DATA:\t\n",
            "\t\tCOMPANY CONFORMED NAME:\t\t\tScorpio Tankers Inc.\n",
            "\t\tCENTRAL INDEX KEY:\t\t\t0001483934\n",
            "\t\tSTANDARD INDUSTRIAL CLASSIFICATION:\tDEEP SEA FOREIGN TRANSPORTATION OF FREIGHT [4412]\n",
            "\t\tIRS NUMBER:\t\t\t\t000000000\n",
            "\n",
            "\tFILING VALUES:\n",
            "\t\tFORM TYPE:\t\t20-F\n",
            "\t\tSEC ACT:\t\t1934 Act\n",
            "\t\tSEC FILE NUMBER:\t001-34677\n",
            "\t\tFILM NUMBER:\t\t21794744\n",
            "\n",
            "\tBUSINESS ADDRESS:\t\n",
            "\t\tSTREET 1:\t\t9, BOULEVARD CHARLES III\n",
            "\t\tCITY:\t\t\tMONACO\n",
            "\t\tSTATE:\t\t\tO9\n",
            "\t\tZIP:\t\t\t98000\n",
            "\t\tBUSINESS PHONE:\t\t212-542-1616\n",
            "\n",
            "\tMAIL ADDRESS:\t\n",
            "\t\tSTREET 1:\t\t9, BOULEVARD CHARLES III\n",
            "\t\tCITY:\t\t\tMONACO\n",
            "\t\tSTATE:\t\t\tO9\n",
            "\t\tZIP:\t\t\t98000\n",
            "</SEC-HEADER>\n",
            "<DOCUMENT>\n",
            "<TYPE>20-F\n",
            "<SEQUENCE>1\n",
            "<FILENAME>stng-20201231.htm\n",
            "<DESCRIPTION>20-F\n",
            "<...\n"
          ],
          "name": "stdout"
        },
        {
          "output_type": "stream",
          "text": [
            "\n"
          ],
          "name": "stderr"
        }
      ]
    },
    {
      "cell_type": "markdown",
      "metadata": {
        "id": "6ynavVpL5_Ne"
      },
      "source": [
        "### Get Documents\n",
        "With theses fillings downloaded, we want to break them into their associated documents. These documents are sectioned off in the fillings with the tags `<DOCUMENT>` for the start of each document and `</DOCUMENT>` for the end of each document. There's no overlap with these documents, so each `</DOCUMENT>` tag should come after the `<DOCUMENT>` with no `<DOCUMENT>` tag in between.\n",
        "\n",
        "Implement `get_documents` to return a list of these documents from a filling. Make sure not to include the tag in the returned document text."
      ]
    },
    {
      "cell_type": "code",
      "metadata": {
        "id": "GEW2DQiA5_Ne",
        "colab": {
          "base_uri": "https://localhost:8080/"
        },
        "outputId": "2b454673-dc54-4fd8-f697-cd73cff1dc1a"
      },
      "source": [
        "import re\n",
        "\n",
        "\n",
        "def get_documents(text):\n",
        "    \"\"\"\n",
        "    Extract the documents from the text\n",
        "\n",
        "    Parameters\n",
        "    ----------\n",
        "    text : str\n",
        "        The text with the document strings inside\n",
        "\n",
        "    Returns\n",
        "    -------\n",
        "    extracted_docs : list of str\n",
        "        The document strings found in `text`\n",
        "    \"\"\"\n",
        "    \n",
        "    # Write regexes\n",
        "    doc_start_pattern = re.compile(r'<DOCUMENT>')\n",
        "    doc_end_pattern = re.compile(r'</DOCUMENT>')\n",
        "    \n",
        "    # Create 3 lists with the span indices for each regex\n",
        "    doc_start_is = [ w.end() for w in doc_start_pattern.finditer(text) ]\n",
        "    doc_end_is = [ w.start() for w in doc_end_pattern.finditer(text) ]\n",
        "\n",
        "    # Create a loop to go through each section of the text section in the list\n",
        "    extracted_docs = []\n",
        "    \n",
        "    for ind, section in enumerate(doc_end_is):             \n",
        "        extracted_docs.append(text[doc_start_is[ind]:doc_end_is[ind]])\n",
        " \n",
        "    return extracted_docs\n",
        "\n",
        "\n",
        "project_tests.test_get_documents(get_documents)"
      ],
      "execution_count": 30,
      "outputs": [
        {
          "output_type": "stream",
          "text": [
            "Tests Passed\n"
          ],
          "name": "stdout"
        }
      ]
    },
    {
      "cell_type": "markdown",
      "metadata": {
        "id": "Pm66-9P95_Nf"
      },
      "source": [
        "With the `get_documents` function implemented, let's extract all the documents."
      ]
    },
    {
      "cell_type": "code",
      "metadata": {
        "scrolled": false,
        "id": "wUk85djG5_Nf",
        "colab": {
          "base_uri": "https://localhost:8080/"
        },
        "outputId": "25f11489-14bc-402f-ca9d-e3a4ef4628cf"
      },
      "source": [
        "filling_documents_by_ticker = {}\n",
        "\n",
        "for ticker, raw_fillings in raw_fillings_by_ticker.items():\n",
        "    filling_documents_by_ticker[ticker] = {}\n",
        "    for file_date, filling in tqdm(raw_fillings.items(), desc='Getting Documents from {} Fillings'.format(ticker), unit='filling'):\n",
        "        filling_documents_by_ticker[ticker][file_date] = get_documents(filling)\n",
        "\n",
        "\n",
        "print('\\n\\n'.join([\n",
        "    f'Document {doc_i} Filed on {file_date}:\\n{doc[:200]}...'\n",
        "    for file_date, docs in filling_documents_by_ticker[example_ticker].items()\n",
        "    for doc_i, doc in enumerate(docs)][:3]))"
      ],
      "execution_count": 31,
      "outputs": [
        {
          "output_type": "stream",
          "text": [
            "Getting Documents from AMZN Fillings: 100%|██████████| 21/21 [00:00<00:00, 92.01filling/s]\n",
            "Getting Documents from BMY Fillings: 100%|██████████| 27/27 [00:00<00:00, 36.44filling/s]\n",
            "Getting Documents from CNP Fillings: 100%|██████████| 19/19 [00:00<00:00, 39.24filling/s]\n",
            "Getting Documents from CVX Fillings: 100%|██████████| 25/25 [00:00<00:00, 25.56filling/s]\n",
            "Getting Documents from FL Fillings: 100%|██████████| 20/20 [00:00<00:00, 29.47filling/s]\n",
            "Getting Documents from STNG Fillings: 100%|██████████| 12/12 [00:00<00:00, 19.46filling/s]\n",
            "Getting Documents from HON Fillings: 100%|██████████| 24/24 [00:01<00:00, 21.67filling/s]"
          ],
          "name": "stderr"
        },
        {
          "output_type": "stream",
          "text": [
            "Document 0 Filed on 2021-03-31:\n",
            "\n",
            "<TYPE>20-F\n",
            "<SEQUENCE>1\n",
            "<FILENAME>stng-20201231.htm\n",
            "<DESCRIPTION>20-F\n",
            "<TEXT>\n",
            "<XBRL>\n",
            "<?xml version=\"1.0\" ?><!--XBRL Document Created with Wdesk from Workiva--><!--Copyright 2021 Workiva--><!--r:7d49182...\n",
            "\n",
            "Document 1 Filed on 2021-03-31:\n",
            "\n",
            "<TYPE>EX-2.5\n",
            "<SEQUENCE>2\n",
            "<FILENAME>fy2020-exhibit25.htm\n",
            "<DESCRIPTION>DESCRIPTION OF SECURITIES REGISTERED\n",
            "<TEXT>\n",
            "<!DOCTYPE html PUBLIC \"-//W3C//DTD HTML 4.01 Transitional//EN\" \"http://www.w3.org/TR/h...\n",
            "\n",
            "Document 2 Filed on 2021-03-31:\n",
            "\n",
            "<TYPE>EX-2.7\n",
            "<SEQUENCE>3\n",
            "<FILENAME>fy2020-exhibit27.htm\n",
            "<DESCRIPTION>INDENTURE, DATED MARCH 25, 2021, 3.00% CONVERTIBLE NOTES DUE 2025\n",
            "<TEXT>\n",
            "<!DOCTYPE html PUBLIC \"-//W3C//DTD HTML 4.01 Transitional...\n"
          ],
          "name": "stdout"
        },
        {
          "output_type": "stream",
          "text": [
            "\n"
          ],
          "name": "stderr"
        }
      ]
    },
    {
      "cell_type": "markdown",
      "metadata": {
        "id": "TMRi4FJx5_Nf"
      },
      "source": [
        "### Get Document Types\n",
        "Now that we have all the documents, we want to find the 10-k form in this 10-k filing. Implement the `get_document_type` function to return the type of document given. The document type is located on a line with the `<TYPE>` tag. For example, a form of type \"TEST\" would have the line `<TYPE>TEST`. Make sure to return the type as lowercase, so this example would be returned as \"test\"."
      ]
    },
    {
      "cell_type": "code",
      "metadata": {
        "id": "l_4XEWZ55_Nf",
        "colab": {
          "base_uri": "https://localhost:8080/"
        },
        "outputId": "9bf024a0-446c-4040-fa1b-9b4a68209234"
      },
      "source": [
        "def get_document_type(doc):\n",
        "    \"\"\"\n",
        "    Return the document type lowercased\n",
        "\n",
        "    Parameters\n",
        "    ----------\n",
        "    doc : str\n",
        "        The document string\n",
        "\n",
        "    Returns\n",
        "    -------\n",
        "    doc_type : str\n",
        "        The document type lowercased\n",
        "    \"\"\"\n",
        "    # Write regexes\n",
        "    type_pattern = re.compile(r'<TYPE>[^\\n]+')\n",
        "    \n",
        "    # Create list with the span idices for each regex\n",
        "    doc_types = [ w for w in type_pattern.finditer(doc) ]  \n",
        "     \n",
        "    extracted_docs = doc[doc_types[0].start()+6:doc_types[0].end()].lower()\n",
        " \n",
        "    return extracted_docs \n",
        "\n",
        "\n",
        "project_tests.test_get_document_type(get_document_type)"
      ],
      "execution_count": 32,
      "outputs": [
        {
          "output_type": "stream",
          "text": [
            "Tests Passed\n"
          ],
          "name": "stdout"
        }
      ]
    },
    {
      "cell_type": "markdown",
      "metadata": {
        "id": "Sp_0b-2H5_Nf"
      },
      "source": [
        "With the `get_document_type` function, we'll filter out all non 10-k documents."
      ]
    },
    {
      "cell_type": "code",
      "metadata": {
        "id": "DT05yl1k5_Nf",
        "colab": {
          "base_uri": "https://localhost:8080/"
        },
        "outputId": "c2252f09-c31d-4926-d24a-06e592258611"
      },
      "source": [
        "ten_ks_by_ticker = {}\n",
        "\n",
        "for ticker, filling_documents in filling_documents_by_ticker.items():\n",
        "    ten_ks_by_ticker[ticker] = []\n",
        "    print(ticker, end='')\n",
        "    counter = 0\n",
        "    for file_date, documents in filling_documents.items():\n",
        "         \n",
        "        for document in documents:\n",
        "            # print(document[:200])\n",
        "            if ((get_document_type(document) == '10-k') or (get_document_type(document) == '20-f') ):\n",
        "                 \n",
        "                ten_ks_by_ticker[ticker].append({\n",
        "                    'cik': cik_lookup1[ticker],\n",
        "                    'file': document,\n",
        "                    'file_date': file_date})\n",
        "                counter += 1\n",
        "    print(f\":\\t{counter} 10-k's\")\n",
        "\n",
        "# project_helper.print_ten_k_data(ten_ks_by_ticker[example_ticker][:5], ['cik', 'file', 'file_date'])"
      ],
      "execution_count": 41,
      "outputs": [
        {
          "output_type": "stream",
          "text": [
            "AMZN:\t18 10-k's\n",
            "BMY:\t22 10-k's\n",
            "CNP:\t13 10-k's\n",
            "CVX:\t22 10-k's\n",
            "FL:\t15 10-k's\n",
            "STNG:\t8 10-k's\n",
            "HON:\t19 10-k's\n"
          ],
          "name": "stdout"
        }
      ]
    },
    {
      "cell_type": "markdown",
      "metadata": {
        "id": "XZIEZnAd5_Ng"
      },
      "source": [
        "## Preprocess the Data\n",
        "### Clean Up\n",
        "As you can see, the text for the documents are very messy. To clean this up, we'll remove the html and lowercase all the text."
      ]
    },
    {
      "cell_type": "code",
      "metadata": {
        "id": "i-3jhnVZ5_Ng"
      },
      "source": [
        "def remove_html_tags(text):\n",
        "    text = BeautifulSoup(text, 'html.parser').get_text()\n",
        "    \n",
        "    return text\n",
        "\n",
        "\n",
        "def clean_text(text):\n",
        "    text = text.lower()\n",
        "    text = remove_html_tags(text)\n",
        "    \n",
        "    return text"
      ],
      "execution_count": 42,
      "outputs": []
    },
    {
      "cell_type": "markdown",
      "metadata": {
        "id": "oUtTFTMQ5_Ng"
      },
      "source": [
        "Using the `clean_text` function, we'll clean up all the documents."
      ]
    },
    {
      "cell_type": "code",
      "metadata": {
        "id": "eUii9C9N5_Ng",
        "colab": {
          "base_uri": "https://localhost:8080/"
        },
        "outputId": "d9a635e9-b092-46d7-c506-4d43caccbeaa"
      },
      "source": [
        "for ticker, ten_ks in ten_ks_by_ticker.items():\n",
        "    for ten_k in tqdm(ten_ks, desc=f'Cleaning {ticker} 10-Ks', unit='10-K'):\n",
        "        ten_k['file_clean'] = clean_text(ten_k['file'])\n",
        "\n",
        "\n",
        "project_helper.print_ten_k_data(ten_ks_by_ticker[example_ticker][:5], ['file_clean'])"
      ],
      "execution_count": 43,
      "outputs": [
        {
          "output_type": "stream",
          "text": [
            "Cleaning AMZN 10-Ks: 100%|██████████| 18/18 [00:29<00:00,  1.61s/10-K]\n",
            "Cleaning BMY 10-Ks: 100%|██████████| 22/22 [01:08<00:00,  3.10s/10-K]\n",
            "Cleaning CNP 10-Ks: 100%|██████████| 13/13 [01:03<00:00,  4.88s/10-K]\n",
            "Cleaning CVX 10-Ks: 100%|██████████| 22/22 [01:49<00:00,  4.96s/10-K]\n",
            "Cleaning FL 10-Ks: 100%|██████████| 15/15 [00:23<00:00,  1.56s/10-K]\n",
            "Cleaning STNG 10-Ks: 100%|██████████| 8/8 [00:51<00:00,  6.46s/10-K]\n",
            "Cleaning HON 10-Ks: 100%|██████████| 19/19 [00:51<00:00,  2.71s/10-K]"
          ],
          "name": "stderr"
        },
        {
          "output_type": "stream",
          "text": [
            "[\n",
            "  {\n",
            "    file_clean: '\\n20-f\\n1\\nstng-20201231.htm\\n20-f\\n\\n\\n\\nstng-20...},\n",
            "  {\n",
            "    file_clean: '\\n20-f\\n1\\nstng2019-12x3120f.htm\\nscorpio tankers...},\n",
            "  {\n",
            "    file_clean: '\\n20-f\\n1\\nstng2017-20f.htm\\nscorpio tankers inc....},\n",
            "  {\n",
            "    file_clean: '\\n20-f\\n1\\nstng2016-12x3120f.htm\\n2016 form 20-f\\...},\n",
            "  {\n",
            "    file_clean: '\\n20-f\\n1\\nstng2015-20f.htm\\nform 20-f\\n\\n\\n\\n\\n\\...},\n",
            "]\n"
          ],
          "name": "stdout"
        },
        {
          "output_type": "stream",
          "text": [
            "\n"
          ],
          "name": "stderr"
        }
      ]
    },
    {
      "cell_type": "markdown",
      "metadata": {
        "id": "9PcBZ8-p5_Ng"
      },
      "source": [
        "### Lemmatize\n",
        "With the text cleaned up, it's time to distill the verbs down. Implement the `lemmatize_words` function to lemmatize verbs in the list of words provided."
      ]
    },
    {
      "cell_type": "code",
      "metadata": {
        "id": "e9EzuFMJ5_Ng",
        "colab": {
          "base_uri": "https://localhost:8080/"
        },
        "outputId": "b225f08f-9ae2-4746-813e-750eec000dca"
      },
      "source": [
        "from nltk.stem import WordNetLemmatizer\n",
        "from nltk.corpus import wordnet\n",
        "\n",
        "\n",
        "def lemmatize_words(words):\n",
        "    \"\"\"\n",
        "    Lemmatize words \n",
        "\n",
        "    Parameters\n",
        "    ----------\n",
        "    words : list of str\n",
        "        List of words\n",
        "\n",
        "    Returns\n",
        "    -------\n",
        "    lemmatized_words : list of str\n",
        "        List of lemmatized words\n",
        "    \"\"\"\n",
        "    wnl = WordNetLemmatizer()\n",
        "    lemmatized_word = []\n",
        "    for word in words:\n",
        "        lemmatized_word.append(wnl.lemmatize(word, pos='v'))\n",
        "     \n",
        "    return lemmatized_word\n",
        "\n",
        "\n",
        "project_tests.test_lemmatize_words(lemmatize_words)"
      ],
      "execution_count": 44,
      "outputs": [
        {
          "output_type": "stream",
          "text": [
            "Tests Passed\n"
          ],
          "name": "stdout"
        }
      ]
    },
    {
      "cell_type": "markdown",
      "metadata": {
        "id": "wbwLG2Fu5_Nh"
      },
      "source": [
        "With the `lemmatize_words` function implemented, let's lemmatize all the data."
      ]
    },
    {
      "cell_type": "code",
      "metadata": {
        "id": "Ph9lthL25_Nh",
        "colab": {
          "base_uri": "https://localhost:8080/"
        },
        "outputId": "fc66ce5d-977a-4890-c718-8349ca5f55cf"
      },
      "source": [
        "word_pattern = re.compile('\\w+')\n",
        "\n",
        "for ticker, ten_ks in ten_ks_by_ticker.items():\n",
        "    for ten_k in tqdm(ten_ks, desc='Lemmatize {ticker} 10-Ks', unit='10-K'):\n",
        "        ten_k['file_lemma'] = lemmatize_words(word_pattern.findall(ten_k['file_clean']))\n",
        "\n",
        "\n",
        "project_helper.print_ten_k_data(ten_ks_by_ticker[example_ticker][:5], ['file_lemma'])"
      ],
      "execution_count": 45,
      "outputs": [
        {
          "output_type": "stream",
          "text": [
            "Lemmatize {ticker} 10-Ks: 100%|██████████| 18/18 [00:04<00:00,  4.0010-K/s]\n",
            "Lemmatize {ticker} 10-Ks: 100%|██████████| 22/22 [00:08<00:00,  2.5110-K/s]\n",
            "Lemmatize {ticker} 10-Ks: 100%|██████████| 13/13 [00:06<00:00,  2.1510-K/s]\n",
            "Lemmatize {ticker} 10-Ks: 100%|██████████| 22/22 [00:08<00:00,  2.6610-K/s]\n",
            "Lemmatize {ticker} 10-Ks: 100%|██████████| 15/15 [00:03<00:00,  4.4410-K/s]\n",
            "Lemmatize {ticker} 10-Ks: 100%|██████████| 8/8 [00:05<00:00,  1.4110-K/s]\n",
            "Lemmatize {ticker} 10-Ks: 100%|██████████| 19/19 [00:04<00:00,  4.0210-K/s]"
          ],
          "name": "stderr"
        },
        {
          "output_type": "stream",
          "text": [
            "[\n",
            "  {\n",
            "    file_lemma: '['20', 'f', '1', 'stng', '20201231', 'htm', '20',...},\n",
            "  {\n",
            "    file_lemma: '['20', 'f', '1', 'stng2019', '12x3120f', 'htm', '...},\n",
            "  {\n",
            "    file_lemma: '['20', 'f', '1', 'stng2017', '20f', 'htm', 'scorp...},\n",
            "  {\n",
            "    file_lemma: '['20', 'f', '1', 'stng2016', '12x3120f', 'htm', '...},\n",
            "  {\n",
            "    file_lemma: '['20', 'f', '1', 'stng2015', '20f', 'htm', 'form'...},\n",
            "]\n"
          ],
          "name": "stdout"
        },
        {
          "output_type": "stream",
          "text": [
            "\n"
          ],
          "name": "stderr"
        }
      ]
    },
    {
      "cell_type": "markdown",
      "metadata": {
        "id": "l2pA6Pm75_Nh"
      },
      "source": [
        "### Remove Stopwords"
      ]
    },
    {
      "cell_type": "code",
      "metadata": {
        "id": "jDDjria35_Nh",
        "colab": {
          "base_uri": "https://localhost:8080/"
        },
        "outputId": "5b5be71f-1994-4502-e78d-49f095d48288"
      },
      "source": [
        "from nltk.corpus import stopwords\n",
        "\n",
        "\n",
        "lemma_english_stopwords = lemmatize_words(stopwords.words('english'))\n",
        "\n",
        "for ticker, ten_ks in ten_ks_by_ticker.items():\n",
        "    for ten_k in tqdm(ten_ks, desc='Remove Stop Words for {ticker} 10-Ks', unit='10-K'):\n",
        "        ten_k['file_lemma'] = [word for word in ten_k['file_lemma'] if word not in lemma_english_stopwords]\n",
        "\n",
        "\n",
        "print('\\nStop Words Removed')"
      ],
      "execution_count": 46,
      "outputs": [
        {
          "output_type": "stream",
          "text": [
            "Remove Stop Words for {ticker} 10-Ks: 100%|██████████| 18/18 [00:02<00:00,  8.9010-K/s]\n",
            "Remove Stop Words for {ticker} 10-Ks: 100%|██████████| 22/22 [00:04<00:00,  5.1710-K/s]\n",
            "Remove Stop Words for {ticker} 10-Ks: 100%|██████████| 13/13 [00:03<00:00,  4.0110-K/s]\n",
            "Remove Stop Words for {ticker} 10-Ks: 100%|██████████| 22/22 [00:04<00:00,  5.4810-K/s]\n",
            "Remove Stop Words for {ticker} 10-Ks: 100%|██████████| 15/15 [00:01<00:00, 10.0310-K/s]\n",
            "Remove Stop Words for {ticker} 10-Ks: 100%|██████████| 8/8 [00:02<00:00,  3.4410-K/s]\n",
            "Remove Stop Words for {ticker} 10-Ks: 100%|██████████| 19/19 [00:01<00:00,  9.6710-K/s]"
          ],
          "name": "stderr"
        },
        {
          "output_type": "stream",
          "text": [
            "\n",
            "Stop Words Removed\n"
          ],
          "name": "stdout"
        },
        {
          "output_type": "stream",
          "text": [
            "\n"
          ],
          "name": "stderr"
        }
      ]
    },
    {
      "cell_type": "markdown",
      "metadata": {
        "id": "WsamuaHX5_Ni"
      },
      "source": [
        "## Analysis on 10ks\n",
        "### Loughran McDonald Sentiment Word Lists\n",
        "We'll be using the Loughran and McDonald sentiment word lists. These word lists cover the following sentiment:\n",
        "- Negative \n",
        "- Positive\n",
        "- Uncertainty\n",
        "- Litigious\n",
        "- Constraining\n",
        "- Superfluous\n",
        "- Modal\n",
        "\n",
        "This will allow us to do the sentiment analysis on the 10-ks. Let's first load these word lists. We'll be looking into a few of these sentiments."
      ]
    },
    {
      "cell_type": "code",
      "metadata": {
        "id": "v3OFOKZf5_Ni",
        "colab": {
          "base_uri": "https://localhost:8080/",
          "height": 419
        },
        "outputId": "01cc748f-5c23-4805-e45a-5d049736b12e"
      },
      "source": [
        "import os\n",
        "\n",
        "\n",
        "sentiments = ['negative', 'positive', 'uncertainty', 'litigious', 'constraining', 'interesting']\n",
        "\n",
        "sentiment_df = pd.read_csv(os.path.join( 'LoughranMcDonald_MasterDictionary_2018.csv'))\n",
        "sentiment_df.columns = [column.lower() for column in sentiment_df.columns] # Lowercase the columns for ease of use\n",
        "\n",
        "# Remove unused information\n",
        "sentiment_df = sentiment_df[sentiments + ['word']]\n",
        "sentiment_df[sentiments] = sentiment_df[sentiments].astype(bool)\n",
        "sentiment_df = sentiment_df[(sentiment_df[sentiments]).any(1)]\n",
        "\n",
        "# # Apply the same preprocessing to these words as the 10-k words\n",
        "sentiment_df['word'] = lemmatize_words(sentiment_df['word'].str.lower())\n",
        "sentiment_df = sentiment_df.drop_duplicates('word')\n",
        "\n",
        "sentiment_df"
      ],
      "execution_count": 47,
      "outputs": [
        {
          "output_type": "execute_result",
          "data": {
            "text/html": [
              "<div>\n",
              "<style scoped>\n",
              "    .dataframe tbody tr th:only-of-type {\n",
              "        vertical-align: middle;\n",
              "    }\n",
              "\n",
              "    .dataframe tbody tr th {\n",
              "        vertical-align: top;\n",
              "    }\n",
              "\n",
              "    .dataframe thead th {\n",
              "        text-align: right;\n",
              "    }\n",
              "</style>\n",
              "<table border=\"1\" class=\"dataframe\">\n",
              "  <thead>\n",
              "    <tr style=\"text-align: right;\">\n",
              "      <th></th>\n",
              "      <th>negative</th>\n",
              "      <th>positive</th>\n",
              "      <th>uncertainty</th>\n",
              "      <th>litigious</th>\n",
              "      <th>constraining</th>\n",
              "      <th>interesting</th>\n",
              "      <th>word</th>\n",
              "    </tr>\n",
              "  </thead>\n",
              "  <tbody>\n",
              "    <tr>\n",
              "      <th>9</th>\n",
              "      <td>True</td>\n",
              "      <td>False</td>\n",
              "      <td>False</td>\n",
              "      <td>False</td>\n",
              "      <td>False</td>\n",
              "      <td>False</td>\n",
              "      <td>abandon</td>\n",
              "    </tr>\n",
              "    <tr>\n",
              "      <th>12</th>\n",
              "      <td>True</td>\n",
              "      <td>False</td>\n",
              "      <td>False</td>\n",
              "      <td>False</td>\n",
              "      <td>False</td>\n",
              "      <td>False</td>\n",
              "      <td>abandonment</td>\n",
              "    </tr>\n",
              "    <tr>\n",
              "      <th>13</th>\n",
              "      <td>True</td>\n",
              "      <td>False</td>\n",
              "      <td>False</td>\n",
              "      <td>False</td>\n",
              "      <td>False</td>\n",
              "      <td>False</td>\n",
              "      <td>abandonments</td>\n",
              "    </tr>\n",
              "    <tr>\n",
              "      <th>51</th>\n",
              "      <td>True</td>\n",
              "      <td>False</td>\n",
              "      <td>False</td>\n",
              "      <td>False</td>\n",
              "      <td>False</td>\n",
              "      <td>False</td>\n",
              "      <td>abdicate</td>\n",
              "    </tr>\n",
              "    <tr>\n",
              "      <th>54</th>\n",
              "      <td>True</td>\n",
              "      <td>False</td>\n",
              "      <td>False</td>\n",
              "      <td>False</td>\n",
              "      <td>False</td>\n",
              "      <td>False</td>\n",
              "      <td>abdication</td>\n",
              "    </tr>\n",
              "    <tr>\n",
              "      <th>...</th>\n",
              "      <td>...</td>\n",
              "      <td>...</td>\n",
              "      <td>...</td>\n",
              "      <td>...</td>\n",
              "      <td>...</td>\n",
              "      <td>...</td>\n",
              "      <td>...</td>\n",
              "    </tr>\n",
              "    <tr>\n",
              "      <th>86035</th>\n",
              "      <td>True</td>\n",
              "      <td>False</td>\n",
              "      <td>False</td>\n",
              "      <td>False</td>\n",
              "      <td>False</td>\n",
              "      <td>False</td>\n",
              "      <td>wrongdoing</td>\n",
              "    </tr>\n",
              "    <tr>\n",
              "      <th>86036</th>\n",
              "      <td>True</td>\n",
              "      <td>False</td>\n",
              "      <td>False</td>\n",
              "      <td>False</td>\n",
              "      <td>False</td>\n",
              "      <td>False</td>\n",
              "      <td>wrongdoings</td>\n",
              "    </tr>\n",
              "    <tr>\n",
              "      <th>86040</th>\n",
              "      <td>True</td>\n",
              "      <td>False</td>\n",
              "      <td>False</td>\n",
              "      <td>False</td>\n",
              "      <td>False</td>\n",
              "      <td>False</td>\n",
              "      <td>wrongful</td>\n",
              "    </tr>\n",
              "    <tr>\n",
              "      <th>86041</th>\n",
              "      <td>True</td>\n",
              "      <td>False</td>\n",
              "      <td>False</td>\n",
              "      <td>False</td>\n",
              "      <td>False</td>\n",
              "      <td>False</td>\n",
              "      <td>wrongfully</td>\n",
              "    </tr>\n",
              "    <tr>\n",
              "      <th>86049</th>\n",
              "      <td>True</td>\n",
              "      <td>False</td>\n",
              "      <td>False</td>\n",
              "      <td>False</td>\n",
              "      <td>False</td>\n",
              "      <td>False</td>\n",
              "      <td>wrongly</td>\n",
              "    </tr>\n",
              "  </tbody>\n",
              "</table>\n",
              "<p>2720 rows × 7 columns</p>\n",
              "</div>"
            ],
            "text/plain": [
              "       negative  positive  uncertainty  ...  constraining  interesting          word\n",
              "9          True     False        False  ...         False        False       abandon\n",
              "12         True     False        False  ...         False        False   abandonment\n",
              "13         True     False        False  ...         False        False  abandonments\n",
              "51         True     False        False  ...         False        False      abdicate\n",
              "54         True     False        False  ...         False        False    abdication\n",
              "...         ...       ...          ...  ...           ...          ...           ...\n",
              "86035      True     False        False  ...         False        False    wrongdoing\n",
              "86036      True     False        False  ...         False        False   wrongdoings\n",
              "86040      True     False        False  ...         False        False      wrongful\n",
              "86041      True     False        False  ...         False        False    wrongfully\n",
              "86049      True     False        False  ...         False        False       wrongly\n",
              "\n",
              "[2720 rows x 7 columns]"
            ]
          },
          "metadata": {
            "tags": []
          },
          "execution_count": 47
        }
      ]
    },
    {
      "cell_type": "markdown",
      "metadata": {
        "id": "DLl7w9025_Ni"
      },
      "source": [
        "### Bag of Words\n",
        "using the sentiment word lists, let's generate sentiment bag of words from the 10-k documents. Implement `get_bag_of_words` to generate a bag of words that counts the number of sentiment words in each doc. You can ignore words that are not in `sentiment_words`."
      ]
    },
    {
      "cell_type": "code",
      "metadata": {
        "id": "M6y9W7j95_Ni"
      },
      "source": [
        "from collections import defaultdict, Counter\n",
        "from sklearn.feature_extraction.text import CountVectorizer\n",
        "\n",
        "\n",
        "def get_bag_of_words(sentiment_words, docs):\n",
        "    \"\"\"\n",
        "    Generate a bag of words from documents for a certain sentiment\n",
        "\n",
        "    Parameters\n",
        "    ----------\n",
        "    sentiment_words: Pandas Series\n",
        "        Words that signify a certain sentiment\n",
        "    docs : list of str\n",
        "        List of documents used to generate bag of words\n",
        "\n",
        "    Returns\n",
        "    -------\n",
        "    bag_of_words : 2-d Numpy Ndarray of int\n",
        "        Bag of words sentiment for each document\n",
        "        The first dimension is the document.\n",
        "        The second dimension is the word.\n",
        "    \"\"\"\n",
        "    \n",
        "    # TODO: Implement\n",
        "\n",
        "    bag_of_words = np.zeros((len(docs), len(sentiment_words)))\n",
        "    for ind, word  in enumerate(docs):\n",
        "        for sen_id, sent in enumerate(sentiment_words):\n",
        "             #bag_of_words[ind, sen_id] = word.count(sent) \n",
        "            if sent in word:\n",
        "                bag_of_words[ind, sen_id] = 1 \n",
        "    print(bag_of_words)         \n",
        "    return bag_of_words\n",
        "\n",
        "\n",
        "# project_tests.test_get_bag_of_words(get_bag_of_words)"
      ],
      "execution_count": 48,
      "outputs": []
    },
    {
      "cell_type": "markdown",
      "metadata": {
        "id": "iZfxwZnx5_Ni"
      },
      "source": [
        "Using the `get_bag_of_words` function, we'll generate a bag of words for all the documents."
      ]
    },
    {
      "cell_type": "code",
      "metadata": {
        "scrolled": true,
        "id": "ZqJoT6Sa5_Nj"
      },
      "source": [
        "sentiment_bow_ten_ks = {}\n",
        "\n",
        "for ticker, ten_ks in ten_ks_by_ticker.items():\n",
        "    lemma_docs = [' '.join(ten_k['file_lemma']) for ten_k in ten_ks]\n",
        "    \n",
        "    sentiment_bow_ten_ks[ticker] = {\n",
        "        sentiment: get_bag_of_words(sentiment_df[sentiment_df[sentiment]]['word'], lemma_docs)\n",
        "        for sentiment in sentiments}\n",
        "\n",
        "\n",
        "# project_helper.print_ten_k_data([sentiment_bow_ten_ks[example_ticker]], sentiments)"
      ],
      "execution_count": null,
      "outputs": []
    },
    {
      "cell_type": "markdown",
      "metadata": {
        "id": "wrvzvsSd5_Nj"
      },
      "source": [
        "### Jaccard Similarity\n",
        "Using the bag of words, let's calculate the jaccard similarity on the bag of words and plot it over time. Implement `get_jaccard_similarity` to return the jaccard similarities between each tick in time. Since the input, `bag_of_words_matrix`, is a bag of words for each time period in order, you just need to compute the jaccard similarities for each neighboring bag of words. Make sure to turn the bag of words into a boolean array when calculating the jaccard similarity."
      ]
    },
    {
      "cell_type": "markdown",
      "metadata": {
        "id": "5i9bKjh25_Nj"
      },
      "source": [
        "\n",
        "\n",
        ">Jaccard Similarity\n",
        "\n",
        ">Now that we have the bag of words, we can convert it into a boolean array and calculate the jaccard similarity. The jaccard similarity is defined as the size of intersection divided by the size of union of two sets. For example, the jaccard similarity between two sentences is the number of common words between the two sentences divided by the total number of unique words in both sentences combined. The closer the jaccard similarity value is to 1, the more similar the sets are. To more easily understand our calculations, we plot the jaccard similarities.\n",
        "\n"
      ]
    },
    {
      "cell_type": "code",
      "metadata": {
        "id": "EJroyGZd5_Nj"
      },
      "source": [
        "from sklearn.metrics import jaccard_score\n",
        "\n",
        "\n",
        "def get_jaccard_similarity(bag_of_words_matrix):\n",
        "    \"\"\"\n",
        "    Get jaccard similarities for neighboring documents\n",
        "\n",
        "    Parameters\n",
        "    ----------\n",
        "    bag_of_words : 2-d Numpy Ndarray of int\n",
        "        Bag of words sentiment for each document\n",
        "        The first dimension is the document.\n",
        "        The second dimension is the word.\n",
        "\n",
        "    Returns\n",
        "    -------\n",
        "    jaccard_similarities : list of float\n",
        "        Jaccard similarities for neighboring documents\n",
        "    \"\"\"\n",
        "    \n",
        "    # TODO: Implement\n",
        "    bag_of_words = bag_of_words_matrix.astype(bool)\n",
        "    \n",
        "    jaccard_similarities = []\n",
        "    \n",
        "    len_ = len(bag_of_words)\n",
        "\n",
        "    for in_, v in enumerate(bag_of_words[0:len_-1]):\n",
        "    \n",
        "        u=bag_of_words[in_+1]\n",
        "  \n",
        "        jaccard_similarities.append(jaccard_score(v,u))\n",
        "\n",
        "    return jaccard_similarities\n",
        "\n",
        "   \n",
        "\n",
        "\n",
        "# project_tests.test_get_jaccard_similarity(get_jaccard_similarity)"
      ],
      "execution_count": 50,
      "outputs": []
    },
    {
      "cell_type": "markdown",
      "metadata": {
        "id": "bYFuzVvK5_Nj"
      },
      "source": [
        "Using the `get_jaccard_similarity` function, let's plot the similarities over time."
      ]
    },
    {
      "cell_type": "code",
      "metadata": {
        "id": "nOPJ4j8M5_Nj",
        "colab": {
          "base_uri": "https://localhost:8080/",
          "height": 492
        },
        "outputId": "3d934837-aeb4-4d7a-c7ba-8418213418d4"
      },
      "source": [
        "# Get dates for the universe\n",
        "example_ticker = 'AMZN'\n",
        "file_dates = {\n",
        "    ticker: [ten_k['file_date'] for ten_k in ten_ks]\n",
        "    for ticker, ten_ks in ten_ks_by_ticker.items()}  \n",
        "\n",
        "jaccard_similarities = {\n",
        "    ticker: {\n",
        "        sentiment_name: get_jaccard_similarity(sentiment_values)\n",
        "        for sentiment_name, sentiment_values in ten_k_sentiments.items()}\n",
        "    for ticker, ten_k_sentiments in sentiment_bow_ten_ks.items()}\n",
        "\n",
        "\n",
        "project_helper.plot_similarities(\n",
        "    [jaccard_similarities[example_ticker][sentiment] for sentiment in sentiments],\n",
        "    file_dates[example_ticker][1:],\n",
        "    'Jaccard Similarities for {} Sentiment'.format(example_ticker),\n",
        "    sentiments)"
      ],
      "execution_count": 51,
      "outputs": [
        {
          "output_type": "display_data",
          "data": {
            "image/png": "[encoded data removed]",
            "text/plain": [
              "<Figure size 720x504 with 1 Axes>"
            ]
          },
          "metadata": {
            "tags": [],
            "needs_background": "light"
          }
        }
      ]
    },
    {
      "cell_type": "markdown",
      "metadata": {
        "id": "HxpGawqW5_Nk"
      },
      "source": [
        "### TFIDF\n",
        "using the sentiment word lists, let's generate sentiment TFIDF from the 10-k documents. Implement `get_tfidf` to generate TFIDF from each document, using sentiment words as the terms. You can ignore words that are not in `sentiment_words`.\n",
        "\n",
        ">TFIDF\n",
        "\n",
        ">From the sentiment word lists, let’s generate sentiment term frequency–inverse document frequency (TFIDF) from the 10-k documents. TFIDF is an information retrieval technique used to reveal how often a word/term appears in the chosen collection of text. Each term is assigned a term frequency (TF) and inverse document frequency (IDF) score. The product of these scores is referred to as the TFIDF weight of the term. Higher TFIDF weights indicate rarer terms and lower TFIDF scores indicate more common terms."
      ]
    },
    {
      "cell_type": "code",
      "metadata": {
        "id": "VcnmBBM35_Nm",
        "colab": {
          "base_uri": "https://localhost:8080/"
        },
        "outputId": "691de0c8-ea8a-4589-aefe-c33b0dedc2e7"
      },
      "source": [
        "from sklearn.feature_extraction.text import TfidfVectorizer\n",
        "\n",
        "\n",
        "def get_tfidf(sentiment_words, docs):\n",
        "    \"\"\"\n",
        "    Generate TFIDF values from documents for a certain sentiment\n",
        "\n",
        "    Parameters\n",
        "    ----------\n",
        "    sentiment_words: Pandas Series\n",
        "        Words that signify a certain sentiment\n",
        "    docs : list of str\n",
        "        List of documents used to generate bag of words\n",
        "\n",
        "    Returns\n",
        "    -------\n",
        "    tfidf : 2-d Numpy Ndarray of float\n",
        "        TFIDF sentiment for each document\n",
        "        The first dimension is the document.\n",
        "        The second dimension is the word.\n",
        "    \"\"\"\n",
        "    \n",
        "    # TODO: Implement\n",
        " \n",
        "    vectorizer = TfidfVectorizer( vocabulary = sentiment_words)\n",
        " \n",
        "    tfidf  = vectorizer.fit_transform (docs).toarray()\n",
        " \n",
        "    return tfidf\n",
        "\n",
        "\n",
        "project_tests.test_get_tfidf(get_tfidf)"
      ],
      "execution_count": 52,
      "outputs": [
        {
          "output_type": "stream",
          "text": [
            "Tests Passed\n"
          ],
          "name": "stdout"
        }
      ]
    },
    {
      "cell_type": "markdown",
      "metadata": {
        "id": "JHNhYlWt5_Nm"
      },
      "source": [
        "Using the `get_tfidf` function, let's generate the TFIDF values for all the documents."
      ]
    },
    {
      "cell_type": "code",
      "metadata": {
        "id": "41-nPlGs5_Nm",
        "colab": {
          "base_uri": "https://localhost:8080/"
        },
        "outputId": "b625b6ab-f163-43c1-8c5e-08fcfabd0a3f"
      },
      "source": [
        "sentiment_tfidf_ten_ks = {}\n",
        "\n",
        "for ticker, ten_ks in ten_ks_by_ticker.items():\n",
        "    lemma_docs = [' '.join(ten_k['file_lemma']) for ten_k in ten_ks]\n",
        "    \n",
        "    sentiment_tfidf_ten_ks[ticker] = {\n",
        "        sentiment: get_tfidf(sentiment_df[sentiment_df[sentiment]]['word'], lemma_docs)\n",
        "        for sentiment in sentiments}\n",
        "\n",
        "    \n",
        "project_helper.print_ten_k_data([sentiment_tfidf_ten_ks[example_ticker]], sentiments)"
      ],
      "execution_count": 53,
      "outputs": [
        {
          "output_type": "stream",
          "text": [
            "[\n",
            "  {\n",
            "    negative: '[[0.         0.02789314 0.         ... 0.        ...\n",
            "    positive: '[[0.22683333 0.         0.         ... 0.        ...\n",
            "    uncertainty: '[[0.         0.         0.         ... 0.00603414...\n",
            "    litigious: '[[0. 0. 0. ... 0. 0. 0.]\\n [0. 0. 0. ... 0. 0. 0....\n",
            "    constraining: '[[0.         0.         0.         ... 0.        ...\n",
            "    interesting: '[[0.02036679 0.         0.         ... 0.        ...},\n",
            "]\n"
          ],
          "name": "stdout"
        }
      ]
    },
    {
      "cell_type": "markdown",
      "metadata": {
        "id": "I4Vlddmz5_Nn"
      },
      "source": [
        "### Cosine Similarity\n",
        "Using the TFIDF values, we'll calculate the cosine similarity and plot it over time. Implement `get_cosine_similarity` to return the cosine similarities between each tick in time. Since the input, `tfidf_matrix`, is a TFIDF vector for each time period in order, you just need to computer the cosine similarities for each neighboring vector."
      ]
    },
    {
      "cell_type": "code",
      "metadata": {
        "id": "Z-21LZ065_Nn",
        "colab": {
          "base_uri": "https://localhost:8080/"
        },
        "outputId": "96255fae-fc82-44b1-995c-9d05cade7dac"
      },
      "source": [
        "from sklearn.metrics.pairwise import cosine_similarity\n",
        "\n",
        "\n",
        "def get_cosine_similarity(tfidf_matrix):\n",
        "    \"\"\"\n",
        "    Get cosine similarities for each neighboring TFIDF vector/document\n",
        "\n",
        "    Parameters\n",
        "    ----------\n",
        "    tfidf : 2-d Numpy Ndarray of float\n",
        "        TFIDF sentiment for each document\n",
        "        The first dimension is the document.\n",
        "        The second dimension is the word.\n",
        "\n",
        "    Returns\n",
        "    -------\n",
        "    cosine_similarities : list of float\n",
        "        Cosine similarities for neighboring documents\n",
        "    \"\"\"\n",
        "\n",
        "    cosine_similarities= cosine_similarity(tfidf_matrix[0:],tfidf_matrix[1:])[0].tolist()\n",
        "       \n",
        "    return cosine_similarities \n",
        "    \n",
        "project_tests.test_get_cosine_similarity(get_cosine_similarity)"
      ],
      "execution_count": 54,
      "outputs": [
        {
          "output_type": "stream",
          "text": [
            "Tests Passed\n"
          ],
          "name": "stdout"
        }
      ]
    },
    {
      "cell_type": "code",
      "metadata": {
        "id": "DgoxY7z85_Nn"
      },
      "source": [
        "import matplotlib.pyplot as plt\n",
        "def plot_similarities1(similarities_list, dates, title, labels):\n",
        "    assert len(similarities_list) == len(labels)\n",
        "\n",
        "    plt.figure(1, figsize=(10, 7))\n",
        "    for similarities, label in zip(similarities_list, labels):\n",
        "        plt.title(title)\n",
        "        plt.plot(dates, similarities, label=label)\n",
        "        plt.legend()\n",
        "        plt.xticks(rotation=90)\n",
        "\n",
        "    plt.show()"
      ],
      "execution_count": 55,
      "outputs": []
    },
    {
      "cell_type": "markdown",
      "metadata": {
        "id": "QsUsjQkh5_Nn"
      },
      "source": [
        "Let's plot the cosine similarities over time."
      ]
    },
    {
      "cell_type": "code",
      "metadata": {
        "id": "FGzkgxI95_Nn",
        "colab": {
          "base_uri": "https://localhost:8080/",
          "height": 492
        },
        "outputId": "6a018e79-b540-44dc-b551-8f1159f699c6"
      },
      "source": [
        "cosine_similarities = {\n",
        "    ticker: {\n",
        "        sentiment_name: get_cosine_similarity(sentiment_values)\n",
        "        for sentiment_name, sentiment_values in ten_k_sentiments.items()}\n",
        "    for ticker, ten_k_sentiments in sentiment_tfidf_ten_ks.items()}\n",
        "\n",
        "\n",
        "plot_similarities1(\n",
        "    [cosine_similarities[example_ticker][sentiment] for sentiment in sentiments],\n",
        "    file_dates[example_ticker][1:],\n",
        "    f'Cosine Similarities for {example_ticker} Sentiment',\n",
        "    sentiments)"
      ],
      "execution_count": 56,
      "outputs": [
        {
          "output_type": "display_data",
          "data": {
            "image/png": "[encoded data removed]",
            "text/plain": [
              "<Figure size 720x504 with 1 Axes>"
            ]
          },
          "metadata": {
            "tags": [],
            "needs_background": "light"
          }
        }
      ]
    },
    {
      "cell_type": "markdown",
      "metadata": {
        "id": "JToT2MoW5_Nn"
      },
      "source": [
        ""
      ]
    },
    {
      "cell_type": "markdown",
      "metadata": {
        "id": "qAvgaQFT5_Nn"
      },
      "source": [
        "## Evaluate Alpha Factors\n",
        "Just like we did in project 4, let's evaluate the alpha factors. For this section, we'll just be looking at the cosine similarities, but it can be applied to the jaccard similarities as well.\n"
      ]
    },
    {
      "cell_type": "markdown",
      "metadata": {
        "id": "6E_3Z7VehkXw"
      },
      "source": [
        "### Price Data\n",
        "Let's get yearly pricing to run the factor against, since 10-Ks are produced annually."
      ]
    },
    {
      "cell_type": "code",
      "metadata": {
        "id": "_v3pgJFv5_No",
        "colab": {
          "base_uri": "https://localhost:8080/",
          "height": 467
        },
        "outputId": "e5dc7a80-d8b9-48b9-f515-005c9792d81c"
      },
      "source": [
        "from pandas_datareader import data as pdr\n",
        "import yfinance as yf\n",
        "\n",
        "# use yfinance while making sure the returned data is in the same format \n",
        "# as pandas_datareader's get_data_yahoo()\n",
        "yf.pdr_override()\n",
        "\n",
        "def download_daily_data(ticker):\n",
        "  # download dataframe\n",
        "  df = pdr.get_data_yahoo(ticker, \n",
        "                              start=file_dates[example_ticker][-1], \n",
        "                              end=file_dates[example_ticker][1])\n",
        "  df['ticker'] = ticker\n",
        "  return df\n",
        "\n",
        "test_daily_data = download_daily_data('AMZN')\n",
        "test_daily_data"
      ],
      "execution_count": 57,
      "outputs": [
        {
          "output_type": "stream",
          "text": [
            "\r[*********************100%***********************]  1 of 1 completed\n"
          ],
          "name": "stdout"
        },
        {
          "output_type": "execute_result",
          "data": {
            "text/html": [
              "<div>\n",
              "<style scoped>\n",
              "    .dataframe tbody tr th:only-of-type {\n",
              "        vertical-align: middle;\n",
              "    }\n",
              "\n",
              "    .dataframe tbody tr th {\n",
              "        vertical-align: top;\n",
              "    }\n",
              "\n",
              "    .dataframe thead th {\n",
              "        text-align: right;\n",
              "    }\n",
              "</style>\n",
              "<table border=\"1\" class=\"dataframe\">\n",
              "  <thead>\n",
              "    <tr style=\"text-align: right;\">\n",
              "      <th></th>\n",
              "      <th>Open</th>\n",
              "      <th>High</th>\n",
              "      <th>Low</th>\n",
              "      <th>Close</th>\n",
              "      <th>Adj Close</th>\n",
              "      <th>Volume</th>\n",
              "      <th>ticker</th>\n",
              "    </tr>\n",
              "    <tr>\n",
              "      <th>Date</th>\n",
              "      <th></th>\n",
              "      <th></th>\n",
              "      <th></th>\n",
              "      <th></th>\n",
              "      <th></th>\n",
              "      <th></th>\n",
              "      <th></th>\n",
              "    </tr>\n",
              "  </thead>\n",
              "  <tbody>\n",
              "    <tr>\n",
              "      <th>1999-03-05</th>\n",
              "      <td>61.96875000</td>\n",
              "      <td>62.25000000</td>\n",
              "      <td>59.18750000</td>\n",
              "      <td>60.75000000</td>\n",
              "      <td>60.75000000</td>\n",
              "      <td>12176200</td>\n",
              "      <td>AMZN</td>\n",
              "    </tr>\n",
              "    <tr>\n",
              "      <th>1999-03-08</th>\n",
              "      <td>60.71875000</td>\n",
              "      <td>63.21875000</td>\n",
              "      <td>59.62500000</td>\n",
              "      <td>61.09375000</td>\n",
              "      <td>61.09375000</td>\n",
              "      <td>10462600</td>\n",
              "      <td>AMZN</td>\n",
              "    </tr>\n",
              "    <tr>\n",
              "      <th>1999-03-09</th>\n",
              "      <td>62.56250000</td>\n",
              "      <td>66.62500000</td>\n",
              "      <td>61.71875000</td>\n",
              "      <td>64.96875000</td>\n",
              "      <td>64.96875000</td>\n",
              "      <td>16292000</td>\n",
              "      <td>AMZN</td>\n",
              "    </tr>\n",
              "    <tr>\n",
              "      <th>1999-03-10</th>\n",
              "      <td>68.37500000</td>\n",
              "      <td>69.46875000</td>\n",
              "      <td>67.00000000</td>\n",
              "      <td>68.56250000</td>\n",
              "      <td>68.56250000</td>\n",
              "      <td>14117600</td>\n",
              "      <td>AMZN</td>\n",
              "    </tr>\n",
              "    <tr>\n",
              "      <th>1999-03-11</th>\n",
              "      <td>69.87500000</td>\n",
              "      <td>71.37500000</td>\n",
              "      <td>65.50000000</td>\n",
              "      <td>67.43750000</td>\n",
              "      <td>67.43750000</td>\n",
              "      <td>16252200</td>\n",
              "      <td>AMZN</td>\n",
              "    </tr>\n",
              "    <tr>\n",
              "      <th>...</th>\n",
              "      <td>...</td>\n",
              "      <td>...</td>\n",
              "      <td>...</td>\n",
              "      <td>...</td>\n",
              "      <td>...</td>\n",
              "      <td>...</td>\n",
              "      <td>...</td>\n",
              "    </tr>\n",
              "    <tr>\n",
              "      <th>2020-01-24</th>\n",
              "      <td>1891.36999512</td>\n",
              "      <td>1894.98999023</td>\n",
              "      <td>1847.43994141</td>\n",
              "      <td>1861.64001465</td>\n",
              "      <td>1861.64001465</td>\n",
              "      <td>3766200</td>\n",
              "      <td>AMZN</td>\n",
              "    </tr>\n",
              "    <tr>\n",
              "      <th>2020-01-27</th>\n",
              "      <td>1820.00000000</td>\n",
              "      <td>1841.00000000</td>\n",
              "      <td>1815.33996582</td>\n",
              "      <td>1828.33996582</td>\n",
              "      <td>1828.33996582</td>\n",
              "      <td>3528500</td>\n",
              "      <td>AMZN</td>\n",
              "    </tr>\n",
              "    <tr>\n",
              "      <th>2020-01-28</th>\n",
              "      <td>1840.50000000</td>\n",
              "      <td>1858.10998535</td>\n",
              "      <td>1830.02001953</td>\n",
              "      <td>1853.25000000</td>\n",
              "      <td>1853.25000000</td>\n",
              "      <td>2808000</td>\n",
              "      <td>AMZN</td>\n",
              "    </tr>\n",
              "    <tr>\n",
              "      <th>2020-01-29</th>\n",
              "      <td>1864.00000000</td>\n",
              "      <td>1874.75000000</td>\n",
              "      <td>1855.02001953</td>\n",
              "      <td>1858.00000000</td>\n",
              "      <td>1858.00000000</td>\n",
              "      <td>2088000</td>\n",
              "      <td>AMZN</td>\n",
              "    </tr>\n",
              "    <tr>\n",
              "      <th>2020-01-30</th>\n",
              "      <td>1858.00000000</td>\n",
              "      <td>1872.86999512</td>\n",
              "      <td>1850.60998535</td>\n",
              "      <td>1870.68005371</td>\n",
              "      <td>1870.68005371</td>\n",
              "      <td>6327400</td>\n",
              "      <td>AMZN</td>\n",
              "    </tr>\n",
              "  </tbody>\n",
              "</table>\n",
              "<p>5261 rows × 7 columns</p>\n",
              "</div>"
            ],
            "text/plain": [
              "                    Open          High  ...    Volume  ticker\n",
              "Date                                    ...                  \n",
              "1999-03-05   61.96875000   62.25000000  ...  12176200    AMZN\n",
              "1999-03-08   60.71875000   63.21875000  ...  10462600    AMZN\n",
              "1999-03-09   62.56250000   66.62500000  ...  16292000    AMZN\n",
              "1999-03-10   68.37500000   69.46875000  ...  14117600    AMZN\n",
              "1999-03-11   69.87500000   71.37500000  ...  16252200    AMZN\n",
              "...                  ...           ...  ...       ...     ...\n",
              "2020-01-24 1891.36999512 1894.98999023  ...   3766200    AMZN\n",
              "2020-01-27 1820.00000000 1841.00000000  ...   3528500    AMZN\n",
              "2020-01-28 1840.50000000 1858.10998535  ...   2808000    AMZN\n",
              "2020-01-29 1864.00000000 1874.75000000  ...   2088000    AMZN\n",
              "2020-01-30 1858.00000000 1872.86999512  ...   6327400    AMZN\n",
              "\n",
              "[5261 rows x 7 columns]"
            ]
          },
          "metadata": {
            "tags": []
          },
          "execution_count": 57
        }
      ]
    },
    {
      "cell_type": "code",
      "metadata": {
        "id": "Hkm0QjdqkNO-"
      },
      "source": [
        "# def get_price_df():\n",
        "#   for ticker in list(file_dates.keys()):\n",
        "#     price_series = get_daily_price_series(ticker)\n",
        "#   return price_df"
      ],
      "execution_count": 58,
      "outputs": []
    },
    {
      "cell_type": "code",
      "metadata": {
        "id": "OzxinEbqhydG"
      },
      "source": [
        "# def pivot_to_date_index_ticker_columns_price_values(daily_data_df, ticker):\n",
        "#   daily_price = daily_data_df.copy()[['Adj Close']]\n",
        "#   daily_price['ticker'] = ticker\n",
        "#   daily_close_by_ticker = daily_price.pivot(\n",
        "#                           # index='date', \n",
        "#                           columns='ticker', \n",
        "#                           values='Adj Close')\n",
        "#   return daily_close_by_ticker\n",
        "\n",
        "# test_adj_close_by_date_and_ticker = pivot_to_date_index_ticker_columns_price_values(test_daily_data, 'AMZN')\n",
        "# test_adj_close_by_date_and_ticker"
      ],
      "execution_count": 59,
      "outputs": []
    },
    {
      "cell_type": "code",
      "metadata": {
        "colab": {
          "base_uri": "https://localhost:8080/",
          "height": 569
        },
        "id": "xAP1fkC8jCl5",
        "outputId": "ae0d037c-4859-4fa9-ba8b-d5b4366d9529"
      },
      "source": [
        "# Make dataframe with all tickers\n",
        "def get_prices_for_all_tickers(ticker_list, start='2000-01-01', end='2021-04-01'):\n",
        "  index=pd.date_range(start, end)\n",
        "  prices = pd.DataFrame(index=index)\n",
        "  for ticker in ticker_list:\n",
        "    daily_price = download_daily_data(ticker).copy()[['Adj Close']]\n",
        "    daily_price[ticker] = daily_price\n",
        "    daily_price = daily_price.drop(columns='Adj Close')\n",
        "    prices=pd.merge(prices, daily_price, how='left', left_index=True, right_index=True)\n",
        "  prices.index.name = 'date'\n",
        "  return prices\n",
        "\n",
        "prices = get_prices_for_all_tickers(list(cik_lookup1.keys()))\n",
        "prices"
      ],
      "execution_count": 60,
      "outputs": [
        {
          "output_type": "stream",
          "text": [
            "[*********************100%***********************]  1 of 1 completed\n",
            "[*********************100%***********************]  1 of 1 completed\n",
            "[*********************100%***********************]  1 of 1 completed\n",
            "[*********************100%***********************]  1 of 1 completed\n",
            "[*********************100%***********************]  1 of 1 completed\n",
            "[*********************100%***********************]  1 of 1 completed\n",
            "[*********************100%***********************]  1 of 1 completed\n"
          ],
          "name": "stdout"
        },
        {
          "output_type": "execute_result",
          "data": {
            "text/html": [
              "<div>\n",
              "<style scoped>\n",
              "    .dataframe tbody tr th:only-of-type {\n",
              "        vertical-align: middle;\n",
              "    }\n",
              "\n",
              "    .dataframe tbody tr th {\n",
              "        vertical-align: top;\n",
              "    }\n",
              "\n",
              "    .dataframe thead th {\n",
              "        text-align: right;\n",
              "    }\n",
              "</style>\n",
              "<table border=\"1\" class=\"dataframe\">\n",
              "  <thead>\n",
              "    <tr style=\"text-align: right;\">\n",
              "      <th></th>\n",
              "      <th>AMZN</th>\n",
              "      <th>BMY</th>\n",
              "      <th>CNP</th>\n",
              "      <th>CVX</th>\n",
              "      <th>FL</th>\n",
              "      <th>STNG</th>\n",
              "      <th>HON</th>\n",
              "    </tr>\n",
              "    <tr>\n",
              "      <th>date</th>\n",
              "      <th></th>\n",
              "      <th></th>\n",
              "      <th></th>\n",
              "      <th></th>\n",
              "      <th></th>\n",
              "      <th></th>\n",
              "      <th></th>\n",
              "    </tr>\n",
              "  </thead>\n",
              "  <tbody>\n",
              "    <tr>\n",
              "      <th>2000-01-01</th>\n",
              "      <td>nan</td>\n",
              "      <td>nan</td>\n",
              "      <td>nan</td>\n",
              "      <td>nan</td>\n",
              "      <td>nan</td>\n",
              "      <td>nan</td>\n",
              "      <td>nan</td>\n",
              "    </tr>\n",
              "    <tr>\n",
              "      <th>2000-01-02</th>\n",
              "      <td>nan</td>\n",
              "      <td>nan</td>\n",
              "      <td>nan</td>\n",
              "      <td>nan</td>\n",
              "      <td>nan</td>\n",
              "      <td>nan</td>\n",
              "      <td>nan</td>\n",
              "    </tr>\n",
              "    <tr>\n",
              "      <th>2000-01-03</th>\n",
              "      <td>89.37500000</td>\n",
              "      <td>28.03261185</td>\n",
              "      <td>6.11485481</td>\n",
              "      <td>19.36047363</td>\n",
              "      <td>4.34992981</td>\n",
              "      <td>nan</td>\n",
              "      <td>33.24100494</td>\n",
              "    </tr>\n",
              "    <tr>\n",
              "      <th>2000-01-04</th>\n",
              "      <td>81.93750000</td>\n",
              "      <td>25.91182327</td>\n",
              "      <td>6.18355989</td>\n",
              "      <td>19.36047363</td>\n",
              "      <td>4.27225018</td>\n",
              "      <td>nan</td>\n",
              "      <td>32.65464401</td>\n",
              "    </tr>\n",
              "    <tr>\n",
              "      <th>2000-01-05</th>\n",
              "      <td>69.75000000</td>\n",
              "      <td>25.74581528</td>\n",
              "      <td>6.44121265</td>\n",
              "      <td>19.70774460</td>\n",
              "      <td>4.23341322</td>\n",
              "      <td>nan</td>\n",
              "      <td>32.21482086</td>\n",
              "    </tr>\n",
              "    <tr>\n",
              "      <th>...</th>\n",
              "      <td>...</td>\n",
              "      <td>...</td>\n",
              "      <td>...</td>\n",
              "      <td>...</td>\n",
              "      <td>...</td>\n",
              "      <td>...</td>\n",
              "      <td>...</td>\n",
              "    </tr>\n",
              "    <tr>\n",
              "      <th>2021-03-28</th>\n",
              "      <td>nan</td>\n",
              "      <td>nan</td>\n",
              "      <td>nan</td>\n",
              "      <td>nan</td>\n",
              "      <td>nan</td>\n",
              "      <td>nan</td>\n",
              "      <td>nan</td>\n",
              "    </tr>\n",
              "    <tr>\n",
              "      <th>2021-03-29</th>\n",
              "      <td>nan</td>\n",
              "      <td>nan</td>\n",
              "      <td>nan</td>\n",
              "      <td>nan</td>\n",
              "      <td>nan</td>\n",
              "      <td>nan</td>\n",
              "      <td>nan</td>\n",
              "    </tr>\n",
              "    <tr>\n",
              "      <th>2021-03-30</th>\n",
              "      <td>nan</td>\n",
              "      <td>nan</td>\n",
              "      <td>nan</td>\n",
              "      <td>nan</td>\n",
              "      <td>nan</td>\n",
              "      <td>nan</td>\n",
              "      <td>nan</td>\n",
              "    </tr>\n",
              "    <tr>\n",
              "      <th>2021-03-31</th>\n",
              "      <td>nan</td>\n",
              "      <td>nan</td>\n",
              "      <td>nan</td>\n",
              "      <td>nan</td>\n",
              "      <td>nan</td>\n",
              "      <td>nan</td>\n",
              "      <td>nan</td>\n",
              "    </tr>\n",
              "    <tr>\n",
              "      <th>2021-04-01</th>\n",
              "      <td>nan</td>\n",
              "      <td>nan</td>\n",
              "      <td>nan</td>\n",
              "      <td>nan</td>\n",
              "      <td>nan</td>\n",
              "      <td>nan</td>\n",
              "      <td>nan</td>\n",
              "    </tr>\n",
              "  </tbody>\n",
              "</table>\n",
              "<p>7762 rows × 7 columns</p>\n",
              "</div>"
            ],
            "text/plain": [
              "                  AMZN         BMY        CNP  ...         FL  STNG         HON\n",
              "date                                           ...                             \n",
              "2000-01-01         nan         nan        nan  ...        nan   nan         nan\n",
              "2000-01-02         nan         nan        nan  ...        nan   nan         nan\n",
              "2000-01-03 89.37500000 28.03261185 6.11485481  ... 4.34992981   nan 33.24100494\n",
              "2000-01-04 81.93750000 25.91182327 6.18355989  ... 4.27225018   nan 32.65464401\n",
              "2000-01-05 69.75000000 25.74581528 6.44121265  ... 4.23341322   nan 32.21482086\n",
              "...                ...         ...        ...  ...        ...   ...         ...\n",
              "2021-03-28         nan         nan        nan  ...        nan   nan         nan\n",
              "2021-03-29         nan         nan        nan  ...        nan   nan         nan\n",
              "2021-03-30         nan         nan        nan  ...        nan   nan         nan\n",
              "2021-03-31         nan         nan        nan  ...        nan   nan         nan\n",
              "2021-04-01         nan         nan        nan  ...        nan   nan         nan\n",
              "\n",
              "[7762 rows x 7 columns]"
            ]
          },
          "metadata": {
            "tags": []
          },
          "execution_count": 60
        }
      ]
    },
    {
      "cell_type": "markdown",
      "metadata": {
        "id": "DnuH8acV5_No"
      },
      "source": [
        "### Dict to DataFrame\n",
        "The alphalens library uses dataframes, so we we'll need to turn our dictionary into a dataframe. "
      ]
    },
    {
      "cell_type": "code",
      "metadata": {
        "id": "0rbw92e7_dIQ"
      },
      "source": [
        "# Resample workaround for upsampling a multiindexed df.\n",
        "# Adapted from\n",
        "#  https://github.com/pandas-dev/pandas/issues/28313#issuecomment-532231669\n",
        "\n",
        "\n",
        "def upsample(df, rule='D', method='ffill',\n",
        "             group_index: str='ticker', date_index: str='date', \n",
        "             upsampled_date_index_level: int=0):\n",
        "    \"\"\"\n",
        "    Upsample a Pandas DataFrame or Series with either a DatetimeIndex or\n",
        "    MultiIndex. This can be used to upsample financial data for a single\n",
        "    company, or upsample data for multiple companies in a single DataFrame.\n",
        "\n",
        "    :param df:\n",
        "        Pandas DataFrame or Series.\n",
        "\n",
        "    :param rule:\n",
        "        Upsampling frequency e.g. 'D' for daily.\n",
        "\n",
        "        This is passed directly to the Pandas resampler which has more options:\n",
        "        https://pandas.pydata.org/pandas-docs/stable/user_guide/timeseries.html#dateoffset-objects\n",
        "\n",
        "    :param method:\n",
        "        String for the method of filling in empty values. Valid options:\n",
        "        'ffill' is forward-fill with last known values.\n",
        "        'linear' is linear interpolation between known values.\n",
        "\n",
        "    :param group_index:\n",
        "        If `df` has a MultiIndex then group companies using this data-column.\n",
        "        By default this is TICKER but it could also be e.g. SIMFIN_ID if\n",
        "        you are using that as an index in your DataFrame.\n",
        "\n",
        "    :param date_index:\n",
        "        If `df` has a MultiIndex then use this data-column as the dates.\n",
        "        By default this is REPORT_DATE but it could also be e.g. PUBLISH_DATE\n",
        "        if you are using that as an index in your DataFrame.\n",
        "\n",
        "    :return:\n",
        "        Upsampled DataFrame or Series.\n",
        "    \"\"\"\n",
        "\n",
        "    assert isinstance(df, (pd.DataFrame, pd.Series))\n",
        "    assert isinstance(df.index, (pd.DatetimeIndex, pd.MultiIndex))\n",
        "    assert method == 'ffill' or method == 'linear'\n",
        "    assert upsampled_date_index_level in range(0, len(df.index.levels))\n",
        "\n",
        "    # Pandas 0.25.1 does not support upsampling a DataFrame with a MultiIndex\n",
        "    # using the normal resample() function, so we must handle the two cases\n",
        "    # differently.\n",
        "\n",
        "    # If the DataFrame has a DatetimeIndex.\n",
        "    if isinstance(df.index, pd.DatetimeIndex):\n",
        "        # Normal upsampling using Pandas.\n",
        "\n",
        "        if method == 'ffill':\n",
        "            # Fill with last-known value.\n",
        "            df_upsampled = df.resample(rule).ffill()\n",
        "        elif method == 'linear':\n",
        "            # Fill with linearly interpolated values.\n",
        "            df_upsampled = df.resample(rule).interpolate(method='linear')\n",
        "\n",
        "    # If the DataFrame has a MultiIndex.\n",
        "    elif isinstance(df.index, pd.MultiIndex):\n",
        "        # Pandas has very complicated semantics for resampling a DataFrame\n",
        "        # with a MultiIndex. The best way is apparently to group the DataFrame\n",
        "        # by companies (e.g. using TICKER) which creates an individual\n",
        "        # DataFrame for each company, and then apply the resampling to each\n",
        "        # of those DataFrames. It is further complicated by the need to reset\n",
        "        # and set the index. Pandas is quite poorly designed in this regard\n",
        "        # and its resampling API has already been changed several times.\n",
        "\n",
        "        # Helper-function for resampling a DataFrame for a single company.\n",
        "        def _resample(df):\n",
        "            if method == 'ffill':\n",
        "                # Fill with last-known value.\n",
        "                return df.set_index(date_index).resample(rule).ffill()\n",
        "            elif method == 'linear':\n",
        "                # Fill with linearly interpolated values.\n",
        "                return df.set_index(date_index).resample(rule).interpolate(method='linear')\n",
        "\n",
        "        # Group the original DataFrame by companies and apply the resampling to each.\n",
        "        df_upsampled = df.reset_index(level=date_index).groupby(level=group_index).apply(_resample)\n",
        "        if upsampled_date_index_level == 0:\n",
        "          df_upsampled = df_upsampled.reset_index().set_index(['date', 'ticker'])\n",
        "\n",
        "    return df_upsampled\n"
      ],
      "execution_count": 171,
      "outputs": []
    },
    {
      "cell_type": "code",
      "metadata": {
        "id": "kT07r8Pb5_Np",
        "colab": {
          "base_uri": "https://localhost:8080/",
          "height": 450
        },
        "outputId": "f4d30923-363c-4269-faed-0f40e468f5b2"
      },
      "source": [
        "cosine_similarities_df_dict = {'date': [], 'ticker': [], 'sentiment': [], 'value': []}\n",
        "\n",
        "\n",
        "for ticker, ten_k_sentiments in cosine_similarities.items():\n",
        "    for sentiment_name, sentiment_values in ten_k_sentiments.items():\n",
        "        for sentiment_values, sentiment_value in enumerate(sentiment_values):\n",
        "            cosine_similarities_df_dict['ticker'].append(ticker)\n",
        "            cosine_similarities_df_dict['sentiment'].append(sentiment_name)\n",
        "            cosine_similarities_df_dict['value'].append(sentiment_value)\n",
        "            cosine_similarities_df_dict['date'].append(file_dates[ticker][1:][sentiment_values])\n",
        "\n",
        "cosine_similarities_df = pd.DataFrame(cosine_similarities_df_dict)\n",
        "\n",
        "cosine_similarities_dfs = {}\n",
        "for sentiment in cosine_similarities_df['sentiment'].unique():\n",
        "  df = cosine_similarities_df\n",
        "  df = df[df['sentiment']==sentiment].loc[:, ['date', 'ticker', 'value']]\n",
        "  df['date'] = pd.to_datetime(df['date'])\n",
        "  df = df.set_index(['date', 'ticker'])\n",
        "  df = upsample(df, \n",
        "                rule='D', \n",
        "                method='ffill', \n",
        "                group_index='ticker', \n",
        "                date_index='date',\n",
        "                upsampled_date_index_level=0)\n",
        "  \n",
        "  # new_index = pd.date_range(start=df['date'].min(),\n",
        "  #                           end=df['date'].max(),\n",
        "  #                           freq='D')\n",
        "  # new_index = pd.DatetimeIndex(new_index)\n",
        "  # new_df = pd.DataFrame(index=new_index)\n",
        "  # new_df.index.name = 'date'\n",
        "  # new_df = pd.merge_ordered(new_df,\n",
        "  #                   df,\n",
        "  #                   on='date',\n",
        "  #                   how='outer',\n",
        "  #                   fill_method='None')\n",
        "  # new_df = new_df.set_index(['date', 'ticker'])\n",
        "\n",
        "  # upsampled_df = upsample(new_df)\n",
        "  # new_df = new_df.reset_index('ticker').groupby('ticker', group_keys=False).resample('D').pad().reset_index().set_index(['date', 'ticker'])\n",
        "  # new_df = new_df.set_index('date', verify_integrity=True)\n",
        "  # new_df = new_df.set_index(new_index)\n",
        "  # upsampled_df = upsampled_df.reset_index().set_index(['date', 'ticker'])\n",
        "  cosine_similarities_dfs[sentiment] = df\n",
        "  \n",
        "\n",
        "cosine_similarities_dfs['negative']"
      ],
      "execution_count": 182,
      "outputs": [
        {
          "output_type": "execute_result",
          "data": {
            "text/html": [
              "<div>\n",
              "<style scoped>\n",
              "    .dataframe tbody tr th:only-of-type {\n",
              "        vertical-align: middle;\n",
              "    }\n",
              "\n",
              "    .dataframe tbody tr th {\n",
              "        vertical-align: top;\n",
              "    }\n",
              "\n",
              "    .dataframe thead th {\n",
              "        text-align: right;\n",
              "    }\n",
              "</style>\n",
              "<table border=\"1\" class=\"dataframe\">\n",
              "  <thead>\n",
              "    <tr style=\"text-align: right;\">\n",
              "      <th></th>\n",
              "      <th></th>\n",
              "      <th>value</th>\n",
              "    </tr>\n",
              "    <tr>\n",
              "      <th>date</th>\n",
              "      <th>ticker</th>\n",
              "      <th></th>\n",
              "    </tr>\n",
              "  </thead>\n",
              "  <tbody>\n",
              "    <tr>\n",
              "      <th>1999-03-05</th>\n",
              "      <th>AMZN</th>\n",
              "      <td>0.69837581</td>\n",
              "    </tr>\n",
              "    <tr>\n",
              "      <th>1999-03-06</th>\n",
              "      <th>AMZN</th>\n",
              "      <td>0.69837581</td>\n",
              "    </tr>\n",
              "    <tr>\n",
              "      <th>1999-03-07</th>\n",
              "      <th>AMZN</th>\n",
              "      <td>0.69837581</td>\n",
              "    </tr>\n",
              "    <tr>\n",
              "      <th>1999-03-08</th>\n",
              "      <th>AMZN</th>\n",
              "      <td>0.69837581</td>\n",
              "    </tr>\n",
              "    <tr>\n",
              "      <th>1999-03-09</th>\n",
              "      <th>AMZN</th>\n",
              "      <td>0.69837581</td>\n",
              "    </tr>\n",
              "    <tr>\n",
              "      <th>...</th>\n",
              "      <th>...</th>\n",
              "      <td>...</td>\n",
              "    </tr>\n",
              "    <tr>\n",
              "      <th>2020-03-27</th>\n",
              "      <th>STNG</th>\n",
              "      <td>0.90980769</td>\n",
              "    </tr>\n",
              "    <tr>\n",
              "      <th>2020-03-28</th>\n",
              "      <th>STNG</th>\n",
              "      <td>0.90980769</td>\n",
              "    </tr>\n",
              "    <tr>\n",
              "      <th>2020-03-29</th>\n",
              "      <th>STNG</th>\n",
              "      <td>0.90980769</td>\n",
              "    </tr>\n",
              "    <tr>\n",
              "      <th>2020-03-30</th>\n",
              "      <th>STNG</th>\n",
              "      <td>0.90980769</td>\n",
              "    </tr>\n",
              "    <tr>\n",
              "      <th>2020-03-31</th>\n",
              "      <th>STNG</th>\n",
              "      <td>0.97617733</td>\n",
              "    </tr>\n",
              "  </tbody>\n",
              "</table>\n",
              "<p>50951 rows × 1 columns</p>\n",
              "</div>"
            ],
            "text/plain": [
              "                       value\n",
              "date       ticker           \n",
              "1999-03-05 AMZN   0.69837581\n",
              "1999-03-06 AMZN   0.69837581\n",
              "1999-03-07 AMZN   0.69837581\n",
              "1999-03-08 AMZN   0.69837581\n",
              "1999-03-09 AMZN   0.69837581\n",
              "...                      ...\n",
              "2020-03-27 STNG   0.90980769\n",
              "2020-03-28 STNG   0.90980769\n",
              "2020-03-29 STNG   0.90980769\n",
              "2020-03-30 STNG   0.90980769\n",
              "2020-03-31 STNG   0.97617733\n",
              "\n",
              "[50951 rows x 1 columns]"
            ]
          },
          "metadata": {
            "tags": []
          },
          "execution_count": 182
        }
      ]
    },
    {
      "cell_type": "markdown",
      "metadata": {
        "id": "3Xgy4xQ05_Np"
      },
      "source": [
        "### Alphalens Format\n",
        "In order to use a lot of the alphalens functions, we need to aligned the indices and convert the time to unix timestamp. In this next cell, we'll do just that."
      ]
    },
    {
      "cell_type": "code",
      "metadata": {
        "id": "cmbm4eAk5_Np",
        "colab": {
          "base_uri": "https://localhost:8080/",
          "height": 439
        },
        "outputId": "b7423652-241d-4329-8bca-c09b78849e99"
      },
      "source": [
        "import alphalens as al\n",
        "\n",
        "# FIx bug workaround:\n",
        "# Just stumbled upon this issue.\n",
        "# @luca-s , you are right:\n",
        "# utils.get_clean_factor_and_forward_returns(factor, prices, max_loss=0.0) (factor and prices as shown by @niti's comment) function call reveals the source of trouble: ValueError: Bin edges must be unique raised by pd.qcut inside quantile_calc, line 132.\n",
        "\n",
        "# What it does is it groups factor by date and tries to cut every group into bins (line 165), and clearly fails, since there is no way to cut one sample (one per date) in more than one bin. But since max_loss is different from zero, no_raise is True (line 570), so exception is swallowed, quantiles for every group are set to NaN (line 158), and so the whole dataset is dropped (line 578).\n",
        "# Line numbering is given for commit 32bad52.\n",
        "\n",
        "# Therefore, in case of one asset only, one should use utils.get_clean_factor_and_forward_returns(factor, prices, quantiles=None, bins=1) or utils.get_clean_factor_and_forward_returns(factor, prices, quantiles=None, bins=[-np.inf, np.inf])\n",
        "\n",
        "# Hope that someone will find it useful.\n",
        "\n",
        "factor_data = {}\n",
        "skipped_sentiments = []\n",
        "aligned_prices = None\n",
        "\n",
        "for sentiment in sentiments:\n",
        "    factor_df = cosine_similarities_dfs[sentiment]\n",
        "    # factor_df = factor_df.pivot(index='date', columns='asset', values='cosine_similarity')\n",
        "#     index = pd.DatetimeIndex(cosine_similarities_df['date'].copy())\n",
        "# cosine_similarities_df = cosine_similarities_df.drop(columns='date')\n",
        "# cosine_similarities_df.index = index\n",
        "# cosine_similarities_df = cosine_similarities_df.resample('B').asfreq()\n",
        "\n",
        "    # factor_dateindex = factor_multi_index_series.index.levels[0]\n",
        "\n",
        "    # assert len(factor_dateindex) > 0\n",
        "\n",
        "    # Pricing data must span the factor analysis time period plus an additional \n",
        "    # buffer window that is greater than the maximum number of expected periods in the forward returns calculations.\n",
        "    # if not (prices.index[0] < factor_multi_index_series.index.levels[0][0]):\n",
        "    #   prices = prices.loc[]\n",
        "    #   assert prices.index[0] < factor_multi_index_series.index.levels[0][0]\n",
        "\n",
        "\n",
        "    # factor_multi_index_series = factor_multi_index_series.reset_index(level='ticker')\n",
        "    # factor_multi_index_series = factor_multi_index_series.groupby('ticker').resample('C').asfreq()\n",
        "    # factor_multi_index_series = factor_multi_index_series.resample('D', level='date')\n",
        "    try:\n",
        "        data = al.utils.get_clean_factor_and_forward_returns(factor_df, \n",
        "                                                             prices, \n",
        "                                                             quantiles=None, \n",
        "                                                             bins=5,\n",
        "                                                            #  bins=[0, 0.25, 0.5 , 0.75, 1], \n",
        "                                                             periods=[3, 7, 14, 21, 30],\n",
        "                                                             max_loss=1)\n",
        "        factor_data[sentiment] = data\n",
        "    \n",
        "    except ValueError:\n",
        "      # if len(factor_dateindex.intersection(prices.index)) == 0:\n",
        "      #   # All dates of all facotrs are on a trading holiday, like Jan 1, so no prices\n",
        "      #   # Shift interpolate the next price\n",
        "      #   aligned_prices, temp  =  align_index_of_prices_df_to_cosine_similarities_df(prices_df=prices.copy(), \n",
        "      #                                             cs_df=cosine_similarities_df.copy(), \n",
        "      #                                             sentiment=sentiment,\n",
        "      #                                             ticker='AMZN')\n",
        "      #   data = al.utils.get_clean_factor_and_forward_returns(factor_df, aligned_prices, quantiles=5, bins=None, periods=[1],  max_loss=0)\n",
        "      #   factor_data[sentiment] = data\n",
        "      # else:\n",
        "      #   # data = al.utils.get_clean_factor_and_forward_returns(factor_df, prices, quantiles=5, bins=None, periods=[1], max_loss=0)\n",
        "      #   # factor_data[sentiment] = data\n",
        "      skipped_sentiments.append(sentiment)\n",
        "\n",
        "if skipped_sentiments:\n",
        "    print('\\nSkipped the following sentiments:\\n{}'.format('\\n'.join(skipped_sentiments)))\n",
        "factor_data[sentiments[0]].head()"
      ],
      "execution_count": 185,
      "outputs": [
        {
          "output_type": "stream",
          "text": [
            "Dropped 12.3% entries from factor data: 12.3% in forward returns computation and 0.0% in binning phase (set max_loss=0 to see potentially suppressed Exceptions).\n",
            "max_loss is 100.0%, not exceeded: OK!\n",
            "Dropped 12.3% entries from factor data: 12.3% in forward returns computation and 0.0% in binning phase (set max_loss=0 to see potentially suppressed Exceptions).\n",
            "max_loss is 100.0%, not exceeded: OK!\n",
            "Dropped 12.3% entries from factor data: 12.3% in forward returns computation and 0.0% in binning phase (set max_loss=0 to see potentially suppressed Exceptions).\n",
            "max_loss is 100.0%, not exceeded: OK!\n",
            "Dropped 12.3% entries from factor data: 12.3% in forward returns computation and 0.0% in binning phase (set max_loss=0 to see potentially suppressed Exceptions).\n",
            "max_loss is 100.0%, not exceeded: OK!\n",
            "Dropped 12.3% entries from factor data: 12.3% in forward returns computation and 0.0% in binning phase (set max_loss=0 to see potentially suppressed Exceptions).\n",
            "max_loss is 100.0%, not exceeded: OK!\n",
            "Dropped 12.3% entries from factor data: 12.3% in forward returns computation and 0.0% in binning phase (set max_loss=0 to see potentially suppressed Exceptions).\n",
            "max_loss is 100.0%, not exceeded: OK!\n"
          ],
          "name": "stdout"
        },
        {
          "output_type": "execute_result",
          "data": {
            "text/html": [
              "<div>\n",
              "<style scoped>\n",
              "    .dataframe tbody tr th:only-of-type {\n",
              "        vertical-align: middle;\n",
              "    }\n",
              "\n",
              "    .dataframe tbody tr th {\n",
              "        vertical-align: top;\n",
              "    }\n",
              "\n",
              "    .dataframe thead th {\n",
              "        text-align: right;\n",
              "    }\n",
              "</style>\n",
              "<table border=\"1\" class=\"dataframe\">\n",
              "  <thead>\n",
              "    <tr style=\"text-align: right;\">\n",
              "      <th></th>\n",
              "      <th></th>\n",
              "      <th>3D</th>\n",
              "      <th>7D</th>\n",
              "      <th>14D</th>\n",
              "      <th>21D</th>\n",
              "      <th>30D</th>\n",
              "      <th>factor</th>\n",
              "      <th>factor_quantile</th>\n",
              "    </tr>\n",
              "    <tr>\n",
              "      <th>date</th>\n",
              "      <th>asset</th>\n",
              "      <th></th>\n",
              "      <th></th>\n",
              "      <th></th>\n",
              "      <th></th>\n",
              "      <th></th>\n",
              "      <th></th>\n",
              "      <th></th>\n",
              "    </tr>\n",
              "  </thead>\n",
              "  <tbody>\n",
              "    <tr>\n",
              "      <th>2000-01-03</th>\n",
              "      <th>AMZN</th>\n",
              "      <td>-0.26643357</td>\n",
              "      <td>-0.22587413</td>\n",
              "      <td>-0.28111888</td>\n",
              "      <td>-0.21538462</td>\n",
              "      <td>-0.22307692</td>\n",
              "      <td>0.69837581</td>\n",
              "      <td>5</td>\n",
              "    </tr>\n",
              "    <tr>\n",
              "      <th>2000-01-04</th>\n",
              "      <th>AMZN</th>\n",
              "      <td>-0.15102975</td>\n",
              "      <td>-0.18535469</td>\n",
              "      <td>-0.21739130</td>\n",
              "      <td>-0.15484363</td>\n",
              "      <td>0.02745995</td>\n",
              "      <td>0.69837581</td>\n",
              "      <td>5</td>\n",
              "    </tr>\n",
              "    <tr>\n",
              "      <th>2000-01-05</th>\n",
              "      <th>AMZN</th>\n",
              "      <td>-0.00268817</td>\n",
              "      <td>-0.08870968</td>\n",
              "      <td>-0.04211470</td>\n",
              "      <td>-0.07078853</td>\n",
              "      <td>0.12634409</td>\n",
              "      <td>0.69837581</td>\n",
              "      <td>5</td>\n",
              "    </tr>\n",
              "    <tr>\n",
              "      <th>2000-01-06</th>\n",
              "      <th>AMZN</th>\n",
              "      <td>0.06101049</td>\n",
              "      <td>0.00571973</td>\n",
              "      <td>-0.01239276</td>\n",
              "      <td>0.02097235</td>\n",
              "      <td>0.19828408</td>\n",
              "      <td>0.69837581</td>\n",
              "      <td>5</td>\n",
              "    </tr>\n",
              "    <tr>\n",
              "      <th>2000-01-07</th>\n",
              "      <th>AMZN</th>\n",
              "      <td>-0.00539084</td>\n",
              "      <td>-0.07637017</td>\n",
              "      <td>-0.10781671</td>\n",
              "      <td>-0.11320755</td>\n",
              "      <td>0.12938005</td>\n",
              "      <td>0.69837581</td>\n",
              "      <td>5</td>\n",
              "    </tr>\n",
              "  </tbody>\n",
              "</table>\n",
              "</div>"
            ],
            "text/plain": [
              "                          3D          7D  ...     factor  factor_quantile\n",
              "date       asset                          ...                            \n",
              "2000-01-03 AMZN  -0.26643357 -0.22587413  ... 0.69837581                5\n",
              "2000-01-04 AMZN  -0.15102975 -0.18535469  ... 0.69837581                5\n",
              "2000-01-05 AMZN  -0.00268817 -0.08870968  ... 0.69837581                5\n",
              "2000-01-06 AMZN   0.06101049  0.00571973  ... 0.69837581                5\n",
              "2000-01-07 AMZN  -0.00539084 -0.07637017  ... 0.69837581                5\n",
              "\n",
              "[5 rows x 7 columns]"
            ]
          },
          "metadata": {
            "tags": []
          },
          "execution_count": 185
        }
      ]
    },
    {
      "cell_type": "markdown",
      "metadata": {
        "id": "GKcjTpFd5_Np"
      },
      "source": [
        "### Alphalens Format with Unix Time\n",
        "Alphalen's `factor_rank_autocorrelation` and `mean_return_by_quantile` functions require unix timestamps to work, so we'll also create factor dataframes with unix time."
      ]
    },
    {
      "cell_type": "code",
      "metadata": {
        "id": "vibRc0e1vHQL"
      },
      "source": [
        "def datetime_to_epoch(ser):\n",
        "    \"\"\"Don't convert NaT to large negative values.\"\"\"\n",
        "    if ser.hasnans:\n",
        "        res = ser.dropna().astype('int64').astype('Int64').reindex(index=ser.index)\n",
        "    else:\n",
        "        res = ser.astype('int64')\n",
        "\n",
        "    return res // 10**9"
      ],
      "execution_count": 254,
      "outputs": []
    },
    {
      "cell_type": "code",
      "metadata": {
        "id": "oo0Qj7ovvcIy"
      },
      "source": [
        "unixt_factor_data = {\n",
        "    factor: data.set_index(pd.MultiIndex.from_tuples(\n",
        "        [(x.timestamp(), y) for x, y in data.index.values],\n",
        "        names=['date', 'asset']))\n",
        "    for factor, data in factor_data.items()}"
      ],
      "execution_count": 270,
      "outputs": []
    },
    {
      "cell_type": "code",
      "metadata": {
        "id": "0LTB0IUvsnFk",
        "colab": {
          "base_uri": "https://localhost:8080/",
          "height": 235
        },
        "outputId": "e4949ee5-6882-4e93-b1bc-eff77c1fa7f4"
      },
      "source": [
        "unixt_factor_data['constraining']"
      ],
      "execution_count": 260,
      "outputs": [
        {
          "output_type": "execute_result",
          "data": {
            "text/html": [
              "<div>\n",
              "<style scoped>\n",
              "    .dataframe tbody tr th:only-of-type {\n",
              "        vertical-align: middle;\n",
              "    }\n",
              "\n",
              "    .dataframe tbody tr th {\n",
              "        vertical-align: top;\n",
              "    }\n",
              "\n",
              "    .dataframe thead th {\n",
              "        text-align: right;\n",
              "    }\n",
              "</style>\n",
              "<table border=\"1\" class=\"dataframe\">\n",
              "  <thead>\n",
              "    <tr style=\"text-align: right;\">\n",
              "      <th></th>\n",
              "      <th></th>\n",
              "      <th>3D</th>\n",
              "      <th>7D</th>\n",
              "      <th>14D</th>\n",
              "      <th>21D</th>\n",
              "      <th>30D</th>\n",
              "      <th>factor</th>\n",
              "      <th>factor_quantile</th>\n",
              "    </tr>\n",
              "    <tr>\n",
              "      <th>date</th>\n",
              "      <th>asset</th>\n",
              "      <th></th>\n",
              "      <th></th>\n",
              "      <th></th>\n",
              "      <th></th>\n",
              "      <th></th>\n",
              "      <th></th>\n",
              "      <th></th>\n",
              "    </tr>\n",
              "  </thead>\n",
              "  <tbody>\n",
              "    <tr>\n",
              "      <th>946857600.00000000</th>\n",
              "      <th>AMZN</th>\n",
              "      <td>-0.26643357</td>\n",
              "      <td>-0.22587413</td>\n",
              "      <td>-0.28111888</td>\n",
              "      <td>-0.21538462</td>\n",
              "      <td>-0.22307692</td>\n",
              "      <td>0.80638603</td>\n",
              "      <td>5</td>\n",
              "    </tr>\n",
              "    <tr>\n",
              "      <th>946944000.00000000</th>\n",
              "      <th>AMZN</th>\n",
              "      <td>-0.15102975</td>\n",
              "      <td>-0.18535469</td>\n",
              "      <td>-0.21739130</td>\n",
              "      <td>-0.15484363</td>\n",
              "      <td>0.02745995</td>\n",
              "      <td>0.80638603</td>\n",
              "      <td>5</td>\n",
              "    </tr>\n",
              "    <tr>\n",
              "      <th>947030400.00000000</th>\n",
              "      <th>AMZN</th>\n",
              "      <td>-0.00268817</td>\n",
              "      <td>-0.08870968</td>\n",
              "      <td>-0.04211470</td>\n",
              "      <td>-0.07078853</td>\n",
              "      <td>0.12634409</td>\n",
              "      <td>0.80638603</td>\n",
              "      <td>5</td>\n",
              "    </tr>\n",
              "    <tr>\n",
              "      <th>947116800.00000000</th>\n",
              "      <th>AMZN</th>\n",
              "      <td>0.06101049</td>\n",
              "      <td>0.00571973</td>\n",
              "      <td>-0.01239276</td>\n",
              "      <td>0.02097235</td>\n",
              "      <td>0.19828408</td>\n",
              "      <td>0.80638603</td>\n",
              "      <td>5</td>\n",
              "    </tr>\n",
              "    <tr>\n",
              "      <th>947203200.00000000</th>\n",
              "      <th>AMZN</th>\n",
              "      <td>-0.00539084</td>\n",
              "      <td>-0.07637017</td>\n",
              "      <td>-0.10781671</td>\n",
              "      <td>-0.11320755</td>\n",
              "      <td>0.12938005</td>\n",
              "      <td>0.80638603</td>\n",
              "      <td>5</td>\n",
              "    </tr>\n",
              "  </tbody>\n",
              "</table>\n",
              "</div>"
            ],
            "text/plain": [
              "                                  3D          7D  ...     factor  factor_quantile\n",
              "date               asset                          ...                            \n",
              "946857600.00000000 AMZN  -0.26643357 -0.22587413  ... 0.80638603                5\n",
              "946944000.00000000 AMZN  -0.15102975 -0.18535469  ... 0.80638603                5\n",
              "947030400.00000000 AMZN  -0.00268817 -0.08870968  ... 0.80638603                5\n",
              "947116800.00000000 AMZN   0.06101049  0.00571973  ... 0.80638603                5\n",
              "947203200.00000000 AMZN  -0.00539084 -0.07637017  ... 0.80638603                5\n",
              "\n",
              "[5 rows x 7 columns]"
            ]
          },
          "metadata": {
            "tags": []
          },
          "execution_count": 260
        }
      ]
    },
    {
      "cell_type": "markdown",
      "metadata": {
        "id": "PeRxC1K05_Np"
      },
      "source": [
        "### Factor Returns\n",
        "Let's view the factor returns over time. We should be seeing it generally move up and to the right."
      ]
    },
    {
      "cell_type": "markdown",
      "metadata": {
        "id": "cetSMjpoXBUP"
      },
      "source": [
        ""
      ]
    },
    {
      "cell_type": "code",
      "metadata": {
        "colab": {
          "base_uri": "https://localhost:8080/",
          "height": 235
        },
        "id": "_JkYgU9DjLU8",
        "outputId": "3e11a20c-c544-4efc-eb7a-df3da2878ebc"
      },
      "source": [
        "ls_factor_returns = pd.DataFrame()\n",
        "for factor_name, data in factor_data.items():\n",
        "    ls_factor_returns[factor_name] = al.performance.factor_returns(data).iloc[:, 0]\n",
        "ls_factor_returns.index = pd.to_datetime(ls_factor_returns.index)\n",
        "\n",
        "ls_factor_returns.head()"
      ],
      "execution_count": 215,
      "outputs": [
        {
          "output_type": "execute_result",
          "data": {
            "text/html": [
              "<div>\n",
              "<style scoped>\n",
              "    .dataframe tbody tr th:only-of-type {\n",
              "        vertical-align: middle;\n",
              "    }\n",
              "\n",
              "    .dataframe tbody tr th {\n",
              "        vertical-align: top;\n",
              "    }\n",
              "\n",
              "    .dataframe thead th {\n",
              "        text-align: right;\n",
              "    }\n",
              "</style>\n",
              "<table border=\"1\" class=\"dataframe\">\n",
              "  <thead>\n",
              "    <tr style=\"text-align: right;\">\n",
              "      <th></th>\n",
              "      <th>negative</th>\n",
              "      <th>positive</th>\n",
              "      <th>uncertainty</th>\n",
              "      <th>litigious</th>\n",
              "      <th>constraining</th>\n",
              "      <th>interesting</th>\n",
              "    </tr>\n",
              "    <tr>\n",
              "      <th>date</th>\n",
              "      <th></th>\n",
              "      <th></th>\n",
              "      <th></th>\n",
              "      <th></th>\n",
              "      <th></th>\n",
              "      <th></th>\n",
              "    </tr>\n",
              "  </thead>\n",
              "  <tbody>\n",
              "    <tr>\n",
              "      <th>2000-01-03</th>\n",
              "      <td>-0.03945487</td>\n",
              "      <td>-0.01831068</td>\n",
              "      <td>0.00404336</td>\n",
              "      <td>0.02702878</td>\n",
              "      <td>-0.01919714</td>\n",
              "      <td>-0.01763215</td>\n",
              "    </tr>\n",
              "    <tr>\n",
              "      <th>2000-01-04</th>\n",
              "      <td>-0.06503495</td>\n",
              "      <td>-0.02452947</td>\n",
              "      <td>-0.07863293</td>\n",
              "      <td>0.02846164</td>\n",
              "      <td>-0.02285956</td>\n",
              "      <td>0.00479103</td>\n",
              "    </tr>\n",
              "    <tr>\n",
              "      <th>2000-01-05</th>\n",
              "      <td>-0.03713849</td>\n",
              "      <td>-0.01414131</td>\n",
              "      <td>-0.06092128</td>\n",
              "      <td>0.01076666</td>\n",
              "      <td>-0.01256986</td>\n",
              "      <td>0.00790475</td>\n",
              "    </tr>\n",
              "    <tr>\n",
              "      <th>2000-01-06</th>\n",
              "      <td>-0.02151329</td>\n",
              "      <td>-0.00801219</td>\n",
              "      <td>-0.05480394</td>\n",
              "      <td>0.00025869</td>\n",
              "      <td>-0.00635776</td>\n",
              "      <td>0.01121648</td>\n",
              "    </tr>\n",
              "    <tr>\n",
              "      <th>2000-01-07</th>\n",
              "      <td>-0.00793441</td>\n",
              "      <td>-0.01233761</td>\n",
              "      <td>-0.00239772</td>\n",
              "      <td>-0.01345978</td>\n",
              "      <td>-0.01217644</td>\n",
              "      <td>-0.01109099</td>\n",
              "    </tr>\n",
              "  </tbody>\n",
              "</table>\n",
              "</div>"
            ],
            "text/plain": [
              "              negative    positive  ...  constraining  interesting\n",
              "date                                ...                           \n",
              "2000-01-03 -0.03945487 -0.01831068  ...   -0.01919714  -0.01763215\n",
              "2000-01-04 -0.06503495 -0.02452947  ...   -0.02285956   0.00479103\n",
              "2000-01-05 -0.03713849 -0.01414131  ...   -0.01256986   0.00790475\n",
              "2000-01-06 -0.02151329 -0.00801219  ...   -0.00635776   0.01121648\n",
              "2000-01-07 -0.00793441 -0.01233761  ...   -0.01217644  -0.01109099\n",
              "\n",
              "[5 rows x 6 columns]"
            ]
          },
          "metadata": {
            "tags": []
          },
          "execution_count": 215
        }
      ]
    },
    {
      "cell_type": "code",
      "metadata": {
        "colab": {
          "base_uri": "https://localhost:8080/",
          "height": 296
        },
        "id": "UWAUPGmBmV9a",
        "outputId": "7d6b6b8d-899a-4396-bc12-775203ae061b"
      },
      "source": [
        "(1 + ls_factor_returns).cumprod().plot()"
      ],
      "execution_count": 216,
      "outputs": [
        {
          "output_type": "execute_result",
          "data": {
            "text/plain": [
              "<matplotlib.axes._subplots.AxesSubplot at 0x7f6ae2cd8b50>"
            ]
          },
          "metadata": {
            "tags": []
          },
          "execution_count": 216
        },
        {
          "output_type": "display_data",
          "data": {
            "image/png": "[encoded data removed]",
            "text/plain": [
              "<Figure size 432x288 with 1 Axes>"
            ]
          },
          "metadata": {
            "tags": [],
            "needs_background": "light"
          }
        }
      ]
    },
    {
      "cell_type": "markdown",
      "metadata": {
        "id": "owPSo11ygXcc"
      },
      "source": [
        "Lets look at only 2019 through 2021."
      ]
    },
    {
      "cell_type": "code",
      "metadata": {
        "colab": {
          "base_uri": "https://localhost:8080/",
          "height": 308
        },
        "id": "Dh9OLI5sgBuP",
        "outputId": "568ee5a2-d297-4d06-b766-ec0f6b9f0828"
      },
      "source": [
        "(1 + ls_factor_returns.loc['2019':,:]).cumprod().plot()"
      ],
      "execution_count": 217,
      "outputs": [
        {
          "output_type": "execute_result",
          "data": {
            "text/plain": [
              "<matplotlib.axes._subplots.AxesSubplot at 0x7f6ae38c5750>"
            ]
          },
          "metadata": {
            "tags": []
          },
          "execution_count": 217
        },
        {
          "output_type": "display_data",
          "data": {
            "image/png": "[encoded data removed]",
            "text/plain": [
              "<Figure size 432x288 with 1 Axes>"
            ]
          },
          "metadata": {
            "tags": [],
            "needs_background": "light"
          }
        }
      ]
    },
    {
      "cell_type": "markdown",
      "metadata": {
        "id": "AB6H8Sbf5_Ns"
      },
      "source": [
        "### Basis Points Per Day per Quantile\n",
        "It is not enough to look just at the factor weighted return. A good alpha is also monotonic in quantiles. Let's looks the basis points for the factor returns."
      ]
    },
    {
      "cell_type": "code",
      "metadata": {
        "id": "S4gTq26B5_Ns"
      },
      "source": [
        "qr_factor_returns = pd.DataFrame()\n",
        "\n",
        "for factor_name, data in unixt_factor_data.items():\n",
        "    qr_factor_returns[factor_name] = al.performance.mean_return_by_quantile(data)[0].iloc[:, 0]\n",
        "qr_factor_returns = qr_factor_returns.set_index(pd.to_datetime(qr_factor_returns.index))"
      ],
      "execution_count": 218,
      "outputs": []
    },
    {
      "cell_type": "code",
      "metadata": {
        "colab": {
          "base_uri": "https://localhost:8080/",
          "height": 522
        },
        "id": "aOS3h4C1jUpn",
        "outputId": "97b46b9e-ca36-426b-e17c-f5cee614a66e"
      },
      "source": [
        "(10000*qr_factor_returns).plot.bar(\n",
        "    subplots=True,\n",
        "    sharey=True,\n",
        "    layout=(5,3),\n",
        "    figsize=(14, 14),\n",
        "    legend=False);"
      ],
      "execution_count": 219,
      "outputs": [
        {
          "output_type": "display_data",
          "data": {
            "image/png": "[encoded data removed]",
            "text/plain": [
              "<Figure size 1008x1008 with 15 Axes>"
            ]
          },
          "metadata": {
            "tags": [],
            "needs_background": "light"
          }
        }
      ]
    },
    {
      "cell_type": "markdown",
      "metadata": {
        "id": "9o5a-c2F5_Nt"
      },
      "source": [
        "### Turnover Analysis\n",
        "Without doing a full and formal backtest, we can analyze how stable the alphas are over time. Stability in this sense means that from period to period, the alpha ranks do not change much. Since trading is costly, we always prefer, all other things being equal, that the ranks do not change significantly per period. We can measure this with the **Factor Rank Autocorrelation (FRA)**."
      ]
    },
    {
      "cell_type": "code",
      "metadata": {
        "id": "7x2pjJnB5_Nt"
      },
      "source": [
        "ls_FRA = pd.DataFrame()\n",
        "\n",
        "for factor, data in unixt_factor_data.items():\n",
        "    ls_FRA[factor] = al.performance.factor_rank_autocorrelation(data)\n",
        "ls_FRA.index = pd.to_datetime((ls_FRA.index*1e9).astype('int64'))\n"
      ],
      "execution_count": 250,
      "outputs": []
    },
    {
      "cell_type": "code",
      "metadata": {
        "colab": {
          "base_uri": "https://localhost:8080/",
          "height": 295
        },
        "id": "C56X0wNkjtRJ",
        "outputId": "b475c76b-cc6a-4046-93a3-a67caac3a4a9"
      },
      "source": [
        "ls_FRA.plot(title=\"Factor Rank Autocorrelation\");"
      ],
      "execution_count": 251,
      "outputs": [
        {
          "output_type": "display_data",
          "data": {
            "image/png": "[encoded data removed]",
            "text/plain": [
              "<Figure size 432x288 with 1 Axes>"
            ]
          },
          "metadata": {
            "tags": [],
            "needs_background": "light"
          }
        }
      ]
    },
    {
      "cell_type": "code",
      "metadata": {
        "colab": {
          "base_uri": "https://localhost:8080/",
          "height": 316
        },
        "id": "QVCm4v4BkwWg",
        "outputId": "9c94f05c-a2c9-4a5b-c3c3-af185facb6d1"
      },
      "source": [
        "ls_FRA.loc['2020':,:].resample('Q').plot(title=\"Factor Rank Autocorrelation\");"
      ],
      "execution_count": 243,
      "outputs": [
        {
          "output_type": "display_data",
          "data": {
            "image/png": "[encoded data removed]",
            "text/plain": [
              "<Figure size 432x288 with 1 Axes>"
            ]
          },
          "metadata": {
            "tags": [],
            "needs_background": "light"
          }
        }
      ]
    },
    {
      "cell_type": "code",
      "metadata": {
        "id": "ZX0XzB6D8jgC"
      },
      "source": [
        ""
      ],
      "execution_count": null,
      "outputs": []
    },
    {
      "cell_type": "markdown",
      "metadata": {
        "id": "i51q_WuIplV4"
      },
      "source": [
        "# Write-up\n"
      ]
    },
    {
      "cell_type": "markdown",
      "metadata": {
        "id": "ccurzzdMpsVt"
      },
      "source": [
        "The notebook didn't run all the way through out-of-the-box. I made some changes to make it work. Unfortunately, I spent too much time debugging a library (alphalens) that isn't updated anymore and was lacking core functionality to do the analysis without making the bias that the notebook author made.\n",
        "\n",
        "The alphalens documentation seems to show that all data points must have the same frequency ex pd.datetime frequency ='D', or 'M', or Y. However, we know the SEC filings are nearly never filed on a constant cadence, and filings across companies do not happen on the same day.. The original author of the notebook compromises, introducing bias, by: \n",
        "setting all companies SEC filing date to the same date\n",
        "setting all SEC filings to the first date of the year.\n",
        "\n",
        "There may be a better-equipped library that already does what I'm looking for.\n",
        "\n",
        "## Changes\n",
        "\n",
        "The changes I made include:\n",
        "\n",
        "* Update requirements.txt to use newest versions, when compatible\n",
        "\n",
        "* Install retrying module, and add @retry decorators to get_sec() so that the function retries checking the SEC RSS feed a few times until it gets all the required data, instead of gathering NoneType data, then continuing to throw an exception later.\n",
        "\n",
        "* Import jaccard_score from sklearn.metrics, instead of jaccard_similarity. The function name as changed in sklearn 0.24, and the old function name was removed. \n",
        "\n",
        "* Add working data source (yfinance, via Yahoo Finance) for price data. The author had left the notebook user to get their own data, possibly due to licensing issues.\n",
        "\n",
        "* Make cosine_similarities_dfs variable fit the alphalens documentation's expected parameters (Multi-index series).\n",
        "\n",
        "* Change min period for alpha calulations to 3, instead of 1, to avoid unpredictable look-back bias due to ambiguity on if sec filings were made before market hours, or after market hours, on any given trading day.\n",
        "\n",
        "* Delete the section titled, \"Sharpe Ratio of the Alphas\". The math makes no sense, as-implemented, and neither does the title.\n",
        "\n",
        "\n",
        "\n"
      ]
    },
    {
      "cell_type": "markdown",
      "metadata": {
        "id": "CndlrvlorIxo"
      },
      "source": [
        "## Future work:\n",
        "\n",
        "* Find a better price data source for EOD data. Yahoo Finance doesn't go back vary far. QuantConnect  is where I'll look next as they have a python library target algo-traders who are migrating from Quantopian. Also, maybe SimFin, or a python bridge to TWS client or TOS client via DDE on Windows.\n",
        "\n",
        "* Try alternative data sources. I'm interested in NLP on the textual data in the monthly PMI releases (full name: ISM Report on Business, Purchasing Manager's Index).\n",
        "\n",
        "* Using 'ffill' on the non-filing days introduces major bias, by treating each forward-filled day as if it were a fresh SEC filing with identical text to the most recent filing. A proper approach could consider a factors such as 'factor[0], factor[1], ... interesting[80]' which could be interpretted as \"factor-on-day-of-sec-filing, factor-1-day-after-sec-filing, ... factor-n-days-after-sec-filing.\n"
      ]
    },
    {
      "cell_type": "code",
      "metadata": {
        "id": "YynNlIk4pnmJ"
      },
      "source": [
        ""
      ],
      "execution_count": null,
      "outputs": []
    }
  ]
}